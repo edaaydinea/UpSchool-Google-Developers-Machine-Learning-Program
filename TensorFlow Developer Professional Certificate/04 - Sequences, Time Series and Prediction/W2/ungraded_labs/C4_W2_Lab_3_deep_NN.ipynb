{
  "cells": [
    {
      "cell_type": "markdown",
      "metadata": {
        "id": "tWtbteq57gfY"
      },
      "source": [
        "<a href=\"https://colab.research.google.com/github/https-deeplearning-ai/tensorflow-1-public/blob/main/C4/W2/ungraded_labs/C4_W2_Lab_3_deep_NN.ipynb\" target=\"_parent\"><img src=\"https://colab.research.google.com/assets/colab-badge.svg\" alt=\"Open In Colab\"/></a>"
      ]
    },
    {
      "cell_type": "markdown",
      "metadata": {
        "id": "dxFGlX1S53mg"
      },
      "source": [
        "# Ungraded Lab: Training a Deep Neural Network with Time Series Data\n",
        "\n",
        "In this lab, you will build upon the previous exercise and add more dense layers to your network. You will also look at a technique to tune the model's learning rate to make the weights converge faster. This is a useful tip so you can avoid guessing the learning rate before training.\n",
        "\n",
        "The initial steps will be identical to the previous lab so you can run the next cells until the `Build the Model` section. That's where the discussions begin."
      ]
    },
    {
      "cell_type": "markdown",
      "metadata": {
        "id": "w5S4XCUZ6GH7"
      },
      "source": [
        "## Imports"
      ]
    },
    {
      "cell_type": "code",
      "execution_count": 1,
      "metadata": {
        "id": "BOjujz601HcS"
      },
      "outputs": [],
      "source": [
        "import tensorflow as tf\n",
        "import numpy as np\n",
        "import matplotlib.pyplot as plt"
      ]
    },
    {
      "cell_type": "markdown",
      "metadata": {
        "id": "tjC8TSkp6IiH"
      },
      "source": [
        "## Utilities"
      ]
    },
    {
      "cell_type": "code",
      "execution_count": 2,
      "metadata": {
        "id": "Zswl7jRtGzkk"
      },
      "outputs": [],
      "source": [
        "def plot_series(time, series, format=\"-\", start=0, end=None):\n",
        "    \"\"\"\n",
        "    Visualizes time series data\n",
        "\n",
        "    Args:\n",
        "      time (array of int) - contains the time steps\n",
        "      series (array of int) - contains the measurements for each time step\n",
        "      format - line style when plotting the graph\n",
        "      label - tag for the line\n",
        "      start - first time step to plot\n",
        "      end - last time step to plot\n",
        "    \"\"\"\n",
        "\n",
        "    # Setup dimensions of the graph figure\n",
        "    plt.figure(figsize=(10, 6))\n",
        "    \n",
        "    if type(series) is tuple:\n",
        "\n",
        "      for series_num in series:\n",
        "        # Plot the time series data\n",
        "        plt.plot(time[start:end], series_num[start:end], format)\n",
        "\n",
        "    else:\n",
        "      # Plot the time series data\n",
        "      plt.plot(time[start:end], series[start:end], format)\n",
        "\n",
        "    # Label the x-axis\n",
        "    plt.xlabel(\"Time\")\n",
        "\n",
        "    # Label the y-axis\n",
        "    plt.ylabel(\"Value\")\n",
        "\n",
        "    # Overlay a grid on the graph\n",
        "    plt.grid(True)\n",
        "\n",
        "    # Draw the graph on screen\n",
        "    plt.show()\n",
        "\n",
        "def trend(time, slope=0):\n",
        "    \"\"\"\n",
        "    Generates synthetic data that follows a straight line given a slope value.\n",
        "\n",
        "    Args:\n",
        "      time (array of int) - contains the time steps\n",
        "      slope (float) - determines the direction and steepness of the line\n",
        "\n",
        "    Returns:\n",
        "      series (array of float) - measurements that follow a straight line\n",
        "    \"\"\"\n",
        "\n",
        "    # Compute the linear series given the slope\n",
        "    series = slope * time\n",
        "\n",
        "    return series\n",
        "\n",
        "def seasonal_pattern(season_time):\n",
        "    \"\"\"\n",
        "    Just an arbitrary pattern, you can change it if you wish\n",
        "    \n",
        "    Args:\n",
        "      season_time (array of float) - contains the measurements per time step\n",
        "\n",
        "    Returns:\n",
        "      data_pattern (array of float) -  contains revised measurement values according \n",
        "                                  to the defined pattern\n",
        "    \"\"\"\n",
        "\n",
        "    # Generate the values using an arbitrary pattern\n",
        "    data_pattern = np.where(season_time < 0.4,\n",
        "                    np.cos(season_time * 2 * np.pi),\n",
        "                    1 / np.exp(3 * season_time))\n",
        "    \n",
        "    return data_pattern\n",
        "\n",
        "def seasonality(time, period, amplitude=1, phase=0):\n",
        "    \"\"\"\n",
        "    Repeats the same pattern at each period\n",
        "\n",
        "    Args:\n",
        "      time (array of int) - contains the time steps\n",
        "      period (int) - number of time steps before the pattern repeats\n",
        "      amplitude (int) - peak measured value in a period\n",
        "      phase (int) - number of time steps to shift the measured values\n",
        "\n",
        "    Returns:\n",
        "      data_pattern (array of float) - seasonal data scaled by the defined amplitude\n",
        "    \"\"\"\n",
        "    \n",
        "    # Define the measured values per period\n",
        "    season_time = ((time + phase) % period) / period\n",
        "\n",
        "    # Generates the seasonal data scaled by the defined amplitude\n",
        "    data_pattern = amplitude * seasonal_pattern(season_time)\n",
        "\n",
        "    return data_pattern\n",
        "\n",
        "def noise(time, noise_level=1, seed=None):\n",
        "    \"\"\"Generates a normally distributed noisy signal\n",
        "\n",
        "    Args:\n",
        "      time (array of int) - contains the time steps\n",
        "      noise_level (float) - scaling factor for the generated signal\n",
        "      seed (int) - number generator seed for repeatability\n",
        "\n",
        "    Returns:\n",
        "      noise (array of float) - the noisy signal\n",
        "    \"\"\"\n",
        "\n",
        "    # Initialize the random number generator\n",
        "    rnd = np.random.RandomState(seed)\n",
        "\n",
        "    # Generate a random number for each time step and scale by the noise level\n",
        "    noise = rnd.randn(len(time)) * noise_level\n",
        "    \n",
        "    return noise"
      ]
    },
    {
      "cell_type": "markdown",
      "metadata": {
        "id": "Z1CL6Bh86TS1"
      },
      "source": [
        "## Generate the Synthetic Data"
      ]
    },
    {
      "cell_type": "code",
      "execution_count": 3,
      "metadata": {
        "id": "5MFtI3X1FErU",
        "colab": {
          "base_uri": "https://localhost:8080/",
          "height": 388
        },
        "outputId": "520f9bc0-a31d-4228-b90f-46cba1006895"
      },
      "outputs": [
        {
          "output_type": "display_data",
          "data": {
            "text/plain": [
              "<Figure size 720x432 with 1 Axes>"
            ],
            "image/png": "[encoded data removed]"
          },
          "metadata": {
            "needs_background": "light"
          }
        }
      ],
      "source": [
        "# Parameters\n",
        "time = np.arange(4 * 365 + 1, dtype=\"float32\")\n",
        "baseline = 10\n",
        "amplitude = 40\n",
        "slope = 0.05\n",
        "noise_level = 5\n",
        "\n",
        "# Create the series\n",
        "series = baseline + trend(time, slope) + seasonality(time, period=365, amplitude=amplitude)\n",
        "\n",
        "# Update with noise\n",
        "series += noise(time, noise_level, seed=42)\n",
        "\n",
        "# Plot the results\n",
        "plot_series(time, series)"
      ]
    },
    {
      "cell_type": "markdown",
      "metadata": {
        "id": "t2YvxWcI6lnB"
      },
      "source": [
        "## Split the Dataset"
      ]
    },
    {
      "cell_type": "code",
      "execution_count": 4,
      "metadata": {
        "id": "Db9kkYnOFKYr"
      },
      "outputs": [],
      "source": [
        "# Define the split time\n",
        "split_time = 1000\n",
        "\n",
        "# Get the train set \n",
        "time_train = time[:split_time]\n",
        "x_train = series[:split_time]\n",
        "\n",
        "# Get the validation set\n",
        "time_valid = time[split_time:]\n",
        "x_valid = series[split_time:]"
      ]
    },
    {
      "cell_type": "markdown",
      "metadata": {
        "id": "XH-0FgXN6zHA"
      },
      "source": [
        "## Prepare Features and Labels"
      ]
    },
    {
      "cell_type": "code",
      "execution_count": 5,
      "metadata": {
        "id": "AyBwNWO1FVTS"
      },
      "outputs": [],
      "source": [
        "# Parameters\n",
        "window_size = 20\n",
        "batch_size = 32\n",
        "shuffle_buffer_size = 1000"
      ]
    },
    {
      "cell_type": "code",
      "execution_count": 6,
      "metadata": {
        "id": "4sTTIOCbyShY"
      },
      "outputs": [],
      "source": [
        "def windowed_dataset(series, window_size, batch_size, shuffle_buffer):\n",
        "    \"\"\"Generates dataset windows\n",
        "\n",
        "    Args:\n",
        "      series (array of float) - contains the values of the time series\n",
        "      window_size (int) - the number of time steps to average\n",
        "      batch_size (int) - the batch size\n",
        "      shuffle_buffer(int) - buffer size to use for the shuffle method\n",
        "\n",
        "    Returns:\n",
        "      dataset (TF Dataset) - TF Dataset containing time windows\n",
        "    \"\"\"\n",
        "  \n",
        "    # Generate a TF Dataset from the series values\n",
        "    dataset = tf.data.Dataset.from_tensor_slices(series)\n",
        "    \n",
        "    # Window the data but only take those with the specified size\n",
        "    dataset = dataset.window(window_size + 1, shift=1, drop_remainder=True)\n",
        "    \n",
        "    # Flatten the windows by putting its elements in a single batch\n",
        "    dataset = dataset.flat_map(lambda window: window.batch(window_size + 1))\n",
        "\n",
        "    # Create tuples with features and labels \n",
        "    dataset = dataset.map(lambda window: (window[:-1], window[-1]))\n",
        "\n",
        "    # Shuffle the windows\n",
        "    dataset = dataset.shuffle(shuffle_buffer)\n",
        "    \n",
        "    # Create batches of windows\n",
        "    dataset = dataset.batch(batch_size).prefetch(1)\n",
        "    \n",
        "    return dataset"
      ]
    },
    {
      "cell_type": "code",
      "execution_count": 7,
      "metadata": {
        "id": "AdNN0s9qFnTg"
      },
      "outputs": [],
      "source": [
        "# Generate the dataset windows\n",
        "dataset = windowed_dataset(x_train, window_size, batch_size, shuffle_buffer_size)"
      ]
    },
    {
      "cell_type": "markdown",
      "metadata": {
        "id": "ths8EcjQ7CG3"
      },
      "source": [
        "## Build the Model\n",
        "\n",
        "You will use three dense layers in this exercise as shown below. As expected, the number of trainable parameters will increase and the model summary shows that it is more than tenfold of the previous lab."
      ]
    },
    {
      "cell_type": "code",
      "execution_count": 8,
      "metadata": {
        "id": "TW-vT7eLYAdb",
        "colab": {
          "base_uri": "https://localhost:8080/"
        },
        "outputId": "30a8031c-4a16-4d3d-b85f-9a2a19dd8da9"
      },
      "outputs": [
        {
          "output_type": "stream",
          "name": "stdout",
          "text": [
            "Model: \"sequential\"\n",
            "_________________________________________________________________\n",
            " Layer (type)                Output Shape              Param #   \n",
            "=================================================================\n",
            " dense (Dense)               (None, 10)                210       \n",
            "                                                                 \n",
            " dense_1 (Dense)             (None, 10)                110       \n",
            "                                                                 \n",
            " dense_2 (Dense)             (None, 1)                 11        \n",
            "                                                                 \n",
            "=================================================================\n",
            "Total params: 331\n",
            "Trainable params: 331\n",
            "Non-trainable params: 0\n",
            "_________________________________________________________________\n"
          ]
        }
      ],
      "source": [
        "# Build the model\n",
        "model_baseline = tf.keras.models.Sequential([\n",
        "    tf.keras.layers.Dense(10, input_shape=[window_size], activation=\"relu\"), \n",
        "    tf.keras.layers.Dense(10, activation=\"relu\"), \n",
        "    tf.keras.layers.Dense(1)\n",
        "])\n",
        "\n",
        "# Print the model summary\n",
        "model_baseline.summary()"
      ]
    },
    {
      "cell_type": "markdown",
      "metadata": {
        "id": "4xWDKTGR7XQd"
      },
      "source": [
        "## Train the Model\n",
        "\n",
        "You will then compile and train the model using the same settings as before. Observe how the loss is decreasing because you will revisit it later in this lab."
      ]
    },
    {
      "cell_type": "code",
      "execution_count": 9,
      "metadata": {
        "id": "unwiKhWn7nqS"
      },
      "outputs": [],
      "source": [
        "# Set the training parameters\n",
        "model_baseline.compile(loss=\"mse\", optimizer=tf.keras.optimizers.SGD(learning_rate=1e-6, momentum=0.9))"
      ]
    },
    {
      "cell_type": "code",
      "execution_count": 10,
      "metadata": {
        "id": "zqVlvuneFqJz",
        "colab": {
          "base_uri": "https://localhost:8080/"
        },
        "outputId": "569c5859-c877-40f6-db66-367b9599048e"
      },
      "outputs": [
        {
          "output_type": "stream",
          "name": "stdout",
          "text": [
            "Epoch 1/100\n",
            "31/31 [==============================] - 3s 45ms/step - loss: 258.9276\n",
            "Epoch 2/100\n",
            "31/31 [==============================] - 1s 15ms/step - loss: 97.4962\n",
            "Epoch 3/100\n",
            "31/31 [==============================] - 1s 4ms/step - loss: 91.6387\n",
            "Epoch 4/100\n",
            "31/31 [==============================] - 1s 20ms/step - loss: 88.1215\n",
            "Epoch 5/100\n",
            "31/31 [==============================] - 1s 8ms/step - loss: 84.7689\n",
            "Epoch 6/100\n",
            "31/31 [==============================] - 1s 7ms/step - loss: 82.7303\n",
            "Epoch 7/100\n",
            "31/31 [==============================] - 1s 10ms/step - loss: 80.2769\n",
            "Epoch 8/100\n",
            "31/31 [==============================] - 1s 5ms/step - loss: 79.0751\n",
            "Epoch 9/100\n",
            "31/31 [==============================] - 1s 11ms/step - loss: 76.5417\n",
            "Epoch 10/100\n",
            "31/31 [==============================] - 1s 10ms/step - loss: 75.1876\n",
            "Epoch 11/100\n",
            "31/31 [==============================] - 1s 6ms/step - loss: 74.5197\n",
            "Epoch 12/100\n",
            "31/31 [==============================] - 1s 4ms/step - loss: 72.7945\n",
            "Epoch 13/100\n",
            "31/31 [==============================] - 0s 3ms/step - loss: 70.9860\n",
            "Epoch 14/100\n",
            "31/31 [==============================] - 0s 4ms/step - loss: 69.3160\n",
            "Epoch 15/100\n",
            "31/31 [==============================] - 0s 5ms/step - loss: 68.5828\n",
            "Epoch 16/100\n",
            "31/31 [==============================] - 1s 8ms/step - loss: 67.7979\n",
            "Epoch 17/100\n",
            "31/31 [==============================] - 1s 8ms/step - loss: 66.9562\n",
            "Epoch 18/100\n",
            "31/31 [==============================] - 0s 4ms/step - loss: 66.0837\n",
            "Epoch 19/100\n",
            "31/31 [==============================] - 0s 4ms/step - loss: 65.7073\n",
            "Epoch 20/100\n",
            "31/31 [==============================] - 0s 1ms/step - loss: 64.1653\n",
            "Epoch 21/100\n",
            "31/31 [==============================] - 0s 2ms/step - loss: 62.8771\n",
            "Epoch 22/100\n",
            "31/31 [==============================] - 0s 2ms/step - loss: 62.3966\n",
            "Epoch 23/100\n",
            "31/31 [==============================] - 0s 1ms/step - loss: 61.8942\n",
            "Epoch 24/100\n",
            "31/31 [==============================] - 0s 1ms/step - loss: 61.7615\n",
            "Epoch 25/100\n",
            "31/31 [==============================] - 0s 1ms/step - loss: 60.2498\n",
            "Epoch 26/100\n",
            "31/31 [==============================] - 0s 1ms/step - loss: 59.8930\n",
            "Epoch 27/100\n",
            "31/31 [==============================] - 0s 1ms/step - loss: 59.2071\n",
            "Epoch 28/100\n",
            "31/31 [==============================] - 0s 2ms/step - loss: 58.5232\n",
            "Epoch 29/100\n",
            "31/31 [==============================] - 0s 2ms/step - loss: 58.0372\n",
            "Epoch 30/100\n",
            "31/31 [==============================] - 0s 1ms/step - loss: 57.9878\n",
            "Epoch 31/100\n",
            "31/31 [==============================] - 0s 2ms/step - loss: 57.6205\n",
            "Epoch 32/100\n",
            "31/31 [==============================] - 0s 2ms/step - loss: 57.0304\n",
            "Epoch 33/100\n",
            "31/31 [==============================] - 0s 2ms/step - loss: 57.5959\n",
            "Epoch 34/100\n",
            "31/31 [==============================] - 0s 2ms/step - loss: 56.2312\n",
            "Epoch 35/100\n",
            "31/31 [==============================] - 0s 3ms/step - loss: 55.8435\n",
            "Epoch 36/100\n",
            "31/31 [==============================] - 0s 2ms/step - loss: 55.4707\n",
            "Epoch 37/100\n",
            "31/31 [==============================] - 0s 2ms/step - loss: 55.2696\n",
            "Epoch 38/100\n",
            "31/31 [==============================] - 0s 2ms/step - loss: 54.8207\n",
            "Epoch 39/100\n",
            "31/31 [==============================] - 0s 2ms/step - loss: 54.5044\n",
            "Epoch 40/100\n",
            "31/31 [==============================] - 0s 1ms/step - loss: 54.2943\n",
            "Epoch 41/100\n",
            "31/31 [==============================] - 0s 2ms/step - loss: 54.1398\n",
            "Epoch 42/100\n",
            "31/31 [==============================] - 0s 1ms/step - loss: 53.8091\n",
            "Epoch 43/100\n",
            "31/31 [==============================] - 0s 2ms/step - loss: 53.1441\n",
            "Epoch 44/100\n",
            "31/31 [==============================] - 0s 2ms/step - loss: 54.3005\n",
            "Epoch 45/100\n",
            "31/31 [==============================] - 0s 2ms/step - loss: 52.7979\n",
            "Epoch 46/100\n",
            "31/31 [==============================] - 0s 3ms/step - loss: 52.7919\n",
            "Epoch 47/100\n",
            "31/31 [==============================] - 0s 1ms/step - loss: 52.5960\n",
            "Epoch 48/100\n",
            "31/31 [==============================] - 0s 2ms/step - loss: 52.7501\n",
            "Epoch 49/100\n",
            "31/31 [==============================] - 0s 2ms/step - loss: 52.2774\n",
            "Epoch 50/100\n",
            "31/31 [==============================] - 0s 1ms/step - loss: 51.9791\n",
            "Epoch 51/100\n",
            "31/31 [==============================] - 0s 1ms/step - loss: 51.6035\n",
            "Epoch 52/100\n",
            "31/31 [==============================] - 0s 1ms/step - loss: 52.2248\n",
            "Epoch 53/100\n",
            "31/31 [==============================] - 0s 1ms/step - loss: 51.4467\n",
            "Epoch 54/100\n",
            "31/31 [==============================] - 0s 2ms/step - loss: 51.3096\n",
            "Epoch 55/100\n",
            "31/31 [==============================] - 0s 2ms/step - loss: 51.7009\n",
            "Epoch 56/100\n",
            "31/31 [==============================] - 0s 2ms/step - loss: 50.9281\n",
            "Epoch 57/100\n",
            "31/31 [==============================] - 0s 2ms/step - loss: 51.7218\n",
            "Epoch 58/100\n",
            "31/31 [==============================] - 0s 1ms/step - loss: 50.5384\n",
            "Epoch 59/100\n",
            "31/31 [==============================] - 0s 2ms/step - loss: 50.5145\n",
            "Epoch 60/100\n",
            "31/31 [==============================] - 0s 2ms/step - loss: 50.8075\n",
            "Epoch 61/100\n",
            "31/31 [==============================] - 0s 2ms/step - loss: 50.3559\n",
            "Epoch 62/100\n",
            "31/31 [==============================] - 0s 2ms/step - loss: 50.0030\n",
            "Epoch 63/100\n",
            "31/31 [==============================] - 0s 2ms/step - loss: 49.8533\n",
            "Epoch 64/100\n",
            "31/31 [==============================] - 0s 2ms/step - loss: 49.8072\n",
            "Epoch 65/100\n",
            "31/31 [==============================] - 0s 2ms/step - loss: 50.5238\n",
            "Epoch 66/100\n",
            "31/31 [==============================] - 0s 1ms/step - loss: 49.6522\n",
            "Epoch 67/100\n",
            "31/31 [==============================] - 0s 1ms/step - loss: 49.5504\n",
            "Epoch 68/100\n",
            "31/31 [==============================] - 0s 1ms/step - loss: 49.0991\n",
            "Epoch 69/100\n",
            "31/31 [==============================] - 0s 2ms/step - loss: 48.8912\n",
            "Epoch 70/100\n",
            "31/31 [==============================] - 0s 2ms/step - loss: 48.9070\n",
            "Epoch 71/100\n",
            "31/31 [==============================] - 0s 2ms/step - loss: 48.9144\n",
            "Epoch 72/100\n",
            "31/31 [==============================] - 0s 2ms/step - loss: 48.8919\n",
            "Epoch 73/100\n",
            "31/31 [==============================] - 0s 2ms/step - loss: 48.2845\n",
            "Epoch 74/100\n",
            "31/31 [==============================] - 0s 2ms/step - loss: 48.7654\n",
            "Epoch 75/100\n",
            "31/31 [==============================] - 0s 2ms/step - loss: 48.3787\n",
            "Epoch 76/100\n",
            "31/31 [==============================] - 0s 3ms/step - loss: 48.0715\n",
            "Epoch 77/100\n",
            "31/31 [==============================] - 0s 2ms/step - loss: 48.0049\n",
            "Epoch 78/100\n",
            "31/31 [==============================] - 0s 2ms/step - loss: 48.3616\n",
            "Epoch 79/100\n",
            "31/31 [==============================] - 0s 2ms/step - loss: 47.7465\n",
            "Epoch 80/100\n",
            "31/31 [==============================] - 0s 2ms/step - loss: 47.8492\n",
            "Epoch 81/100\n",
            "31/31 [==============================] - 0s 2ms/step - loss: 47.9611\n",
            "Epoch 82/100\n",
            "31/31 [==============================] - 0s 1ms/step - loss: 48.6544\n",
            "Epoch 83/100\n",
            "31/31 [==============================] - 0s 1ms/step - loss: 47.6628\n",
            "Epoch 84/100\n",
            "31/31 [==============================] - 0s 2ms/step - loss: 47.9834\n",
            "Epoch 85/100\n",
            "31/31 [==============================] - 0s 1ms/step - loss: 47.5564\n",
            "Epoch 86/100\n",
            "31/31 [==============================] - 0s 1ms/step - loss: 47.3572\n",
            "Epoch 87/100\n",
            "31/31 [==============================] - 0s 1ms/step - loss: 47.3684\n",
            "Epoch 88/100\n",
            "31/31 [==============================] - 0s 2ms/step - loss: 47.5899\n",
            "Epoch 89/100\n",
            "31/31 [==============================] - 0s 1ms/step - loss: 47.1246\n",
            "Epoch 90/100\n",
            "31/31 [==============================] - 0s 2ms/step - loss: 46.5974\n",
            "Epoch 91/100\n",
            "31/31 [==============================] - 0s 2ms/step - loss: 47.1595\n",
            "Epoch 92/100\n",
            "31/31 [==============================] - 0s 2ms/step - loss: 47.2378\n",
            "Epoch 93/100\n",
            "31/31 [==============================] - 0s 2ms/step - loss: 46.4996\n",
            "Epoch 94/100\n",
            "31/31 [==============================] - 0s 2ms/step - loss: 46.6319\n",
            "Epoch 95/100\n",
            "31/31 [==============================] - 0s 2ms/step - loss: 46.8497\n",
            "Epoch 96/100\n",
            "31/31 [==============================] - 0s 2ms/step - loss: 46.4237\n",
            "Epoch 97/100\n",
            "31/31 [==============================] - 0s 2ms/step - loss: 46.1185\n",
            "Epoch 98/100\n",
            "31/31 [==============================] - 0s 2ms/step - loss: 46.2251\n",
            "Epoch 99/100\n",
            "31/31 [==============================] - 0s 2ms/step - loss: 46.2159\n",
            "Epoch 100/100\n",
            "31/31 [==============================] - 0s 2ms/step - loss: 46.0048\n"
          ]
        },
        {
          "output_type": "execute_result",
          "data": {
            "text/plain": [
              "<keras.callbacks.History at 0x7fc56e877340>"
            ]
          },
          "metadata": {},
          "execution_count": 10
        }
      ],
      "source": [
        "# Train the model\n",
        "model_baseline.fit(dataset,epochs=100)"
      ]
    },
    {
      "cell_type": "markdown",
      "metadata": {
        "id": "0-5QVzo1Tv-_"
      },
      "source": [
        "You can then get some predictions and visualize it as before. Since the network is deeper, the predictions might go slower so you may want to minimize unnecessary computations. \n",
        "\n",
        "In the previous lab, you might remember the model generating predictions using the entire `series` data. That resulted in 1,441 points in the `forecast` list then you sliced the 461 points that aligns with the validation set using `forecast = forecast[split_time - window_size:]`. \n",
        "\n",
        "You can make this process faster by just generating 461 points right from the start. That way, you don't waste time predicting points that will just be thrown away later. The code below will do just that. It will just get the points needed from the original `series` before calling the `predict()` method. With that, all predictions will align with the validation set already and the for-loop will run for only 461 times instead of 1,441. \n",
        "\n",
        "In the next lab, you'll see an even faster way to generate these predictions."
      ]
    },
    {
      "cell_type": "code",
      "execution_count": null,
      "metadata": {
        "id": "efhco2rYyIFF",
        "colab": {
          "base_uri": "https://localhost:8080/"
        },
        "outputId": "63ed154e-ef8c-47e2-f94b-bdbb11b920c5"
      },
      "outputs": [
        {
          "output_type": "stream",
          "name": "stdout",
          "text": [
            "1/1 [==============================] - 0s 350ms/step\n",
            "1/1 [==============================] - 0s 17ms/step\n",
            "1/1 [==============================] - 0s 16ms/step\n",
            "1/1 [==============================] - 0s 16ms/step\n",
            "1/1 [==============================] - 0s 17ms/step\n",
            "1/1 [==============================] - 0s 16ms/step\n",
            "1/1 [==============================] - 0s 33ms/step\n",
            "1/1 [==============================] - 0s 25ms/step\n",
            "1/1 [==============================] - 0s 27ms/step\n",
            "1/1 [==============================] - 0s 33ms/step\n",
            "1/1 [==============================] - 0s 49ms/step\n",
            "1/1 [==============================] - 0s 30ms/step\n",
            "1/1 [==============================] - 0s 28ms/step\n",
            "1/1 [==============================] - 0s 38ms/step\n",
            "1/1 [==============================] - 0s 19ms/step\n",
            "1/1 [==============================] - 0s 16ms/step\n",
            "1/1 [==============================] - 0s 16ms/step\n",
            "1/1 [==============================] - 0s 17ms/step\n",
            "1/1 [==============================] - 0s 17ms/step\n",
            "1/1 [==============================] - 0s 16ms/step\n",
            "1/1 [==============================] - 0s 18ms/step\n",
            "1/1 [==============================] - 0s 46ms/step\n",
            "1/1 [==============================] - 0s 30ms/step\n",
            "1/1 [==============================] - 0s 38ms/step\n",
            "1/1 [==============================] - 0s 25ms/step\n",
            "1/1 [==============================] - 0s 24ms/step\n",
            "1/1 [==============================] - 0s 21ms/step\n",
            "1/1 [==============================] - 0s 22ms/step\n",
            "1/1 [==============================] - 0s 21ms/step\n",
            "1/1 [==============================] - 0s 21ms/step\n",
            "1/1 [==============================] - 0s 23ms/step\n",
            "1/1 [==============================] - 0s 34ms/step\n",
            "1/1 [==============================] - 0s 25ms/step\n",
            "1/1 [==============================] - 0s 21ms/step\n",
            "1/1 [==============================] - 0s 22ms/step\n",
            "1/1 [==============================] - 0s 21ms/step\n",
            "1/1 [==============================] - 0s 32ms/step\n",
            "1/1 [==============================] - 0s 22ms/step\n",
            "1/1 [==============================] - 0s 27ms/step\n",
            "1/1 [==============================] - 0s 24ms/step\n",
            "1/1 [==============================] - 0s 22ms/step\n",
            "1/1 [==============================] - 0s 22ms/step\n",
            "1/1 [==============================] - 0s 23ms/step\n",
            "1/1 [==============================] - 0s 24ms/step\n",
            "1/1 [==============================] - 0s 22ms/step\n",
            "1/1 [==============================] - 0s 24ms/step\n",
            "1/1 [==============================] - 0s 22ms/step\n",
            "1/1 [==============================] - 0s 23ms/step\n",
            "1/1 [==============================] - 0s 22ms/step\n",
            "1/1 [==============================] - 0s 21ms/step\n",
            "1/1 [==============================] - 0s 24ms/step\n",
            "1/1 [==============================] - 0s 30ms/step\n",
            "1/1 [==============================] - 0s 21ms/step\n",
            "1/1 [==============================] - 0s 21ms/step\n",
            "1/1 [==============================] - 0s 21ms/step\n",
            "1/1 [==============================] - 0s 22ms/step\n",
            "1/1 [==============================] - 0s 23ms/step\n",
            "1/1 [==============================] - 0s 23ms/step\n",
            "1/1 [==============================] - 0s 21ms/step\n",
            "1/1 [==============================] - 0s 23ms/step\n",
            "1/1 [==============================] - 0s 21ms/step\n",
            "1/1 [==============================] - 0s 21ms/step\n",
            "1/1 [==============================] - 0s 20ms/step\n",
            "1/1 [==============================] - 0s 23ms/step\n",
            "1/1 [==============================] - 0s 23ms/step\n",
            "1/1 [==============================] - 0s 22ms/step\n",
            "1/1 [==============================] - 0s 21ms/step\n",
            "1/1 [==============================] - 0s 24ms/step\n"
          ]
        }
      ],
      "source": [
        "# Initialize a list\n",
        "forecast = []\n",
        "\n",
        "# Reduce the original series\n",
        "forecast_series = series[split_time - window_size:]\n",
        "\n",
        "# Use the model to predict data points per window size\n",
        "for time in range(len(forecast_series) - window_size):\n",
        "  forecast.append(model_baseline.predict(forecast_series[time:time + window_size][np.newaxis]))\n",
        "\n",
        "# Convert to a numpy array and drop single dimensional axes\n",
        "results = np.array(forecast).squeeze()\n",
        "\n",
        "# Plot the results\n",
        "plot_series(time_valid, (x_valid, results))"
      ]
    },
    {
      "cell_type": "markdown",
      "metadata": {
        "id": "Lk5VkqNjh8Ws"
      },
      "source": [
        "You can then get the MSE and MAE for reference."
      ]
    },
    {
      "cell_type": "code",
      "execution_count": null,
      "metadata": {
        "id": "-kT6j186YO6K"
      },
      "outputs": [],
      "source": [
        "# Compute the metrics\n",
        "print(tf.keras.metrics.mean_squared_error(x_valid, results).numpy())\n",
        "print(tf.keras.metrics.mean_absolute_error(x_valid, results).numpy())"
      ]
    },
    {
      "cell_type": "markdown",
      "metadata": {
        "id": "tQB2gyq18YvD"
      },
      "source": [
        "## Tune the learning rate\n",
        "\n",
        "You saw that the training went well with the initial learning rate that you chose (i.e. `1e-6`). However, you're not yet sure if it is the best setting for this particular model. It might seem inconsequential in this simple model but when you have more complex ones, spending some time to tune the learning rate can lead to better training results. You will see how to do that in this section.\n",
        "\n",
        "First, you will build the same model architecture you just used."
      ]
    },
    {
      "cell_type": "code",
      "execution_count": null,
      "metadata": {
        "id": "tnCe_nBKu7RB"
      },
      "outputs": [],
      "source": [
        "# Build the Model\n",
        "model_tune = tf.keras.models.Sequential([\n",
        "    tf.keras.layers.Dense(10, input_shape=[window_size], activation=\"relu\"), \n",
        "    tf.keras.layers.Dense(10, activation=\"relu\"), \n",
        "    tf.keras.layers.Dense(1)\n",
        "])"
      ]
    },
    {
      "cell_type": "markdown",
      "metadata": {
        "id": "CTSWS74Qj-G0"
      },
      "source": [
        "Next, you will declare a [learning rate scheduler](https://www.tensorflow.org/api_docs/python/tf/keras/callbacks/LearningRateScheduler) callback. This will allow you to dynamically set the learning rate based on the epoch number during training. As shown below, you will pass a lambda function to declare the value of the learning rate. It will start at `1e-8` at epoch 0 and is scaled by `10**(epoch / 20)` as the training goes on."
      ]
    },
    {
      "cell_type": "code",
      "execution_count": null,
      "metadata": {
        "id": "6FDVah6-885n"
      },
      "outputs": [],
      "source": [
        "# Set the learning rate scheduler\n",
        "lr_schedule = tf.keras.callbacks.LearningRateScheduler(\n",
        "    lambda epoch: 1e-8 * 10**(epoch / 20))"
      ]
    },
    {
      "cell_type": "markdown",
      "metadata": {
        "id": "M4SJZxL1lqPX"
      },
      "source": [
        "You will then compile the model. Just to note a subtle difference with the lecture video, you don't have to set the `learning_rate` argument of the optimizer here before compiling. You can just leave the default (i.e. [`0.01` for SGD](https://www.tensorflow.org/api_docs/python/tf/keras/optimizers/SGD#args)) and allow the learning rate scheduler to set it dynamically."
      ]
    },
    {
      "cell_type": "code",
      "execution_count": null,
      "metadata": {
        "id": "66MDQGRc9AKU"
      },
      "outputs": [],
      "source": [
        "# Initialize the optimizer\n",
        "optimizer = tf.keras.optimizers.SGD(momentum=0.9)\n",
        "\n",
        "# Set the training parameters\n",
        "model_tune.compile(loss=\"mse\", optimizer=optimizer)"
      ]
    },
    {
      "cell_type": "markdown",
      "metadata": {
        "id": "zMgbgBYzmXBi"
      },
      "source": [
        "You will pass in the `lr_schedule` callback in the `callbacks` parameter of the [`fit()`](https://www.tensorflow.org/api_docs/python/tf/keras/Model#fit) method. As you run the training below, you will see the learning rate at a particular epoch denoted by `lr` in the console output. Notice that it is increasing as expected based on the lambda function you used."
      ]
    },
    {
      "cell_type": "code",
      "execution_count": null,
      "metadata": {
        "id": "Ef5o5DmQkuuy"
      },
      "outputs": [],
      "source": [
        "# Train the model\n",
        "history = model_tune.fit(dataset, epochs=100, callbacks=[lr_schedule])"
      ]
    },
    {
      "cell_type": "markdown",
      "metadata": {
        "id": "Sz9yLyRkkuet"
      },
      "source": [
        "Next step is to plot the results of the training. You will visualize the loss at each value of the learning rate."
      ]
    },
    {
      "cell_type": "code",
      "execution_count": null,
      "metadata": {
        "id": "2ZaNsM2IgCd_"
      },
      "outputs": [],
      "source": [
        "# Define the learning rate array\n",
        "lrs = 1e-8 * (10 ** (np.arange(100) / 20))\n",
        "\n",
        "# Set the figure size\n",
        "plt.figure(figsize=(10, 6))\n",
        "\n",
        "# Set the grid\n",
        "plt.grid(True)\n",
        "\n",
        "# Plot the loss in log scale\n",
        "plt.semilogx(lrs, history.history[\"loss\"])\n",
        "\n",
        "# Increase the tickmarks size\n",
        "plt.tick_params('both', length=10, width=1, which='both')\n",
        "\n",
        "# Set the plot boundaries\n",
        "plt.axis([1e-8, 1e-3, 0, 300])"
      ]
    },
    {
      "cell_type": "markdown",
      "metadata": {
        "id": "obCq2g0qn0GD"
      },
      "source": [
        "The generated graph above shows the values of the range of learning rates that leads to lower losses (i.e. sloping downward) and also which ones cause the training to become unstable (i.e. jagged edges and pointing upwards). In general, you will want to pick a point in a downward slope. That means the network is still learning at that point and is stable. Choosing close to the minimum point of the graph will make the training converge to that loss value quicker, as will be shown in the next cells.\n",
        "\n",
        "First, you will initialize the same model architecture again."
      ]
    },
    {
      "cell_type": "code",
      "execution_count": null,
      "metadata": {
        "id": "F7vzeS6BKUb_"
      },
      "outputs": [],
      "source": [
        "# Build the model\n",
        "model_tune = tf.keras.models.Sequential([\n",
        "  tf.keras.layers.Dense(10, activation=\"relu\", input_shape=[window_size]),\n",
        "  tf.keras.layers.Dense(10, activation=\"relu\"),\n",
        "  tf.keras.layers.Dense(1)\n",
        "])"
      ]
    },
    {
      "cell_type": "markdown",
      "metadata": {
        "id": "9gjrVfgWp3ku"
      },
      "source": [
        "You will then set the optimizer with a learning rate close to the minimum. It is set to `4e-6` initially but feel free to change based on your results."
      ]
    },
    {
      "cell_type": "code",
      "execution_count": null,
      "metadata": {
        "id": "nVHuxnXMKjja"
      },
      "outputs": [],
      "source": [
        "# Set the optimizer with the tuned learning rate\n",
        "optimizer = tf.keras.optimizers.SGD(learning_rate=4e-6, momentum=0.9)"
      ]
    },
    {
      "cell_type": "markdown",
      "metadata": {
        "id": "pyrhSDU5qPn6"
      },
      "source": [
        "You can then compile and train the model as before. Observe the loss values and compare it to the output of the baseline model you had before. Most likely, you will have met the final loss value of the `model_baseline` within the first 50 epochs of training this `model_tune`. You will also likely have a lower loss after all 100 epochs are done."
      ]
    },
    {
      "cell_type": "code",
      "execution_count": null,
      "metadata": {
        "id": "rDNeYqqzqQ-s"
      },
      "outputs": [],
      "source": [
        "# Set the training parameters\n",
        "model_tune.compile(loss=\"mse\", optimizer=optimizer)\n",
        "\n",
        "# Train the model\n",
        "history = model_tune.fit(dataset, epochs=100)"
      ]
    },
    {
      "cell_type": "markdown",
      "metadata": {
        "id": "8W-zX3LCrZc2"
      },
      "source": [
        "You can plot the `loss` values by getting it from the [History](https://www.tensorflow.org/api_docs/python/tf/keras/callbacks/History) object returned by the `fit()` method. As you can see, the model is still trending downward after the training."
      ]
    },
    {
      "cell_type": "code",
      "execution_count": null,
      "metadata": {
        "id": "iXBMO1HM9AHX"
      },
      "outputs": [],
      "source": [
        "# Plot the loss\n",
        "loss = history.history['loss']\n",
        "epochs = range(len(loss))\n",
        "plt.plot(epochs, loss, 'b', label='Training Loss')\n",
        "plt.show()"
      ]
    },
    {
      "cell_type": "code",
      "execution_count": null,
      "metadata": {
        "id": "xakiRU7R7WAo"
      },
      "outputs": [],
      "source": [
        "# Plot all but the first 10\n",
        "loss = history.history['loss']\n",
        "epochs = range(10, len(loss))\n",
        "plot_loss = loss[10:]\n",
        "plt.plot(epochs, plot_loss, 'b', label='Training Loss')\n",
        "plt.show()"
      ]
    },
    {
      "cell_type": "markdown",
      "metadata": {
        "id": "XxDbVYFusI3O"
      },
      "source": [
        "You can get the preictions again and overlay it on the validation set."
      ]
    },
    {
      "cell_type": "code",
      "execution_count": null,
      "metadata": {
        "id": "mIi2fTzPTJxe"
      },
      "outputs": [],
      "source": [
        "# Initialize a list\n",
        "forecast = []\n",
        "\n",
        "# Reduce the original series\n",
        "forecast_series = series[split_time - window_size:]\n",
        "\n",
        "# Use the model to predict data points per window size\n",
        "for time in range(len(forecast_series) - window_size):\n",
        "  forecast.append(model_tune.predict(forecast_series[time:time + window_size][np.newaxis]))\n",
        "\n",
        "# Convert to a numpy array and drop single dimensional axes\n",
        "results = np.array(forecast).squeeze()\n",
        "\n",
        "# Plot the results\n",
        "plot_series(time_valid, (x_valid, results))"
      ]
    },
    {
      "cell_type": "markdown",
      "metadata": {
        "id": "KExPe7qJsTxk"
      },
      "source": [
        "Finally, you can compute the metrics and you should arrive at similar figures compared to the baseline. If it is much worse, then the model might have overfitted and you can use techniques you know to avoid it (e.g. adding dropout)."
      ]
    },
    {
      "cell_type": "code",
      "execution_count": null,
      "metadata": {
        "id": "W-GPjL2wv0yc"
      },
      "outputs": [],
      "source": [
        "print(tf.keras.metrics.mean_squared_error(x_valid, results).numpy())\n",
        "print(tf.keras.metrics.mean_absolute_error(x_valid, results).numpy())"
      ]
    },
    {
      "cell_type": "markdown",
      "metadata": {
        "id": "U9ViZ1Mcs11C"
      },
      "source": [
        "## Wrap Up\n",
        "\n",
        "This concludes the exercise on using a deep neural network for forecasting. Along the way, you did some hyperparameter tuning, particularly on the learning rate. You will be using this technique as well in the next labs. Next week, you will be using recurrent neural networks to build your forecasting model. See you there and keep it up!"
      ]
    }
  ],
  "metadata": {
    "colab": {
      "provenance": []
    },
    "kernelspec": {
      "display_name": "Python 3",
      "language": "python",
      "name": "python3"
    },
    "language_info": {
      "codemirror_mode": {
        "name": "ipython",
        "version": 3
      },
      "file_extension": ".py",
      "mimetype": "text/x-python",
      "name": "python",
      "nbconvert_exporter": "python",
      "pygments_lexer": "ipython3",
      "version": "3.7.4"
    },
    "gpuClass": "standard"
  },
  "nbformat": 4,
  "nbformat_minor": 0
}