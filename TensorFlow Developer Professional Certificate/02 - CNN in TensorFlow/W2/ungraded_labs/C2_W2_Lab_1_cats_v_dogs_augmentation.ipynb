{
  "cells": [
    {
      "cell_type": "markdown",
      "metadata": {
        "id": "CkIfcverXka3"
      },
      "source": [
        "<a href=\"https://colab.research.google.com/github/https-deeplearning-ai/tensorflow-1-public/blob/master/C2/W2/ungraded_labs/C2_W2_Lab_1_cats_v_dogs_augmentation.ipynb\" target=\"_parent\"><img src=\"https://colab.research.google.com/assets/colab-badge.svg\" alt=\"Open In Colab\"/></a>"
      ]
    },
    {
      "cell_type": "markdown",
      "metadata": {
        "id": "gGxCD4mGHHjG"
      },
      "source": [
        "# Ungraded Lab: Data Augmentation\n",
        "\n",
        "In the previous lessons, you saw that having a high training accuracy does not automatically mean having a good predictive model. It can still perform poorly on new data because it has overfit to the training set. In this lab, you will see how to avoid that using _data augmentation_. This increases the amount of training data by modifying the existing training data's properties. For example, in image data, you can apply different preprocessing techniques such as rotate, flip, shear, or zoom on your existing images so you can simulate other data that the model should also learn from. This way, the model would see more variety in the images during training so it will infer better on new, previously unseen data.\n",
        "\n",
        "Let's see how you can do this in the following sections."
      ]
    },
    {
      "cell_type": "code",
      "execution_count": 1,
      "metadata": {
        "colab": {
          "base_uri": "https://localhost:8080/"
        },
        "id": "ntAunEciXka6",
        "outputId": "c3fdf35c-e50c-49ce-84d9-271a5fd030f2"
      },
      "outputs": [
        {
          "output_type": "stream",
          "name": "stdout",
          "text": [
            "Reading package lists... Done\n",
            "Building dependency tree       \n",
            "Reading state information... Done\n",
            "The following package was automatically installed and is no longer required:\n",
            "  libnvidia-common-460\n",
            "Use 'apt autoremove' to remove it.\n",
            "The following packages will be REMOVED:\n",
            "  libcudnn8-dev\n",
            "The following held packages will be changed:\n",
            "  libcudnn8\n",
            "The following packages will be upgraded:\n",
            "  libcudnn8\n",
            "1 upgraded, 0 newly installed, 1 to remove and 20 not upgraded.\n",
            "Need to get 420 MB of archives.\n",
            "After this operation, 1,622 MB disk space will be freed.\n",
            "Get:1 https://developer.download.nvidia.com/compute/cuda/repos/ubuntu1804/x86_64  libcudnn8 8.4.1.50-1+cuda11.6 [420 MB]\n",
            "Fetched 420 MB in 8s (50.9 MB/s)\n",
            "(Reading database ... 123941 files and directories currently installed.)\n",
            "Removing libcudnn8-dev (8.1.1.33-1+cuda11.2) ...\n",
            "update-alternatives: removing manually selected alternative - switching libcudnn to auto mode\n",
            "(Reading database ... 123918 files and directories currently installed.)\n",
            "Preparing to unpack .../libcudnn8_8.4.1.50-1+cuda11.6_amd64.deb ...\n",
            "Unpacking libcudnn8 (8.4.1.50-1+cuda11.6) over (8.1.1.33-1+cuda11.2) ...\n",
            "Setting up libcudnn8 (8.4.1.50-1+cuda11.6) ...\n"
          ]
        }
      ],
      "source": [
        "# Install this package to use Colab's GPU for training\n",
        "!apt install --allow-change-held-packages libcudnn8=8.4.1.50-1+cuda11.6"
      ]
    },
    {
      "cell_type": "markdown",
      "metadata": {
        "id": "kJJqX4DxcQs8"
      },
      "source": [
        "## Baseline Performance\n",
        "\n",
        "You will start with a model that's very effective at learning `Cats vs Dogs` without data augmentation. It's similar to the previous models that you have used. Note that there are four convolutional layers with 32, 64, 128 and 128 convolutions respectively. The code is basically the same from the previous lab so we won't go over the details step by step since you've already seen it before.\n",
        "\n",
        "You will train only for 20 epochs to save time but feel free to increase this if you want."
      ]
    },
    {
      "cell_type": "code",
      "execution_count": 2,
      "metadata": {
        "id": "zJZIF29-dIRv",
        "colab": {
          "base_uri": "https://localhost:8080/"
        },
        "outputId": "1ef9986a-99a8-42ac-807f-e234ae5cf997"
      },
      "outputs": [
        {
          "output_type": "stream",
          "name": "stdout",
          "text": [
            "--2022-10-18 15:36:48--  https://storage.googleapis.com/tensorflow-1-public/course2/cats_and_dogs_filtered.zip\n",
            "Resolving storage.googleapis.com (storage.googleapis.com)... 142.250.4.128, 74.125.24.128, 172.217.194.128, ...\n",
            "Connecting to storage.googleapis.com (storage.googleapis.com)|142.250.4.128|:443... connected.\n",
            "HTTP request sent, awaiting response... 200 OK\n",
            "Length: 68606236 (65M) [application/zip]\n",
            "Saving to: ‘cats_and_dogs_filtered.zip’\n",
            "\n",
            "cats_and_dogs_filte 100%[===================>]  65.43M  36.2MB/s    in 1.8s    \n",
            "\n",
            "2022-10-18 15:36:50 (36.2 MB/s) - ‘cats_and_dogs_filtered.zip’ saved [68606236/68606236]\n",
            "\n"
          ]
        }
      ],
      "source": [
        "# Download the dataset\n",
        "!wget https://storage.googleapis.com/tensorflow-1-public/course2/cats_and_dogs_filtered.zip"
      ]
    },
    {
      "cell_type": "code",
      "execution_count": 3,
      "metadata": {
        "id": "_DyUfCTgdwa8"
      },
      "outputs": [],
      "source": [
        "import os\n",
        "import zipfile\n",
        "\n",
        "# Extract the archive\n",
        "zip_ref = zipfile.ZipFile(\"./cats_and_dogs_filtered.zip\", 'r')\n",
        "zip_ref.extractall(\"tmp/\")\n",
        "zip_ref.close()\n",
        "\n",
        "# Assign training and validation set directories\n",
        "base_dir = 'tmp/cats_and_dogs_filtered'\n",
        "train_dir = os.path.join(base_dir, 'train')\n",
        "validation_dir = os.path.join(base_dir, 'validation')\n",
        "\n",
        "# Directory with training cat pictures\n",
        "train_cats_dir = os.path.join(train_dir, 'cats')\n",
        "\n",
        "# Directory with training dog pictures\n",
        "train_dogs_dir = os.path.join(train_dir, 'dogs')\n",
        "\n",
        "# Directory with validation cat pictures\n",
        "validation_cats_dir = os.path.join(validation_dir, 'cats')\n",
        "\n",
        "# Directory with validation dog pictures\n",
        "validation_dogs_dir = os.path.join(validation_dir, 'dogs')"
      ]
    },
    {
      "cell_type": "markdown",
      "metadata": {
        "id": "Ub_BdOJIfZ_Q"
      },
      "source": [
        "You will place the model creation inside a function so you can easily initialize a new one when you use data augmentation later in this notebook."
      ]
    },
    {
      "cell_type": "code",
      "execution_count": 4,
      "metadata": {
        "id": "uWllK_Wad-Mx"
      },
      "outputs": [],
      "source": [
        "import tensorflow as tf\n",
        "from tensorflow.keras.optimizers import RMSprop\n",
        "\n",
        "def create_model():\n",
        "  '''Creates a CNN with 4 convolutional layers'''\n",
        "  model = tf.keras.models.Sequential([\n",
        "      tf.keras.layers.Conv2D(32, (3,3), activation='relu', input_shape=(150, 150, 3)),\n",
        "      tf.keras.layers.MaxPooling2D(2, 2),\n",
        "      tf.keras.layers.Conv2D(64, (3,3), activation='relu'),\n",
        "      tf.keras.layers.MaxPooling2D(2,2),\n",
        "      tf.keras.layers.Conv2D(128, (3,3), activation='relu'),\n",
        "      tf.keras.layers.MaxPooling2D(2,2),\n",
        "      tf.keras.layers.Conv2D(128, (3,3), activation='relu'),\n",
        "      tf.keras.layers.MaxPooling2D(2,2),\n",
        "      tf.keras.layers.Flatten(),\n",
        "      tf.keras.layers.Dense(512, activation='relu'),\n",
        "      tf.keras.layers.Dense(1, activation='sigmoid')\n",
        "  ])\n",
        "\n",
        "  model.compile(loss='binary_crossentropy',\n",
        "                optimizer=RMSprop(learning_rate=1e-4),\n",
        "                metrics=['accuracy'])\n",
        "  \n",
        "  return model"
      ]
    },
    {
      "cell_type": "code",
      "execution_count": 5,
      "metadata": {
        "id": "MJPyDEzOqrKB",
        "colab": {
          "base_uri": "https://localhost:8080/"
        },
        "outputId": "8904d1ea-4d86-48cd-e1eb-2af400c2bace"
      },
      "outputs": [
        {
          "output_type": "stream",
          "name": "stdout",
          "text": [
            "Found 2000 images belonging to 2 classes.\n",
            "Found 1000 images belonging to 2 classes.\n"
          ]
        }
      ],
      "source": [
        "from tensorflow.keras.preprocessing.image import ImageDataGenerator\n",
        "\n",
        "# All images will be rescaled by 1./255\n",
        "train_datagen = ImageDataGenerator(rescale=1./255)\n",
        "test_datagen = ImageDataGenerator(rescale=1./255)\n",
        "\n",
        "# Flow training images in batches of 20 using train_datagen generator\n",
        "train_generator = train_datagen.flow_from_directory(\n",
        "        train_dir,  # This is the source directory for training images\n",
        "        target_size=(150, 150),  # All images will be resized to 150x150\n",
        "        batch_size=20,\n",
        "        # Since we use binary_crossentropy loss, we need binary labels\n",
        "        class_mode='binary')\n",
        "\n",
        "# Flow validation images in batches of 20 using test_datagen generator\n",
        "validation_generator = test_datagen.flow_from_directory(\n",
        "        validation_dir,\n",
        "        target_size=(150, 150),\n",
        "        batch_size=20,\n",
        "        class_mode='binary')"
      ]
    },
    {
      "cell_type": "code",
      "execution_count": 6,
      "metadata": {
        "id": "hdqUoF44esR3",
        "colab": {
          "base_uri": "https://localhost:8080/"
        },
        "outputId": "52ce31aa-edb0-4608-8b1a-31c93d781a43"
      },
      "outputs": [
        {
          "output_type": "stream",
          "name": "stdout",
          "text": [
            "Epoch 1/20\n",
            "100/100 - 13s - loss: 0.6909 - accuracy: 0.5460 - val_loss: 0.6760 - val_accuracy: 0.5240 - 13s/epoch - 129ms/step\n",
            "Epoch 2/20\n",
            "100/100 - 9s - loss: 0.6662 - accuracy: 0.5815 - val_loss: 0.6444 - val_accuracy: 0.6550 - 9s/epoch - 93ms/step\n",
            "Epoch 3/20\n",
            "100/100 - 9s - loss: 0.6358 - accuracy: 0.6355 - val_loss: 0.6318 - val_accuracy: 0.6260 - 9s/epoch - 87ms/step\n",
            "Epoch 4/20\n",
            "100/100 - 9s - loss: 0.5905 - accuracy: 0.6795 - val_loss: 0.6011 - val_accuracy: 0.6830 - 9s/epoch - 86ms/step\n",
            "Epoch 5/20\n",
            "100/100 - 9s - loss: 0.5445 - accuracy: 0.7285 - val_loss: 0.5824 - val_accuracy: 0.6960 - 9s/epoch - 87ms/step\n",
            "Epoch 6/20\n",
            "100/100 - 9s - loss: 0.5210 - accuracy: 0.7325 - val_loss: 0.5781 - val_accuracy: 0.6960 - 9s/epoch - 87ms/step\n",
            "Epoch 7/20\n",
            "100/100 - 9s - loss: 0.4910 - accuracy: 0.7560 - val_loss: 0.5544 - val_accuracy: 0.7130 - 9s/epoch - 87ms/step\n",
            "Epoch 8/20\n",
            "100/100 - 9s - loss: 0.4553 - accuracy: 0.7780 - val_loss: 0.5266 - val_accuracy: 0.7320 - 9s/epoch - 89ms/step\n",
            "Epoch 9/20\n",
            "100/100 - 9s - loss: 0.4349 - accuracy: 0.7945 - val_loss: 0.5294 - val_accuracy: 0.7250 - 9s/epoch - 88ms/step\n",
            "Epoch 10/20\n",
            "100/100 - 9s - loss: 0.4039 - accuracy: 0.8215 - val_loss: 0.6049 - val_accuracy: 0.6920 - 9s/epoch - 88ms/step\n",
            "Epoch 11/20\n",
            "100/100 - 9s - loss: 0.3756 - accuracy: 0.8370 - val_loss: 0.5584 - val_accuracy: 0.7240 - 9s/epoch - 89ms/step\n",
            "Epoch 12/20\n",
            "100/100 - 9s - loss: 0.3488 - accuracy: 0.8445 - val_loss: 0.5637 - val_accuracy: 0.7270 - 9s/epoch - 88ms/step\n",
            "Epoch 13/20\n",
            "100/100 - 9s - loss: 0.3274 - accuracy: 0.8560 - val_loss: 0.5470 - val_accuracy: 0.7390 - 9s/epoch - 88ms/step\n",
            "Epoch 14/20\n",
            "100/100 - 9s - loss: 0.2988 - accuracy: 0.8775 - val_loss: 0.5476 - val_accuracy: 0.7370 - 9s/epoch - 87ms/step\n",
            "Epoch 15/20\n",
            "100/100 - 9s - loss: 0.2820 - accuracy: 0.8835 - val_loss: 0.5428 - val_accuracy: 0.7430 - 9s/epoch - 87ms/step\n",
            "Epoch 16/20\n",
            "100/100 - 9s - loss: 0.2575 - accuracy: 0.8965 - val_loss: 0.5656 - val_accuracy: 0.7480 - 9s/epoch - 87ms/step\n",
            "Epoch 17/20\n",
            "100/100 - 9s - loss: 0.2388 - accuracy: 0.9025 - val_loss: 0.5761 - val_accuracy: 0.7490 - 9s/epoch - 87ms/step\n",
            "Epoch 18/20\n",
            "100/100 - 9s - loss: 0.2120 - accuracy: 0.9195 - val_loss: 0.5929 - val_accuracy: 0.7450 - 9s/epoch - 87ms/step\n",
            "Epoch 19/20\n",
            "100/100 - 9s - loss: 0.1900 - accuracy: 0.9260 - val_loss: 0.6527 - val_accuracy: 0.7340 - 9s/epoch - 87ms/step\n",
            "Epoch 20/20\n",
            "100/100 - 9s - loss: 0.1703 - accuracy: 0.9435 - val_loss: 0.6017 - val_accuracy: 0.7760 - 9s/epoch - 87ms/step\n"
          ]
        }
      ],
      "source": [
        "# Constant for epochs\n",
        "EPOCHS = 20\n",
        "\n",
        "# Create a new model\n",
        "model = create_model()\n",
        "\n",
        "# Train the model\n",
        "history = model.fit(\n",
        "      train_generator,\n",
        "      steps_per_epoch=100,  # 2000 images = batch_size * steps\n",
        "      epochs=EPOCHS,\n",
        "      validation_data=validation_generator,\n",
        "      validation_steps=50,  # 1000 images = batch_size * steps\n",
        "      verbose=2)"
      ]
    },
    {
      "cell_type": "markdown",
      "metadata": {
        "id": "Y-G0Am4cguNt"
      },
      "source": [
        "You will then visualize the loss and accuracy with respect to the training and validation set. You will again use a convenience function so it can be reused later. This function accepts a [History](https://www.tensorflow.org/api_docs/python/tf/keras/callbacks/History) object which contains the results of the `fit()` method you ran above."
      ]
    },
    {
      "cell_type": "code",
      "execution_count": 7,
      "metadata": {
        "id": "GZWPcmKWO303"
      },
      "outputs": [],
      "source": [
        "import matplotlib.pyplot as plt\n",
        "\n",
        "def plot_loss_acc(history):\n",
        "  '''Plots the training and validation loss and accuracy from a history object'''\n",
        "  acc = history.history['accuracy']\n",
        "  val_acc = history.history['val_accuracy']\n",
        "  loss = history.history['loss']\n",
        "  val_loss = history.history['val_loss']\n",
        "\n",
        "  epochs = range(len(acc))\n",
        "\n",
        "  plt.plot(epochs, acc, 'bo', label='Training accuracy')\n",
        "  plt.plot(epochs, val_acc, 'b', label='Validation accuracy')\n",
        "  plt.title('Training and validation accuracy')\n",
        "\n",
        "  plt.figure()\n",
        "\n",
        "  plt.plot(epochs, loss, 'bo', label='Training Loss')\n",
        "  plt.plot(epochs, val_loss, 'b', label='Validation Loss')\n",
        "  plt.title('Training and validation loss')\n",
        "  plt.legend()\n",
        "\n",
        "  plt.show()"
      ]
    },
    {
      "cell_type": "code",
      "execution_count": 8,
      "metadata": {
        "id": "Vojz4NYXiT_f",
        "colab": {
          "base_uri": "https://localhost:8080/",
          "height": 545
        },
        "outputId": "7452f5fe-5723-4bda-8992-314fea3e2854"
      },
      "outputs": [
        {
          "output_type": "display_data",
          "data": {
            "text/plain": [
              "<Figure size 432x288 with 1 Axes>"
            ],
            "image/png": "[encoded data removed]"
          },
          "metadata": {
            "needs_background": "light"
          }
        },
        {
          "output_type": "display_data",
          "data": {
            "text/plain": [
              "<Figure size 432x288 with 1 Axes>"
            ],
            "image/png": "[encoded data removed]"
          },
          "metadata": {
            "needs_background": "light"
          }
        }
      ],
      "source": [
        "# Plot training results\n",
        "plot_loss_acc(history)"
      ]
    },
    {
      "cell_type": "markdown",
      "metadata": {
        "id": "zb81GvNov-Tg"
      },
      "source": [
        "From the results above, you'll see the training accuracy is more than 90%, and the validation accuracy is in the 70%-80% range. This is a great example of _overfitting_ -- which in short means that it can do very well with images it has seen before, but not so well with images it hasn't.\n"
      ]
    },
    {
      "cell_type": "markdown",
      "metadata": {
        "id": "5KBz-vFbjLZX"
      },
      "source": [
        "## Data augmentation\n",
        "\n",
        "One simple method to avoid overfitting is to augment the images a bit. If you think about it, most pictures of a cat are very similar -- the ears are at the top, then the eyes, then the mouth etc. Things like the distance between the eyes and ears will always be quite similar too. \n",
        "\n",
        "What if you tweak with the images a bit -- rotate the image, squash it, etc.  That's what image augementation is all about. And there's an API that makes it easy!\n",
        "\n",
        "Take a look at the [ImageDataGenerator](https://www.tensorflow.org/api_docs/python/tf/keras/preprocessing/image/ImageDataGenerator) which you have been using to rescale the image. There are other properties on it that you can use to augment the image. \n",
        "\n",
        "```\n",
        "# Updated to do image augmentation\n",
        "train_datagen = ImageDataGenerator(\n",
        "      rotation_range=40,\n",
        "      width_shift_range=0.2,\n",
        "      height_shift_range=0.2,\n",
        "      shear_range=0.2,\n",
        "      zoom_range=0.2,\n",
        "      horizontal_flip=True,\n",
        "      fill_mode='nearest')\n",
        "```\n",
        "\n",
        "These are just a few of the options available. Let's quickly go over it:\n",
        "\n",
        "* `rotation_range` is a value in degrees (0–180) within which to randomly rotate pictures.\n",
        "* `width_shift` and `height_shift` are ranges (as a fraction of total width or height) within which to randomly translate pictures vertically or horizontally.\n",
        "* `shear_range` is for randomly applying shearing transformations.\n",
        "* `zoom_range` is for randomly zooming inside pictures.\n",
        "* `horizontal_flip` is for randomly flipping half of the images horizontally. This is relevant when there are no assumptions of horizontal assymmetry (e.g. real-world pictures).\n",
        "* `fill_mode` is the strategy used for filling in newly created pixels, which can appear after a rotation or a width/height shift.\n",
        "\n",
        "\n",
        "Run the next cells to see the impact on the results. The code is similar to the baseline but the definition of `train_datagen` has been updated to use the parameters described above.\n"
      ]
    },
    {
      "cell_type": "code",
      "execution_count": 9,
      "metadata": {
        "id": "UK7_Fflgv8YC",
        "colab": {
          "base_uri": "https://localhost:8080/"
        },
        "outputId": "a6f061f0-eeea-4596-8864-023de9e53e04"
      },
      "outputs": [
        {
          "output_type": "stream",
          "name": "stdout",
          "text": [
            "Found 2000 images belonging to 2 classes.\n",
            "Found 1000 images belonging to 2 classes.\n",
            "Epoch 1/20\n",
            "100/100 - 18s - loss: 0.6901 - accuracy: 0.5295 - val_loss: 0.8100 - val_accuracy: 0.5000 - 18s/epoch - 183ms/step\n",
            "Epoch 2/20\n",
            "100/100 - 17s - loss: 0.6747 - accuracy: 0.5860 - val_loss: 0.6530 - val_accuracy: 0.6120 - 17s/epoch - 171ms/step\n",
            "Epoch 3/20\n",
            "100/100 - 17s - loss: 0.6622 - accuracy: 0.5870 - val_loss: 0.6374 - val_accuracy: 0.6390 - 17s/epoch - 170ms/step\n",
            "Epoch 4/20\n",
            "100/100 - 17s - loss: 0.6465 - accuracy: 0.6140 - val_loss: 0.5997 - val_accuracy: 0.6730 - 17s/epoch - 171ms/step\n",
            "Epoch 5/20\n",
            "100/100 - 17s - loss: 0.6373 - accuracy: 0.6280 - val_loss: 0.6040 - val_accuracy: 0.6460 - 17s/epoch - 169ms/step\n",
            "Epoch 6/20\n",
            "100/100 - 17s - loss: 0.6155 - accuracy: 0.6515 - val_loss: 0.5712 - val_accuracy: 0.6950 - 17s/epoch - 170ms/step\n",
            "Epoch 7/20\n",
            "100/100 - 17s - loss: 0.6051 - accuracy: 0.6665 - val_loss: 0.6045 - val_accuracy: 0.6660 - 17s/epoch - 170ms/step\n",
            "Epoch 8/20\n",
            "100/100 - 17s - loss: 0.5945 - accuracy: 0.6740 - val_loss: 0.5611 - val_accuracy: 0.7020 - 17s/epoch - 171ms/step\n",
            "Epoch 9/20\n",
            "100/100 - 17s - loss: 0.5934 - accuracy: 0.6860 - val_loss: 0.5593 - val_accuracy: 0.6960 - 17s/epoch - 170ms/step\n",
            "Epoch 10/20\n",
            "100/100 - 17s - loss: 0.5807 - accuracy: 0.6880 - val_loss: 0.5370 - val_accuracy: 0.7170 - 17s/epoch - 170ms/step\n",
            "Epoch 11/20\n",
            "100/100 - 17s - loss: 0.5759 - accuracy: 0.7030 - val_loss: 0.5383 - val_accuracy: 0.7140 - 17s/epoch - 170ms/step\n",
            "Epoch 12/20\n",
            "100/100 - 17s - loss: 0.5789 - accuracy: 0.6890 - val_loss: 0.5328 - val_accuracy: 0.7260 - 17s/epoch - 170ms/step\n",
            "Epoch 13/20\n",
            "100/100 - 17s - loss: 0.5604 - accuracy: 0.7130 - val_loss: 0.5274 - val_accuracy: 0.7240 - 17s/epoch - 170ms/step\n",
            "Epoch 14/20\n",
            "100/100 - 18s - loss: 0.5594 - accuracy: 0.7195 - val_loss: 0.5401 - val_accuracy: 0.7100 - 18s/epoch - 177ms/step\n",
            "Epoch 15/20\n",
            "100/100 - 17s - loss: 0.5545 - accuracy: 0.7130 - val_loss: 0.5162 - val_accuracy: 0.7340 - 17s/epoch - 170ms/step\n",
            "Epoch 16/20\n",
            "100/100 - 17s - loss: 0.5652 - accuracy: 0.7010 - val_loss: 0.5148 - val_accuracy: 0.7430 - 17s/epoch - 169ms/step\n",
            "Epoch 17/20\n",
            "100/100 - 17s - loss: 0.5510 - accuracy: 0.7120 - val_loss: 0.5509 - val_accuracy: 0.7190 - 17s/epoch - 170ms/step\n",
            "Epoch 18/20\n",
            "100/100 - 17s - loss: 0.5480 - accuracy: 0.7125 - val_loss: 0.5213 - val_accuracy: 0.7220 - 17s/epoch - 171ms/step\n",
            "Epoch 19/20\n",
            "100/100 - 17s - loss: 0.5541 - accuracy: 0.7085 - val_loss: 0.4974 - val_accuracy: 0.7560 - 17s/epoch - 169ms/step\n",
            "Epoch 20/20\n",
            "100/100 - 17s - loss: 0.5352 - accuracy: 0.7340 - val_loss: 0.5157 - val_accuracy: 0.7480 - 17s/epoch - 169ms/step\n"
          ]
        }
      ],
      "source": [
        "# Create new model\n",
        "model_for_aug = create_model()\n",
        "\n",
        "# This code has changed. Now instead of the ImageGenerator just rescaling\n",
        "# the image, we also rotate and do other operations\n",
        "train_datagen = ImageDataGenerator(\n",
        "      rescale=1./255,\n",
        "      rotation_range=40,\n",
        "      width_shift_range=0.2,\n",
        "      height_shift_range=0.2,\n",
        "      shear_range=0.2,\n",
        "      zoom_range=0.2,\n",
        "      horizontal_flip=True,\n",
        "      fill_mode='nearest')\n",
        "\n",
        "test_datagen = ImageDataGenerator(rescale=1./255)\n",
        "\n",
        "# Flow training images in batches of 20 using train_datagen generator\n",
        "train_generator = train_datagen.flow_from_directory(\n",
        "        train_dir,  # This is the source directory for training images\n",
        "        target_size=(150, 150),  # All images will be resized to 150x150\n",
        "        batch_size=20,\n",
        "        # Since we use binary_crossentropy loss, we need binary labels\n",
        "        class_mode='binary')\n",
        "\n",
        "# Flow validation images in batches of 20 using test_datagen generator\n",
        "validation_generator = test_datagen.flow_from_directory(\n",
        "        validation_dir,\n",
        "        target_size=(150, 150),\n",
        "        batch_size=20,\n",
        "        class_mode='binary')\n",
        "\n",
        "# Train the new model\n",
        "history_with_aug = model_for_aug.fit(\n",
        "      train_generator,\n",
        "      steps_per_epoch=100,  # 2000 images = batch_size * steps\n",
        "      epochs=EPOCHS,\n",
        "      validation_data=validation_generator,\n",
        "      validation_steps=50,  # 1000 images = batch_size * steps\n",
        "      verbose=2)"
      ]
    },
    {
      "cell_type": "code",
      "execution_count": 10,
      "metadata": {
        "id": "bnyRnwopT5aW",
        "colab": {
          "base_uri": "https://localhost:8080/",
          "height": 545
        },
        "outputId": "5ef9c71e-ccf0-468a-9f15-44432008bb24"
      },
      "outputs": [
        {
          "output_type": "display_data",
          "data": {
            "text/plain": [
              "<Figure size 432x288 with 1 Axes>"
            ],
            "image/png": "[encoded data removed]"
          },
          "metadata": {
            "needs_background": "light"
          }
        },
        {
          "output_type": "display_data",
          "data": {
            "text/plain": [
              "<Figure size 432x288 with 1 Axes>"
            ],
            "image/png": "[encoded data removed]"
          },
          "metadata": {
            "needs_background": "light"
          }
        }
      ],
      "source": [
        "# Plot the results of training with data augmentation\n",
        "plot_loss_acc(history_with_aug)"
      ]
    },
    {
      "cell_type": "markdown",
      "metadata": {
        "id": "1D1hd5fqmJUx"
      },
      "source": [
        "As you can see, the training accuracy has gone down compared to the baseline. This is expected because (as a result of data augmentation) there are more variety in the images so the model will need more runs to learn from them. The good thing is the validation accuracy is no longer stalling and is more in line with the training results. This means that the model is now performing better on unseen data. \n",
        "\n",
        "\n"
      ]
    },
    {
      "cell_type": "markdown",
      "metadata": {
        "id": "z4B9b6GPnKg1"
      },
      "source": [
        "## Wrap Up\n",
        "\n",
        "This exercise showed a simple trick to avoid overfitting. You can improve your baseline results by simply tweaking the same images you have already. The `ImageDataGenerator` class has built-in parameters to do just that. Try to modify the values some more in the `train_datagen` and see what results you get.\n",
        "\n",
        "Take note that this will not work for all cases. In the next lesson, Laurence will show a scenario where data augmentation will not help improve your validation accuracy."
      ]
    }
  ],
  "metadata": {
    "accelerator": "GPU",
    "colab": {
      "collapsed_sections": [],
      "provenance": []
    },
    "kernelspec": {
      "display_name": "Python 3",
      "language": "python",
      "name": "python3"
    },
    "language_info": {
      "codemirror_mode": {
        "name": "ipython",
        "version": 3
      },
      "file_extension": ".py",
      "mimetype": "text/x-python",
      "name": "python",
      "nbconvert_exporter": "python",
      "pygments_lexer": "ipython3",
      "version": "3.7.4"
    }
  },
  "nbformat": 4,
  "nbformat_minor": 0
}