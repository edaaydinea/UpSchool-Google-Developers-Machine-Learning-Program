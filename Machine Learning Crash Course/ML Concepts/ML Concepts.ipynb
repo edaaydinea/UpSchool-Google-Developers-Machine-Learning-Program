{
 "cells": [
  {
   "cell_type": "markdown",
   "source": [
    "# Machine Learning Crash Course - ML Concepts\n",
    "\n",
    "_Author: Eda AYDIN_\n",
    "\n",
    "**Topics**\n",
    "\n",
    "[Introduction to ML](#1)\n",
    "[Framing](#2)\n",
    "[Descending into ML](#3)\n",
    "[Reducing Loss](#4)\n",
    "[First Steps with TF](#5)\n",
    "[Generalization](#6)\n",
    "[Training and Test Sets](#7)\n",
    "[Validation Set](#8)\n",
    "[Representation](#9)\n",
    "[Feature Crosses](#10)\n",
    "[Regularization: Simplicity](#11)\n",
    "[Logistic Regression](#12)\n",
    "[Classification](#13)\n",
    "[Regularization: Sparsity](#14)\n",
    "[Neural Networks](#15)\n",
    "[Training Neural Nets](#16)\n",
    "[Multi-Class Neural Nets](#17)\n",
    "[Embeddings](#18)"
   ],
   "metadata": {
    "collapsed": false,
    "pycharm": {
     "name": "#%% md\n"
    }
   }
  },
  {
   "cell_type": "markdown",
   "source": [
    "## Introduction to ML <a class=\"anchor\" id=\"1\"></a>\n",
    "\n",
    "What you learn here will allow you, as a software engineer, to do three things better.\n",
    "- Reduce time programming\n",
    "- Customize and scale products\n",
    "- Complete seemingly \"unprogrammable\" tasks"
   ],
   "metadata": {
    "collapsed": false,
    "pycharm": {
     "name": "#%% md\n"
    }
   }
  },
  {
   "cell_type": "markdown",
   "source": [
    "## Framing <a class=\"anchor\" id=\"2\"></a>\n",
    "\n",
    "### What is (Supervised) Machine Learning?\n",
    "\n",
    "ML systems learn how to combine input to produce useful predictions on never-before-seen data.\n",
    "\n",
    "_**Terminology**: Labels and Features_\n",
    "\n",
    "- **Label** is the variable we're predicting\n",
    "    - Typically, represented by the variable **y**\n",
    "    - It's the target that we're trying to predict.\n",
    "        - _Example_: Email spam filtering: Label might be \"spam or not spam\".\n",
    "\n",
    "- **Feature**\n",
    "    - Typically, represented by the variables *$${x_{1},x_{2}, x_{3}, .. x_{n}}$$*\n",
    "    - The features are the way that we represent our data.\n",
    "        - _Example_: Features might be drawn from an email as, words in the email or \"to and from addresses\", various\n",
    "         pieces of routing or header information, any piece of information that we might extract from that email."
   ],
   "metadata": {
    "collapsed": false,
    "pycharm": {
     "name": "#%% md\n"
    }
   }
  },
  {
   "cell_type": "code",
   "execution_count": null,
   "outputs": [],
   "source": [],
   "metadata": {
    "collapsed": false,
    "pycharm": {
     "name": "#%%\n"
    }
   }
  }
 ],
 "metadata": {
  "kernelspec": {
   "display_name": "Python 3",
   "language": "python",
   "name": "python3"
  },
  "language_info": {
   "codemirror_mode": {
    "name": "ipython",
    "version": 2
   },
   "file_extension": ".py",
   "mimetype": "text/x-python",
   "name": "python",
   "nbconvert_exporter": "python",
   "pygments_lexer": "ipython2",
   "version": "2.7.6"
  }
 },
 "nbformat": 4,
 "nbformat_minor": 0
}