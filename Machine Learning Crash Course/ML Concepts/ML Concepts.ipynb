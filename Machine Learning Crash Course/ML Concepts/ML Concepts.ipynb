{
 "cells": [
  {
   "cell_type": "markdown",
   "metadata": {
    "pycharm": {
     "name": "#%% md\n"
    }
   },
   "source": [
    "# Machine Learning Crash Course - ML Concepts\n",
    "\n",
    "_Author: Eda AYDIN_\n",
    "\n",
    "This notebook is created using [Google Developers - Machine Learning Crash Course](https://developers.google.com/machine-learning/crash-course/ml-intro) video, and course materials.\n",
    "\n",
    "**Table of Contents**\n",
    "\n",
    "1. [Introduction to ML](#i1)\n",
    "2. [Framing](#2)\n",
    "3. [Descending into ML](#3)\n",
    "4. [Reducing Loss](#4)\n",
    "5. [First Steps with TF](#5)\n",
    "6. [Generalization](#6)\n",
    "7. [Training and Test Sets](#7)\n",
    "8. [Validation Set](#8)\n",
    "9. [Representation](#9)\n",
    "10. [Feature Crosses](#10)\n",
    "11. [Regularization: Simplicity](#11)\n",
    "12. [Logistic Regression](#12)\n",
    "13. [Classification](#13)\n",
    "14. [Regularization: Sparsity](#14)\n",
    "15. [Neural Networks](#15)\n",
    "16. [Training Neural Nets](#16)\n",
    "17. [Multi-Class Neural Nets](#17)\n",
    "18. [Embeddings](#18)"
   ]
  },
  {
   "cell_type": "markdown",
   "metadata": {
    "pycharm": {
     "name": "#%% md\n"
    }
   },
   "source": [
    "## Introduction to ML  <a class=\"anchor\" id=\"1\"></a>\n",
    "\n",
    "What you learn here will allow you, as a software engineer, to do three things better.\n",
    "- Reduce time programming\n",
    "- Customize and scale products\n",
    "- Complete seemingly \"unprogrammable\" tasks"
   ]
  },
  {
   "cell_type": "markdown",
   "metadata": {
    "pycharm": {
     "name": "#%% md\n"
    }
   },
   "source": [
    "## Framing <a class=\"anchor\" id=\"2\"></a>\n",
    "\n",
    "### What is (Supervised) Machine Learning?\n",
    "\n",
    "ML systems learn how to combine input to produce useful predictions on never-before-seen data.\n",
    "\n",
    "_**Terminology**: Labels and Features_\n",
    "\n",
    "- **Label** is the variable we're predicting\n",
    "    - Typically, represented by the variable **y** in simple linear regression\n",
    "    - It's the target that we're trying to predict.\n",
    "        - _Example_: The label could be \n",
    "            -the future price of wheat, \n",
    "            the kind of animal shown in a picture, \n",
    "            the meaning of an audio clip, or just about anything.\n",
    "\n",
    "- **Feature**\n",
    "    - Typically, represented by the variables *${x_{1},x_{2}, x_{3}, .. x_{n}}$* in simple linear regression\n",
    "    - The features are the way that we represent our data.\n",
    "        - _Example_: In the spam detector example, the features could include the following:\n",
    "            - words in the email text\n",
    "            - sender's address\n",
    "            - time of data the email was sent\n",
    "            - email contains the phrase \"one weird trick\"\n",
    "\n",
    "\n",
    "**Examples**\n",
    "\n",
    "- **Example** is a particular instance of data, **x**\n",
    "- **Labeled example** has {features, label}: {**x,y**)\n",
    "    - Used to train the model\n",
    "    - In our spam detector example, the labeled examples would be individual emails that users have explicitly marked as \"spam\" or \"not spam.\"\n",
    "- **Unlabeled example** has {features, ?}: (**x,y**)\n",
    "    - Used for making predictions on new data\n",
    "\n",
    "**Models**\n",
    "- A model defines the relationship between features and label.\n",
    "- **Model** maps examples to predicted labels: **y'**\n",
    "    - Defined by internal parameters, which are learned\n",
    "    - **Training** means creating or **learning** the model. That is, you show the model labeled examples and enable the model to gradually learn the relationships between features and label.\n",
    "    - **Inference** means applying the trained model to unlabeled examples. That is, you use the trained model to make useful predictions (**y'**). For example, during inference, you can predict **medianHouseValue** for new unlabeled examples.\n",
    "\n",
    "**Regression vs. Classification**\n",
    "\n",
    "- A **regression** model predicts continuous data. For example, regression models make predictions that answer\n",
    "questions like the following:\n",
    "    - What is the value of a house in California?\n",
    "    - What is the probability that a user will click on this ad?\n",
    "\n",
    "- A **classification** model predicts discrete values. For example, classification models make predictions that\n",
    "answer\n",
    "questions like the following:\n",
    "    - Is a given email message spam or not spam?\n",
    "    - Is this an image of a dog, a cat, or a hamster?"
   ]
  },
  {
   "cell_type": "code",
   "execution_count": 3,
   "metadata": {
    "collapsed": false,
    "jupyter": {
     "outputs_hidden": false
    },
    "pycharm": {
     "name": "#%%\n"
    }
   },
   "outputs": [
    {
     "data": {
      "text/html": [
       "<div>\n",
       "<style scoped>\n",
       "    .dataframe tbody tr th:only-of-type {\n",
       "        vertical-align: middle;\n",
       "    }\n",
       "\n",
       "    .dataframe tbody tr th {\n",
       "        vertical-align: top;\n",
       "    }\n",
       "\n",
       "    .dataframe thead th {\n",
       "        text-align: right;\n",
       "    }\n",
       "</style>\n",
       "<table border=\"1\" class=\"dataframe\">\n",
       "  <thead>\n",
       "    <tr style=\"text-align: right;\">\n",
       "      <th></th>\n",
       "      <th>longitude</th>\n",
       "      <th>latitude</th>\n",
       "      <th>housing_median_age</th>\n",
       "      <th>total_rooms</th>\n",
       "      <th>total_bedrooms</th>\n",
       "      <th>population</th>\n",
       "      <th>households</th>\n",
       "      <th>median_income</th>\n",
       "      <th>median_house_value</th>\n",
       "      <th>ocean_proximity</th>\n",
       "    </tr>\n",
       "  </thead>\n",
       "  <tbody>\n",
       "    <tr>\n",
       "      <th>0</th>\n",
       "      <td>-122.23</td>\n",
       "      <td>37.88</td>\n",
       "      <td>41.0</td>\n",
       "      <td>880.0</td>\n",
       "      <td>129.0</td>\n",
       "      <td>322.0</td>\n",
       "      <td>126.0</td>\n",
       "      <td>8.3252</td>\n",
       "      <td>452600.0</td>\n",
       "      <td>NEAR BAY</td>\n",
       "    </tr>\n",
       "    <tr>\n",
       "      <th>1</th>\n",
       "      <td>-122.22</td>\n",
       "      <td>37.86</td>\n",
       "      <td>21.0</td>\n",
       "      <td>7099.0</td>\n",
       "      <td>1106.0</td>\n",
       "      <td>2401.0</td>\n",
       "      <td>1138.0</td>\n",
       "      <td>8.3014</td>\n",
       "      <td>358500.0</td>\n",
       "      <td>NEAR BAY</td>\n",
       "    </tr>\n",
       "    <tr>\n",
       "      <th>2</th>\n",
       "      <td>-122.24</td>\n",
       "      <td>37.85</td>\n",
       "      <td>52.0</td>\n",
       "      <td>1467.0</td>\n",
       "      <td>190.0</td>\n",
       "      <td>496.0</td>\n",
       "      <td>177.0</td>\n",
       "      <td>7.2574</td>\n",
       "      <td>352100.0</td>\n",
       "      <td>NEAR BAY</td>\n",
       "    </tr>\n",
       "    <tr>\n",
       "      <th>3</th>\n",
       "      <td>-122.25</td>\n",
       "      <td>37.85</td>\n",
       "      <td>52.0</td>\n",
       "      <td>1274.0</td>\n",
       "      <td>235.0</td>\n",
       "      <td>558.0</td>\n",
       "      <td>219.0</td>\n",
       "      <td>5.6431</td>\n",
       "      <td>341300.0</td>\n",
       "      <td>NEAR BAY</td>\n",
       "    </tr>\n",
       "    <tr>\n",
       "      <th>4</th>\n",
       "      <td>-122.25</td>\n",
       "      <td>37.85</td>\n",
       "      <td>52.0</td>\n",
       "      <td>1627.0</td>\n",
       "      <td>280.0</td>\n",
       "      <td>565.0</td>\n",
       "      <td>259.0</td>\n",
       "      <td>3.8462</td>\n",
       "      <td>342200.0</td>\n",
       "      <td>NEAR BAY</td>\n",
       "    </tr>\n",
       "  </tbody>\n",
       "</table>\n",
       "</div>"
      ],
      "text/plain": [
       "   longitude  latitude  housing_median_age  total_rooms  total_bedrooms  \\\n",
       "0    -122.23     37.88                41.0        880.0           129.0   \n",
       "1    -122.22     37.86                21.0       7099.0          1106.0   \n",
       "2    -122.24     37.85                52.0       1467.0           190.0   \n",
       "3    -122.25     37.85                52.0       1274.0           235.0   \n",
       "4    -122.25     37.85                52.0       1627.0           280.0   \n",
       "\n",
       "   population  households  median_income  median_house_value ocean_proximity  \n",
       "0       322.0       126.0         8.3252            452600.0        NEAR BAY  \n",
       "1      2401.0      1138.0         8.3014            358500.0        NEAR BAY  \n",
       "2       496.0       177.0         7.2574            352100.0        NEAR BAY  \n",
       "3       558.0       219.0         5.6431            341300.0        NEAR BAY  \n",
       "4       565.0       259.0         3.8462            342200.0        NEAR BAY  "
      ]
     },
     "execution_count": 3,
     "metadata": {},
     "output_type": "execute_result"
    }
   ],
   "source": [
    "import pandas as pd\n",
    "\n",
    "df = pd.read_csv(\"housing.csv\")\n",
    "df.head()"
   ]
  },
  {
   "cell_type": "markdown",
   "metadata": {
    "collapsed": false,
    "pycharm": {
     "name": "#%% md\n"
    }
   },
   "source": [
    "## Framing: Check Your Understanding\n",
    "\n",
    "**Suppose you want to develop a supervised machine learning model to predict whether a given email is \"spam\" or \"not spam.\" Which of the following statements are true?**\n",
    "\n",
    "- Emails not marked as \"spam\" or \"not spam\" are unlabeled examples.\n",
    "    - Because our label consists of the values \"spam\" and \"not spam\", any email not yet marked as spam or not spam is an unlabeled example.\n",
    "- The labels applied to some examples might be unreliable.\n",
    "    - Definitely. It's important to check how reliable your data is. The labels for this dataset probably come from email users who mark particular email messages as spam. Since most users do not mark every suspicious email message as spam, we may have trouble knowing whether an email is spam. Furthermore, spammers could intentionally poison our model by providing faulty labels.\n",
    "    \n",
    "\n",
    "**Suppose an online shoe store wants to create a supervised ML model that will provide personalized shoe recommendations to users. That is, the model will recommend certain pairs of shoes to Marty and different pairs of shoes to Janet. The system will use past user behavior data to generate training data. Which of the following statements are true?**\n",
    "\n",
    "- \"Shoe size\" is a useful feature.\n",
    "    - \"Shoe size\" is a quantifiable signal that likely has a strong impact on whether the user will like the recommended shoes. For example, if Marty wears size 9, the model shouldn't recommend size 7 shoes.\n",
    "- \"The user clicked on the shoe's description\" is a useful label.\n",
    "    - Users probably only want to read more about those shoes that they like. Clicks by users is, therefore, an observable, quantifiable metric that could serve as a good training label. Since our training data derives from past user behavior, our labels need to derive from objective behaviors like clicks that strongly correlate with user preferences."
   ]
  },
  {
   "cell_type": "markdown",
   "metadata": {
    "collapsed": false,
    "pycharm": {
     "name": "#%% md\n"
    }
   },
   "source": [
    "## Descending into ML <a class=\"anchor\" id=\"3\"></a>\n",
    "\n",
    "**Linear Regression** is a method for finding the straight line or hyperplane that best fits a set of points. This module explores linear regression intuitively before laying the groundwork for a machine learning approach to linear regression.\n",
    "\n",
    "- **Doğrusal regresyon**, bir dizi noktaya en iyi uyan düz çizgiyi veya hiperdüzlemi bulma yöntemidir. Bu modül, lineer regresyona yönelik bir makine öğrenimi yaklaşımı için zemin hazırlamadan önce lineer regresyonu sezgisel olarak araştırır.\n",
    "\n",
    "*A Convenient Loss Function For Regression*\n",
    "\n",
    "**$L_{2}\\,$  Loss** for a given example is also called squared error\n",
    "- = Square of the difference between prediction and label\n",
    "- = $(observation - prediction)^{2}$\n",
    "- = $(y - y')^{2}$\n",
    "\n",
    "*Defining $L_{2}\\,$ Loss on a Data Set*\n",
    "\n",
    "$$L_{2}\\,Loss\\,=\\,\\sum_{(x,y)\t\\in D}^{}(y-prediction(x))^2$$\n",
    "\n",
    "$\\sum$ : We're summing over all examples in the training set.\n",
    "$D$: Sometimes useful to average over all examples, so divide by $||D||$."
   ]
  },
  {
   "cell_type": "markdown",
   "metadata": {
    "collapsed": false,
    "pycharm": {
     "name": "#%% md\n"
    }
   },
   "source": [
    "It has long been known that crickets (an insect species) chirp more frequently on hotter days than on cooler days. For decades, professional and amateur scientists have cataloged data on chirps-per-minute and temperature. As a birthday gift, your Aunt Ruth gives you her cricket database and asks you to learn a model to predict this relationship. Using this data, you want to explore this relationship.\n",
    "\n",
    "First, examine your data by plotting it:"
   ]
  },
  {
   "cell_type": "code",
   "execution_count": 1,
   "metadata": {
    "collapsed": false,
    "pycharm": {
     "name": "#%%\n"
    }
   },
   "outputs": [
    {
     "data": {
      "image/svg+xml": "<svg xmlns=\"http://www.w3.org/2000/svg\" xmlns:xlink=\"http://www.w3.org/1999/xlink\" height=\"345pt\" version=\"1.1\" viewBox=\"0 0 460 345\" width=\"460pt\">\n <desc>Raw data of chirps/minute (x-axis) vs. temperature (y-axis).</desc>\n <defs>\n  <style type=\"text/css\">\n*{stroke-linecap:butt;stroke-linejoin:round;}\n  </style>\n </defs>\n <g id=\"figure_1\">\n  <g id=\"patch_1\">\n   <path d=\"M 0 345.6  L 460.8 345.6  L 460.8 0  L 0 0  z \" style=\"fill:#ffffff;\"/>\n  </g>\n  <g id=\"axes_1\">\n   <g id=\"patch_2\">\n    <path d=\"M 57.6 307.584  L 414.72 307.584  L 414.72 41.472  L 57.6 41.472  z \" style=\"fill:#eaeaf2;\"/>\n   </g>\n   <g id=\"matplotlib.axis_1\">\n    <g id=\"xtick_1\">\n     <g id=\"line2d_1\">\n      <path clip-path=\"url(#pbcb1736643)\" d=\"M 62.098226 307.584  L 62.098226 41.472  \" style=\"fill:none;stroke:#ffffff;stroke-linecap:square;\"/>\n     </g>\n     <g id=\"text_1\">\n      <text style=\"font-family:DejaVu Sans;font-size:10px;font-style:normal;font-weight:400;text-anchor:middle;\" transform=\"rotate(-0, 62.098226, 322.182437)\" x=\"62.098226\" y=\"322.182437\">0</text>\n     </g>\n    </g>\n    <g id=\"xtick_2\">\n     <g id=\"line2d_2\">\n      <path clip-path=\"url(#pbcb1736643)\" d=\"M 110.991982 307.584  L 110.991982 41.472  \" style=\"fill:none;stroke:#ffffff;stroke-linecap:square;\"/>\n     </g>\n     <g id=\"text_2\">\n      <text style=\"font-family:DejaVu Sans;font-size:10px;font-style:normal;font-weight:400;text-anchor:middle;\" transform=\"rotate(-0, 110.991982, 322.182437)\" x=\"110.991982\" y=\"322.182437\">25</text>\n     </g>\n    </g>\n    <g id=\"xtick_3\">\n     <g id=\"line2d_3\">\n      <path clip-path=\"url(#pbcb1736643)\" d=\"M 159.885739 307.584  L 159.885739 41.472  \" style=\"fill:none;stroke:#ffffff;stroke-linecap:square;\"/>\n     </g>\n     <g id=\"text_3\">\n      <text style=\"font-family:DejaVu Sans;font-size:10px;font-style:normal;font-weight:400;text-anchor:middle;\" transform=\"rotate(-0, 159.885739, 322.182437)\" x=\"159.885739\" y=\"322.182437\">50</text>\n     </g>\n    </g>\n    <g id=\"xtick_4\">\n     <g id=\"line2d_4\">\n      <path clip-path=\"url(#pbcb1736643)\" d=\"M 208.779496 307.584  L 208.779496 41.472  \" style=\"fill:none;stroke:#ffffff;stroke-linecap:square;\"/>\n     </g>\n     <g id=\"text_4\">\n      <text style=\"font-family:DejaVu Sans;font-size:10px;font-style:normal;font-weight:400;text-anchor:middle;\" transform=\"rotate(-0, 208.779496, 322.182437)\" x=\"208.779496\" y=\"322.182437\">75</text>\n     </g>\n    </g>\n    <g id=\"xtick_5\">\n     <g id=\"line2d_5\">\n      <path clip-path=\"url(#pbcb1736643)\" d=\"M 257.673253 307.584  L 257.673253 41.472  \" style=\"fill:none;stroke:#ffffff;stroke-linecap:square;\"/>\n     </g>\n     <g id=\"text_5\">\n      <text style=\"font-family:DejaVu Sans;font-size:10px;font-style:normal;font-weight:400;text-anchor:middle;\" transform=\"rotate(-0, 257.673253, 322.182437)\" x=\"257.673253\" y=\"322.182437\">100</text>\n     </g>\n    </g>\n    <g id=\"xtick_6\">\n     <g id=\"line2d_6\">\n      <path clip-path=\"url(#pbcb1736643)\" d=\"M 306.56701 307.584  L 306.56701 41.472  \" style=\"fill:none;stroke:#ffffff;stroke-linecap:square;\"/>\n     </g>\n     <g id=\"text_6\">\n      <text style=\"font-family:DejaVu Sans;font-size:10px;font-style:normal;font-weight:400;text-anchor:middle;\" transform=\"rotate(-0, 306.56701, 322.182437)\" x=\"306.56701\" y=\"322.182437\">125</text>\n     </g>\n    </g>\n    <g id=\"xtick_7\">\n     <g id=\"line2d_7\">\n      <path clip-path=\"url(#pbcb1736643)\" d=\"M 355.460767 307.584  L 355.460767 41.472  \" style=\"fill:none;stroke:#ffffff;stroke-linecap:square;\"/>\n     </g>\n     <g id=\"text_7\">\n      <text style=\"font-family:DejaVu Sans;font-size:10px;font-style:normal;font-weight:400;text-anchor:middle;\" transform=\"rotate(-0, 355.460767, 322.182437)\" x=\"355.460767\" y=\"322.182437\">150</text>\n     </g>\n    </g>\n    <g id=\"xtick_8\">\n     <g id=\"line2d_8\">\n      <path clip-path=\"url(#pbcb1736643)\" d=\"M 404.354524 307.584  L 404.354524 41.472  \" style=\"fill:none;stroke:#ffffff;stroke-linecap:square;\"/>\n     </g>\n     <g id=\"text_8\">\n      <text style=\"font-family:DejaVu Sans;font-size:10px;font-style:normal;font-weight:400;text-anchor:middle;\" transform=\"rotate(-0, 404.354524, 322.182437)\" x=\"404.354524\" y=\"322.182437\">175</text>\n     </g>\n    </g>\n    <g id=\"text_9\">\n     <text style=\"font-family:DejaVu Sans;font-size:10px;font-style:normal;font-weight:400;text-anchor:middle;\" transform=\"rotate(-0, 236.16, 335.860562)\" x=\"236.16\" y=\"335.860562\">Cricket Chirps Per Minute</text>\n    </g>\n   </g>\n   <g id=\"matplotlib.axis_2\">\n    <g id=\"ytick_1\">\n     <g id=\"line2d_9\">\n      <path clip-path=\"url(#pbcb1736643)\" d=\"M 57.6 279.36  L 414.72 279.36  \" style=\"fill:none;stroke:#ffffff;stroke-linecap:square;\"/>\n     </g>\n     <g id=\"text_10\">\n      <text style=\"font-family:DejaVu Sans;font-size:10px;font-style:normal;font-weight:400;text-anchor:end;\" transform=\"rotate(-0, 50.6, 283.159219)\" x=\"50.6\" y=\"283.159219\">5</text>\n     </g>\n    </g>\n    <g id=\"ytick_2\">\n     <g id=\"line2d_10\">\n      <path clip-path=\"url(#pbcb1736643)\" d=\"M 57.6 239.04  L 414.72 239.04  \" style=\"fill:none;stroke:#ffffff;stroke-linecap:square;\"/>\n     </g>\n     <g id=\"text_11\">\n      <text style=\"font-family:DejaVu Sans;font-size:10px;font-style:normal;font-weight:400;text-anchor:end;\" transform=\"rotate(-0, 50.6, 242.839219)\" x=\"50.6\" y=\"242.839219\">10</text>\n     </g>\n    </g>\n    <g id=\"ytick_3\">\n     <g id=\"line2d_11\">\n      <path clip-path=\"url(#pbcb1736643)\" d=\"M 57.6 198.72  L 414.72 198.72  \" style=\"fill:none;stroke:#ffffff;stroke-linecap:square;\"/>\n     </g>\n     <g id=\"text_12\">\n      <text style=\"font-family:DejaVu Sans;font-size:10px;font-style:normal;font-weight:400;text-anchor:end;\" transform=\"rotate(-0, 50.6, 202.519219)\" x=\"50.6\" y=\"202.519219\">15</text>\n     </g>\n    </g>\n    <g id=\"ytick_4\">\n     <g id=\"line2d_12\">\n      <path clip-path=\"url(#pbcb1736643)\" d=\"M 57.6 158.4  L 414.72 158.4  \" style=\"fill:none;stroke:#ffffff;stroke-linecap:square;\"/>\n     </g>\n     <g id=\"text_13\">\n      <text style=\"font-family:DejaVu Sans;font-size:10px;font-style:normal;font-weight:400;text-anchor:end;\" transform=\"rotate(-0, 50.6, 162.199219)\" x=\"50.6\" y=\"162.199219\">20</text>\n     </g>\n    </g>\n    <g id=\"ytick_5\">\n     <g id=\"line2d_13\">\n      <path clip-path=\"url(#pbcb1736643)\" d=\"M 57.6 118.08  L 414.72 118.08  \" style=\"fill:none;stroke:#ffffff;stroke-linecap:square;\"/>\n     </g>\n     <g id=\"text_14\">\n      <text style=\"font-family:DejaVu Sans;font-size:10px;font-style:normal;font-weight:400;text-anchor:end;\" transform=\"rotate(-0, 50.6, 121.879219)\" x=\"50.6\" y=\"121.879219\">25</text>\n     </g>\n    </g>\n    <g id=\"ytick_6\">\n     <g id=\"line2d_14\">\n      <path clip-path=\"url(#pbcb1736643)\" d=\"M 57.6 77.76  L 414.72 77.76  \" style=\"fill:none;stroke:#ffffff;stroke-linecap:square;\"/>\n     </g>\n     <g id=\"text_15\">\n      <text style=\"font-family:DejaVu Sans;font-size:10px;font-style:normal;font-weight:400;text-anchor:end;\" transform=\"rotate(-0, 50.6, 81.559219)\" x=\"50.6\" y=\"81.559219\">30</text>\n     </g>\n    </g>\n    <g id=\"text_16\">\n     <text style=\"font-family:DejaVu Sans;font-size:10px;font-style:normal;font-weight:400;text-anchor:middle;\" transform=\"rotate(-90, 31.795312, 174.528)\" x=\"31.795312\" y=\"174.528\">Temperature in Celsius</text>\n    </g>\n   </g>\n   <g id=\"line2d_15\">\n    <defs>\n     <path d=\"M 0 3  C 0.795609 3 1.55874 2.683901 2.12132 2.12132  C 2.683901 1.55874 3 0.795609 3 0  C 3 -0.795609 2.683901 -1.55874 2.12132 -2.12132  C 1.55874 -2.683901 0.795609 -3 0 -3  C -0.795609 -3 -1.55874 -2.683901 -2.12132 -2.12132  C -2.683901 -1.55874 -3 -0.795609 -3 0  C -3 0.795609 -2.683901 1.55874 -2.12132 2.12132  C -1.55874 2.683901 -0.795609 3 0 3  z \" id=\"mf46d2e96b5\" style=\"stroke:#ff0000;\"/>\n    </defs>\n    <g clip-path=\"url(#pbcb1736643)\">\n     <use style=\"fill:#ff0000;stroke:#ff0000;\" x=\"73.832727\" xlink:href=\"#mf46d2e96b5\" y=\"279.36\"/>\n     <use style=\"fill:#ff0000;stroke:#ff0000;\" x=\"97.301731\" xlink:href=\"#mf46d2e96b5\" y=\"295.488\"/>\n     <use style=\"fill:#ff0000;stroke:#ff0000;\" x=\"124.682234\" xlink:href=\"#mf46d2e96b5\" y=\"277.7472\"/>\n     <use style=\"fill:#ff0000;stroke:#ff0000;\" x=\"150.106988\" xlink:href=\"#mf46d2e96b5\" y=\"263.232\"/>\n     <use style=\"fill:#ff0000;stroke:#ff0000;\" x=\"163.79724\" xlink:href=\"#mf46d2e96b5\" y=\"230.976\"/>\n    </g>\n   </g>\n   <g id=\"line2d_16\">\n    <g clip-path=\"url(#pbcb1736643)\">\n     <use style=\"fill:#ff0000;stroke:#ff0000;\" x=\"185.310493\" xlink:href=\"#mf46d2e96b5\" y=\"214.848\"/>\n     <use style=\"fill:#ff0000;stroke:#ff0000;\" x=\"214.646747\" xlink:href=\"#mf46d2e96b5\" y=\"202.752\"/>\n     <use style=\"fill:#ff0000;stroke:#ff0000;\" x=\"222.469748\" xlink:href=\"#mf46d2e96b5\" y=\"190.656\"/>\n     <use style=\"fill:#ff0000;stroke:#ff0000;\" x=\"238.11575\" xlink:href=\"#mf46d2e96b5\" y=\"166.464\"/>\n     <use style=\"fill:#ff0000;stroke:#ff0000;\" x=\"253.761752\" xlink:href=\"#mf46d2e96b5\" y=\"150.336\"/>\n    </g>\n   </g>\n   <g id=\"line2d_17\">\n    <g clip-path=\"url(#pbcb1736643)\">\n     <use style=\"fill:#ff0000;stroke:#ff0000;\" x=\"265.496254\" xlink:href=\"#mf46d2e96b5\" y=\"142.272\"/>\n     <use style=\"fill:#ff0000;stroke:#ff0000;\" x=\"279.186506\" xlink:href=\"#mf46d2e96b5\" y=\"124.5312\"/>\n     <use style=\"fill:#ff0000;stroke:#ff0000;\" x=\"296.788258\" xlink:href=\"#mf46d2e96b5\" y=\"118.08\"/>\n     <use style=\"fill:#ff0000;stroke:#ff0000;\" x=\"320.257262\" xlink:href=\"#mf46d2e96b5\" y=\"76.9536\"/>\n     <use style=\"fill:#ff0000;stroke:#ff0000;\" x=\"349.593516\" xlink:href=\"#mf46d2e96b5\" y=\"85.824\"/>\n    </g>\n   </g>\n   <g id=\"line2d_18\">\n    <g clip-path=\"url(#pbcb1736643)\">\n     <use style=\"fill:#ff0000;stroke:#ff0000;\" x=\"365.239518\" xlink:href=\"#mf46d2e96b5\" y=\"77.76\"/>\n     <use style=\"fill:#ff0000;stroke:#ff0000;\" x=\"378.92977\" xlink:href=\"#mf46d2e96b5\" y=\"67.2768\"/>\n     <use style=\"fill:#ff0000;stroke:#ff0000;\" x=\"398.487273\" xlink:href=\"#mf46d2e96b5\" y=\"53.568\"/>\n    </g>\n   </g>\n  </g>\n </g>\n <defs>\n  <clipPath id=\"pbcb1736643\">\n   <rect height=\"266.112\" width=\"357.12\" x=\"57.6\" y=\"41.472\"/>\n  </clipPath>\n </defs>\n</svg>",
      "text/plain": [
       "<IPython.core.display.SVG object>"
      ]
     },
     "execution_count": 1,
     "metadata": {},
     "output_type": "execute_result"
    }
   ],
   "source": [
    "from IPython.display import SVG\n",
    "\n",
    "SVG(filename=\"CricketPoints.svg\")"
   ]
  },
  {
   "cell_type": "markdown",
   "metadata": {
    "collapsed": false,
    "pycharm": {
     "name": "#%% md\n"
    }
   },
   "source": [
    "As expected, the plot shows the temperature rising with the number of chirps. Is this relationship between chirps and temperature linear? Yes, you could draw a single straight line like the following to approximate this relationship:\n",
    "\n"
   ]
  },
  {
   "cell_type": "code",
   "execution_count": 2,
   "metadata": {
    "collapsed": false,
    "pycharm": {
     "name": "#%%\n"
    }
   },
   "outputs": [
    {
     "data": {
      "image/svg+xml": "<svg xmlns=\"http://www.w3.org/2000/svg\" xmlns:xlink=\"http://www.w3.org/1999/xlink\" height=\"345pt\" version=\"1.1\" viewBox=\"0 0 460 345\" width=\"460pt\">\n <desc>Best line establishing relationship of chirps/minute (x-axis) vs. temperature (y-axis).</desc>\n <defs>\n  <style type=\"text/css\">\n*{stroke-linecap:butt;stroke-linejoin:round;}\n  </style>\n </defs>\n <g id=\"figure_1\">\n  <g id=\"patch_1\">\n   <path d=\"M 0 345.6  L 460.8 345.6  L 460.8 0  L 0 0  z \" style=\"fill:#ffffff;\"/>\n  </g>\n  <g id=\"axes_1\">\n   <g id=\"patch_2\">\n    <path d=\"M 57.6 307.584  L 414.72 307.584  L 414.72 41.472  L 57.6 41.472  z \" style=\"fill:#eaeaf2;\"/>\n   </g>\n   <g id=\"matplotlib.axis_1\">\n    <g id=\"xtick_1\">\n     <g id=\"line2d_1\">\n      <path clip-path=\"url(#p7cdca4d349)\" d=\"M 64.556883 307.584  L 64.556883 41.472  \" style=\"fill:none;stroke:#ffffff;stroke-linecap:square;\"/>\n     </g>\n     <g id=\"text_1\">\n      <text style=\"font-family:DejaVu Sans;font-size:10px;font-style:normal;font-weight:400;text-anchor:middle;\" transform=\"rotate(-0, 64.556883, 322.182437)\" x=\"64.556883\" y=\"322.182437\">0</text>\n     </g>\n    </g>\n    <g id=\"xtick_2\">\n     <g id=\"line2d_2\">\n      <path clip-path=\"url(#p7cdca4d349)\" d=\"M 110.936104 307.584  L 110.936104 41.472  \" style=\"fill:none;stroke:#ffffff;stroke-linecap:square;\"/>\n     </g>\n     <g id=\"text_2\">\n      <text style=\"font-family:DejaVu Sans;font-size:10px;font-style:normal;font-weight:400;text-anchor:middle;\" transform=\"rotate(-0, 110.936104, 322.182437)\" x=\"110.936104\" y=\"322.182437\">25</text>\n     </g>\n    </g>\n    <g id=\"xtick_3\">\n     <g id=\"line2d_3\">\n      <path clip-path=\"url(#p7cdca4d349)\" d=\"M 157.315325 307.584  L 157.315325 41.472  \" style=\"fill:none;stroke:#ffffff;stroke-linecap:square;\"/>\n     </g>\n     <g id=\"text_3\">\n      <text style=\"font-family:DejaVu Sans;font-size:10px;font-style:normal;font-weight:400;text-anchor:middle;\" transform=\"rotate(-0, 157.315325, 322.182437)\" x=\"157.315325\" y=\"322.182437\">50</text>\n     </g>\n    </g>\n    <g id=\"xtick_4\">\n     <g id=\"line2d_4\">\n      <path clip-path=\"url(#p7cdca4d349)\" d=\"M 203.694545 307.584  L 203.694545 41.472  \" style=\"fill:none;stroke:#ffffff;stroke-linecap:square;\"/>\n     </g>\n     <g id=\"text_4\">\n      <text style=\"font-family:DejaVu Sans;font-size:10px;font-style:normal;font-weight:400;text-anchor:middle;\" transform=\"rotate(-0, 203.694545, 322.182437)\" x=\"203.694545\" y=\"322.182437\">75</text>\n     </g>\n    </g>\n    <g id=\"xtick_5\">\n     <g id=\"line2d_5\">\n      <path clip-path=\"url(#p7cdca4d349)\" d=\"M 250.073766 307.584  L 250.073766 41.472  \" style=\"fill:none;stroke:#ffffff;stroke-linecap:square;\"/>\n     </g>\n     <g id=\"text_5\">\n      <text style=\"font-family:DejaVu Sans;font-size:10px;font-style:normal;font-weight:400;text-anchor:middle;\" transform=\"rotate(-0, 250.073766, 322.182437)\" x=\"250.073766\" y=\"322.182437\">100</text>\n     </g>\n    </g>\n    <g id=\"xtick_6\">\n     <g id=\"line2d_6\">\n      <path clip-path=\"url(#p7cdca4d349)\" d=\"M 296.452987 307.584  L 296.452987 41.472  \" style=\"fill:none;stroke:#ffffff;stroke-linecap:square;\"/>\n     </g>\n     <g id=\"text_6\">\n      <text style=\"font-family:DejaVu Sans;font-size:10px;font-style:normal;font-weight:400;text-anchor:middle;\" transform=\"rotate(-0, 296.452987, 322.182437)\" x=\"296.452987\" y=\"322.182437\">125</text>\n     </g>\n    </g>\n    <g id=\"xtick_7\">\n     <g id=\"line2d_7\">\n      <path clip-path=\"url(#p7cdca4d349)\" d=\"M 342.832208 307.584  L 342.832208 41.472  \" style=\"fill:none;stroke:#ffffff;stroke-linecap:square;\"/>\n     </g>\n     <g id=\"text_7\">\n      <text style=\"font-family:DejaVu Sans;font-size:10px;font-style:normal;font-weight:400;text-anchor:middle;\" transform=\"rotate(-0, 342.832208, 322.182437)\" x=\"342.832208\" y=\"322.182437\">150</text>\n     </g>\n    </g>\n    <g id=\"xtick_8\">\n     <g id=\"line2d_8\">\n      <path clip-path=\"url(#p7cdca4d349)\" d=\"M 389.211429 307.584  L 389.211429 41.472  \" style=\"fill:none;stroke:#ffffff;stroke-linecap:square;\"/>\n     </g>\n     <g id=\"text_8\">\n      <text style=\"font-family:DejaVu Sans;font-size:10px;font-style:normal;font-weight:400;text-anchor:middle;\" transform=\"rotate(-0, 389.211429, 322.182437)\" x=\"389.211429\" y=\"322.182437\">175</text>\n     </g>\n    </g>\n    <g id=\"text_9\">\n     <text style=\"font-family:DejaVu Sans;font-size:10px;font-style:normal;font-weight:400;text-anchor:middle;\" transform=\"rotate(-0, 236.16, 335.860562)\" x=\"236.16\" y=\"335.860562\">Cricket Chirps Per Minute</text>\n    </g>\n   </g>\n   <g id=\"matplotlib.axis_2\">\n    <g id=\"ytick_1\">\n     <g id=\"line2d_9\">\n      <path clip-path=\"url(#p7cdca4d349)\" d=\"M 57.6 273.495273  L 414.72 273.495273  \" style=\"fill:none;stroke:#ffffff;stroke-linecap:square;\"/>\n     </g>\n     <g id=\"text_10\">\n      <text style=\"font-family:DejaVu Sans;font-size:10px;font-style:normal;font-weight:400;text-anchor:end;\" transform=\"rotate(-0, 50.6, 277.294491)\" x=\"50.6\" y=\"277.294491\">5</text>\n     </g>\n    </g>\n    <g id=\"ytick_2\">\n     <g id=\"line2d_10\">\n      <path clip-path=\"url(#p7cdca4d349)\" d=\"M 57.6 236.840727  L 414.72 236.840727  \" style=\"fill:none;stroke:#ffffff;stroke-linecap:square;\"/>\n     </g>\n     <g id=\"text_11\">\n      <text style=\"font-family:DejaVu Sans;font-size:10px;font-style:normal;font-weight:400;text-anchor:end;\" transform=\"rotate(-0, 50.6, 240.639946)\" x=\"50.6\" y=\"240.639946\">10</text>\n     </g>\n    </g>\n    <g id=\"ytick_3\">\n     <g id=\"line2d_11\">\n      <path clip-path=\"url(#p7cdca4d349)\" d=\"M 57.6 200.186182  L 414.72 200.186182  \" style=\"fill:none;stroke:#ffffff;stroke-linecap:square;\"/>\n     </g>\n     <g id=\"text_12\">\n      <text style=\"font-family:DejaVu Sans;font-size:10px;font-style:normal;font-weight:400;text-anchor:end;\" transform=\"rotate(-0, 50.6, 203.985401)\" x=\"50.6\" y=\"203.985401\">15</text>\n     </g>\n    </g>\n    <g id=\"ytick_4\">\n     <g id=\"line2d_12\">\n      <path clip-path=\"url(#p7cdca4d349)\" d=\"M 57.6 163.531636  L 414.72 163.531636  \" style=\"fill:none;stroke:#ffffff;stroke-linecap:square;\"/>\n     </g>\n     <g id=\"text_13\">\n      <text style=\"font-family:DejaVu Sans;font-size:10px;font-style:normal;font-weight:400;text-anchor:end;\" transform=\"rotate(-0, 50.6, 167.330855)\" x=\"50.6\" y=\"167.330855\">20</text>\n     </g>\n    </g>\n    <g id=\"ytick_5\">\n     <g id=\"line2d_13\">\n      <path clip-path=\"url(#p7cdca4d349)\" d=\"M 57.6 126.877091  L 414.72 126.877091  \" style=\"fill:none;stroke:#ffffff;stroke-linecap:square;\"/>\n     </g>\n     <g id=\"text_14\">\n      <text style=\"font-family:DejaVu Sans;font-size:10px;font-style:normal;font-weight:400;text-anchor:end;\" transform=\"rotate(-0, 50.6, 130.67631)\" x=\"50.6\" y=\"130.67631\">25</text>\n     </g>\n    </g>\n    <g id=\"ytick_6\">\n     <g id=\"line2d_14\">\n      <path clip-path=\"url(#p7cdca4d349)\" d=\"M 57.6 90.222545  L 414.72 90.222545  \" style=\"fill:none;stroke:#ffffff;stroke-linecap:square;\"/>\n     </g>\n     <g id=\"text_15\">\n      <text style=\"font-family:DejaVu Sans;font-size:10px;font-style:normal;font-weight:400;text-anchor:end;\" transform=\"rotate(-0, 50.6, 94.021764)\" x=\"50.6\" y=\"94.021764\">30</text>\n     </g>\n    </g>\n    <g id=\"ytick_7\">\n     <g id=\"line2d_15\">\n      <path clip-path=\"url(#p7cdca4d349)\" d=\"M 57.6 53.568  L 414.72 53.568  \" style=\"fill:none;stroke:#ffffff;stroke-linecap:square;\"/>\n     </g>\n     <g id=\"text_16\">\n      <text style=\"font-family:DejaVu Sans;font-size:10px;font-style:normal;font-weight:400;text-anchor:end;\" transform=\"rotate(-0, 50.6, 57.367219)\" x=\"50.6\" y=\"57.367219\">35</text>\n     </g>\n    </g>\n    <g id=\"text_17\">\n     <text style=\"font-family:DejaVu Sans;font-size:10px;font-style:normal;font-weight:400;text-anchor:middle;\" transform=\"rotate(-90, 31.795312, 174.528)\" x=\"31.795312\" y=\"174.528\">Temperature in Celsius</text>\n    </g>\n   </g>\n   <g id=\"line2d_16\">\n    <defs>\n     <path d=\"M 0 3  C 0.795609 3 1.55874 2.683901 2.12132 2.12132  C 2.683901 1.55874 3 0.795609 3 0  C 3 -0.795609 2.683901 -1.55874 2.12132 -2.12132  C 1.55874 -2.683901 0.795609 -3 0 -3  C -0.795609 -3 -1.55874 -2.683901 -2.12132 -2.12132  C -2.683901 -1.55874 -3 -0.795609 -3 0  C -3 0.795609 -2.683901 1.55874 -2.12132 2.12132  C -1.55874 2.683901 -0.795609 3 0 3  z \" id=\"m0a9371084f\" style=\"stroke:#ff0000;\"/>\n    </defs>\n    <g clip-path=\"url(#p7cdca4d349)\">\n     <use style=\"fill:#ff0000;stroke:#ff0000;\" x=\"75.687896\" xlink:href=\"#m0a9371084f\" y=\"273.495273\"/>\n     <use style=\"fill:#ff0000;stroke:#ff0000;\" x=\"97.949922\" xlink:href=\"#m0a9371084f\" y=\"288.157091\"/>\n     <use style=\"fill:#ff0000;stroke:#ff0000;\" x=\"123.922286\" xlink:href=\"#m0a9371084f\" y=\"272.029091\"/>\n     <use style=\"fill:#ff0000;stroke:#ff0000;\" x=\"148.039481\" xlink:href=\"#m0a9371084f\" y=\"258.833455\"/>\n     <use style=\"fill:#ff0000;stroke:#ff0000;\" x=\"161.025662\" xlink:href=\"#m0a9371084f\" y=\"229.509818\"/>\n    </g>\n   </g>\n   <g id=\"line2d_17\">\n    <g clip-path=\"url(#p7cdca4d349)\">\n     <use style=\"fill:#ff0000;stroke:#ff0000;\" x=\"181.432519\" xlink:href=\"#m0a9371084f\" y=\"214.848\"/>\n     <use style=\"fill:#ff0000;stroke:#ff0000;\" x=\"209.260052\" xlink:href=\"#m0a9371084f\" y=\"203.851636\"/>\n     <use style=\"fill:#ff0000;stroke:#ff0000;\" x=\"216.680727\" xlink:href=\"#m0a9371084f\" y=\"192.855273\"/>\n     <use style=\"fill:#ff0000;stroke:#ff0000;\" x=\"231.522078\" xlink:href=\"#m0a9371084f\" y=\"170.862545\"/>\n     <use style=\"fill:#ff0000;stroke:#ff0000;\" x=\"246.363429\" xlink:href=\"#m0a9371084f\" y=\"156.200727\"/>\n    </g>\n   </g>\n   <g id=\"line2d_18\">\n    <g clip-path=\"url(#p7cdca4d349)\">\n     <use style=\"fill:#ff0000;stroke:#ff0000;\" x=\"257.494442\" xlink:href=\"#m0a9371084f\" y=\"148.869818\"/>\n     <use style=\"fill:#ff0000;stroke:#ff0000;\" x=\"270.480623\" xlink:href=\"#m0a9371084f\" y=\"132.741818\"/>\n     <use style=\"fill:#ff0000;stroke:#ff0000;\" x=\"287.177143\" xlink:href=\"#m0a9371084f\" y=\"126.877091\"/>\n     <use style=\"fill:#ff0000;stroke:#ff0000;\" x=\"309.439169\" xlink:href=\"#m0a9371084f\" y=\"89.489455\"/>\n     <use style=\"fill:#ff0000;stroke:#ff0000;\" x=\"337.266701\" xlink:href=\"#m0a9371084f\" y=\"97.553455\"/>\n    </g>\n   </g>\n   <g id=\"line2d_19\">\n    <g clip-path=\"url(#p7cdca4d349)\">\n     <use style=\"fill:#ff0000;stroke:#ff0000;\" x=\"352.108052\" xlink:href=\"#m0a9371084f\" y=\"90.222545\"/>\n     <use style=\"fill:#ff0000;stroke:#ff0000;\" x=\"365.094234\" xlink:href=\"#m0a9371084f\" y=\"80.692364\"/>\n     <use style=\"fill:#ff0000;stroke:#ff0000;\" x=\"383.645922\" xlink:href=\"#m0a9371084f\" y=\"68.229818\"/>\n    </g>\n   </g>\n   <g id=\"line2d_20\">\n    <path clip-path=\"url(#p7cdca4d349)\" d=\"M 73.832727 295.488  L 398.487273 53.568  \" style=\"fill:none;stroke:#1f77b4;stroke-linecap:square;stroke-width:1.5;\"/>\n   </g>\n  </g>\n </g>\n <defs>\n  <clipPath id=\"p7cdca4d349\">\n   <rect height=\"266.112\" width=\"357.12\" x=\"57.6\" y=\"41.472\"/>\n  </clipPath>\n </defs>\n</svg>",
      "text/plain": [
       "<IPython.core.display.SVG object>"
      ]
     },
     "execution_count": 2,
     "metadata": {},
     "output_type": "execute_result"
    }
   ],
   "source": [
    "SVG(filename=\"CricketLine.svg\")"
   ]
  },
  {
   "cell_type": "markdown",
   "metadata": {
    "collapsed": false,
    "pycharm": {
     "name": "#%% md\n"
    }
   },
   "source": [
    "True, the line doesn't pass through every dot, but the line does clearly show the relationship between chirps and temperature. Using the equation for a line, you could write down this relationship as follows:\n",
    "\n",
    "$$y\\,=mx\\,+\\,b$$\n",
    "\n",
    "where,\n",
    "\n",
    "- $y$ is the temperature in Celsius - the value we're trying to predict\n",
    "- $m$ is the slope of the line.\n",
    "- $x$ is the number of chirps per minute - the value of our input feature.\n",
    "- $b$ is the y-intercept.\n",
    "\n",
    "By convention in machine learning, you'll write the equation for a model slightly differently:\n",
    "\n",
    "$${y}'\\,=b\\,+\\,w_{1}x_{1}$$\n",
    "\n",
    "where:\n",
    "\n",
    "- ${y}'$ is the predicted label (a desired output)\n",
    "- $b$ is the bias (the y-intercept), sometimes referred to as $w_{0}$.\n",
    "- $w_{1}$ is the weight of feature 1. Weight is the same concept as the \"slope\" $m$ in he traditional equation of a line.\n",
    "- $x_{1}$ is a feature (a known input).\n",
    "\n",
    "To infer (predict) the temperature ${y}'$ for a new chirps-per-minute value $x_{1}, just substitute the $x_{1}  value into this model.\n",
    "\n",
    "Although this model uses only one feature, a more sophisticated model might rely on multiple features, each having a separate weight ($w_{1}$,$w_{2}$,etc.). . For example, a model that relies on three features might look as follows:\n",
    "\n",
    "$${y}'\\,=b\\,+\\,w_{1}x_{1}+\\,w_{2}x_{2}+\\,w_{3}x_{3}$$"
   ]
  },
  {
   "cell_type": "markdown",
   "metadata": {
    "collapsed": false,
    "pycharm": {
     "name": "#%% md\n"
    }
   },
   "source": [
    "_Training and Loss_\n",
    "\n",
    "**Training** a model simply means learning (determining) good values for all the weights and the bias from labeled examples. In supervised learning, a machine learning algorithm builds a model by examining many examples and attempting to find a model that minimizes loss; this process is called **empirical risk minimization**.\n",
    "\n",
    "Loss is the penalty for a bad prediction. That is, **loss** is a number indicating how bad the model's prediction was on a single example. If the model's prediction is perfect, the loss is zero; otherwise, the loss is greater. The goal of training a model is to find a set of weights and biases that have _low_ loss, on average, across all examples. For example, Figure 3 shows a high loss model on the left and a low loss model on the right. Note the following about the figure:\n",
    "\n",
    "- The arrows represent loss.\n",
    "- The blue lines represent predictions.\n",
    "\n",
    "------\n",
    "\n",
    "**Bir modeli eğitmek**, basitçe, etiketlenmiş örneklerden tüm ağırlıklar ve önyargılar için iyi değerleri öğrenmek (belirlemek) anlamına gelir. Denetimli öğrenmede, bir makine öğrenimi algoritması, birçok örneği inceleyerek ve kaybı en aza indiren bir model bulmaya çalışarak bir model oluşturur; bu sürece **ampirik risk minimizasyonu** denir.\n",
    "\n",
    "Kayıp, kötü bir tahminin cezasıdır. Yani, **kayıp**, modelin tahmininin tek bir örnekte ne kadar kötü olduğunu gösteren bir sayıdır. Modelin tahmini mükemmelse kayıp sıfırdır; aksi takdirde kayıp daha büyüktür. Bir modeli eğitmenin amacı, tüm örneklerde ortalama olarak _düşük_ kayıp olan bir dizi ağırlık ve önyargı bulmaktır. Örneğin, Şekil 3, solda yüksek kayıplı bir modeli ve sağda düşük kayıplı bir modeli göstermektedir. Şekil hakkında aşağıdakilere dikkat edin:\n",
    "\n",
    "- Oklar kaybı temsil ediyor.\n",
    "- Mavi çizgiler tahminleri temsil etmektedir.\n",
    "\n",
    "<div>\n",
    "<img src=\"LossSideBySide.png\",width=\"500\"/>\n",
    "</div>\n",
    "\n",
    "Notice that the arrows in the left plot are much longer than their counterparts in the right plot. Clearly, the line in the right plot is a much better predictive model than the line in the left plot.\n",
    "\n",
    "You might be wondering whether you could create a mathematical function—a loss function—that would aggregate the individual losses in a meaningful fashion.\n",
    "\n",
    "----\n",
    "\n",
    "Sol çizimdeki okların, sağdaki çizimdeki karşılıklarından çok daha uzun olduğuna dikkat edin. Açıkça, sağdaki çizimdeki çizgi, soldaki çizimdeki çizgiden çok daha iyi bir tahmin modelidir.\n",
    "\n",
    "Bireysel kayıpları anlamlı bir şekilde toplayacak bir matematiksel fonksiyon – bir kayıp fonksiyonu – oluşturup oluşturamayacağınızı merak ediyor olabilirsiniz."
   ]
  },
  {
   "cell_type": "markdown",
   "metadata": {
    "collapsed": false,
    "pycharm": {
     "name": "#%% md\n"
    }
   },
   "source": [
    "_Mean Square Error(MSE)_\n",
    "\n",
    "It is the average squared loss per example over the whole dataset. To calculate MSE, sum up all the squared losses for individual examples and then divide by the number of examples:\n",
    "\n",
    "$$MSE\\,=\\,\\frac{1}{N}\\,\\sum_{(x,y)\t\\in D}^{}(y-prediction(x))^2$$\n",
    "\n",
    "where:\n",
    "\n",
    "- $(x,y)$ is an example in which\n",
    "    - $x$ is the set of features (for example, chirps/minute, age, gender) that the model uses to make predictions.\n",
    "    - $y$ is the example's label (for example, temperature)\n",
    "- $prediction(x)$ is a function of the weights and bias in combination with the set of features $x$.\n",
    "- $D$ is a data set containing many labeled examples, which are $(x,y)$ pairs.\n",
    "- $N$ is the number of examples in $D$.\n",
    "\n",
    "-----\n",
    "**`Although MSE is commonly-used in machine learning, it is neither the only practical loss function nor the best loss function for all circumstances.`**\n",
    "\n",
    "-----\n",
    "**`MSE, makine öğreniminde yaygın olarak kullanılmasına rağmen, ne tek pratik kayıp işlevi ne de tüm koşullar için en iyi kayıp işlevidir.`**"
   ]
  },
  {
   "cell_type": "markdown",
   "metadata": {
    "collapsed": false,
    "pycharm": {
     "name": "#%% md\n"
    }
   },
   "source": [
    "## Reducing Loss  <a class=\"anchor\" id=\"4\"></a>\n",
    "\n",
    "**How do we choose the set of model parameters that minimizes it?**\n",
    "- One way to get a direction is to compute the gradient.\n",
    "    - The derivative of the loss function with respect to the model parameters.\n",
    "    - For simple loss functions like square loss the derivative is easy to compute, it gives us an efficient way to update model parameters.\n",
    "\n",
    "**How does it work?**\n",
    "- Data comes in, we compute the gradient of the loss function on that data. The negative gradient tells us in which direction to update model parameters in order to reduce loss. We take a step in that direction, get a new version of the model, and now we can recompute the gradient and repeat.\n",
    "\n",
    "If **learning rate is really small** then we'll take a bunch of tiny gradient steps, requiring a lot of computation in order to reach the minimum.\n",
    "\n",
    "If **learning rate is very large** then we'll take a large step in the direction of negative gradient. Potentially overshooting the local minimum and even reaching a point in which the loss is even bigger than before.\n",
    "\n",
    "**How do we reduce loss?**\n",
    "- Hyperparameters are the configuration settings used to tune how the model is trained.\n",
    "- Derivative of $(y-{y}')^2$ with respect to the weights and biases tells us how loss changes for a given example.\n",
    "    - Simple to compute and convex.\n",
    "- So we repeatedly take small steps in the direction that minimizes loss\n",
    "    - We call these **Gradient Steps**\n",
    "\n",
    "\n",
    "_Weight Initialization_\n",
    "\n",
    "- For convex problems, weights can start anywhere (say all 0s)\n",
    "    - Convex: think of a bowl shape\n",
    "    - Just one minimum\n",
    "- Foreshadowing: not true for neural nets\n",
    "    - Non-convex: think of an egg crate\n",
    "    - More than one minimum\n",
    "\n",
    "_An Iterative Approach_\n",
    "\n",
    "When there are multiple weights, the gradient is a vector of partial derivatives with respect to the weights.\n",
    "\n",
    "_Gradient Descent_\n",
    "\n",
    "The gradient always points in the direction of steepest increase in the loss function. The gradient descent algorithm takes a step in the direction of the negative gradient in order to reduce loss as quickly as possible.\n",
    "\n",
    "_Learning Rate_\n",
    "\n",
    "**Hyperparameters** are the knobs that programmers tweak in machine learning algorithms. Most machine learning programmers spend a fair amount of time tuning the learning rate. If you pick a learning rate that is too small, learning will take too long:"
   ]
  },
  {
   "cell_type": "code",
   "execution_count": 7,
   "metadata": {
    "collapsed": false,
    "pycharm": {
     "name": "#%%\n"
    }
   },
   "outputs": [
    {
     "data": {
      "image/svg+xml": "<svg xmlns:dc=\"http://purl.org/dc/elements/1.1/\" xmlns:cc=\"http://creativecommons.org/ns#\" xmlns:rdf=\"http://www.w3.org/1999/02/22-rdf-syntax-ns#\" xmlns:svg=\"http://www.w3.org/2000/svg\" xmlns=\"http://www.w3.org/2000/svg\" xmlns:sodipodi=\"http://sodipodi.sourceforge.net/DTD/sodipodi-0.dtd\" xmlns:inkscape=\"http://www.inkscape.org/namespaces/inkscape\" version=\"1.1\" id=\"svg2\" xml:space=\"preserve\" width=\"583.55133\" height=\"309.70544\" viewBox=\"0 0 583.55133 309.70544\" sodipodi:docname=\"LearningRateTooSmall.svg\" inkscape:version=\"0.92.2pre0 (973e216, 2017-07-25)\"><sodipodi:namedview pagecolor=\"#ffffff\" bordercolor=\"#666666\" borderopacity=\"1\" objecttolerance=\"10\" gridtolerance=\"10\" guidetolerance=\"10\" inkscape:pageopacity=\"0\" inkscape:pageshadow=\"2\" inkscape:window-width=\"1782\" inkscape:window-height=\"1006\" id=\"namedview48\" showgrid=\"false\" inkscape:zoom=\"2.2037479\" inkscape:cx=\"291.77567\" inkscape:cy=\"154.85272\" inkscape:window-x=\"0\" inkscape:window-y=\"621\" inkscape:window-maximized=\"0\" inkscape:current-layer=\"svg2\"/><metadata id=\"metadata8\"><rdf:RDF><cc:Work rdf:about=\"\"><dc:format>image/svg+xml</dc:format><dc:type rdf:resource=\"http://purl.org/dc/dcmitype/StillImage\"/><dc:title/></cc:Work></rdf:RDF></metadata><desc id=\"desc3\">Same U-shaped curve. Lots of points are very close to each other and their trail is making extremely slow progress towards the bottom of the U.</desc><defs id=\"defs6\"><clipPath clipPathUnits=\"userSpaceOnUse\" id=\"clipPath22\"><path d=\"M 0,0 H 365760 V 205740 H 0 Z\" id=\"path20\"/></clipPath></defs><path inkscape:connector-curvature=\"0\" d=\"M 210.63999,252.64384 209.28566,10.43961\" style=\"fill:#000000;fill-opacity:0;fill-rule:evenodd;stroke:none;stroke-width:0.00262467\" id=\"path36\"/><path inkscape:connector-curvature=\"0\" d=\"M 210.58249,242.36276 209.34317,20.72069\" style=\"fill:none;stroke:#595959;stroke-width:2.9999938;stroke-linecap:butt;stroke-linejoin:round;stroke-miterlimit:14.3355875;stroke-dasharray:none;stroke-opacity:1\" id=\"path38\"/><path inkscape:connector-curvature=\"0\" d=\"m 210.58249,242.36276 -3.39254,-3.35482 3.42552,9.25026 3.32187,-9.288 z\" style=\"fill:#595959;fill-opacity:1;fill-rule:evenodd;stroke:#595959;stroke-width:2.9999938;stroke-linecap:butt;stroke-linejoin:miter;stroke-miterlimit:11.47371292;stroke-dasharray:none;stroke-opacity:1\" id=\"path40\"/><path inkscape:connector-curvature=\"0\" d=\"m 209.34317,20.72069 3.39254,3.354826 -3.42553,-9.25028 -3.32185,9.288 z\" style=\"fill:#595959;fill-opacity:1;fill-rule:evenodd;stroke:#595959;stroke-width:2.9999938;stroke-linecap:butt;stroke-linejoin:miter;stroke-miterlimit:11.47371292;stroke-dasharray:none;stroke-opacity:1\" id=\"path42\"/><path inkscape:connector-curvature=\"0\" d=\"M 226.76463,271.21335 H 583.55132\" style=\"fill:#000000;fill-opacity:0;fill-rule:evenodd;stroke:none;stroke-width:0.00262467\" id=\"path50\"/><path inkscape:connector-curvature=\"0\" d=\"M 237.04587,271.21335 H 573.27008\" style=\"fill:none;stroke:#595959;stroke-width:2.9999938;stroke-linecap:butt;stroke-linejoin:round;stroke-miterlimit:14.3355875;stroke-dasharray:none;stroke-opacity:1\" id=\"path52\"/><path inkscape:connector-curvature=\"0\" d=\"m 237.04587,271.21335 3.37375,-3.37375 -9.26931,3.37375 9.26931,3.37375 z\" style=\"fill:#595959;fill-opacity:1;fill-rule:evenodd;stroke:#595959;stroke-width:2.9999938;stroke-linecap:butt;stroke-linejoin:miter;stroke-miterlimit:11.47371292;stroke-dasharray:none;stroke-opacity:1\" id=\"path54\"/><path inkscape:connector-curvature=\"0\" d=\"m 573.27008,271.21335 -3.37375,3.37375 9.2693,-3.37375 -9.2693,-3.37375 z\" style=\"fill:#595959;fill-opacity:1;fill-rule:evenodd;stroke:#595959;stroke-width:2.9999938;stroke-linecap:butt;stroke-linejoin:miter;stroke-miterlimit:11.47371292;stroke-dasharray:none;stroke-opacity:1\" id=\"path56\"/><path inkscape:connector-curvature=\"0\" d=\"m 274.50994,275.78552 h 239.77905 v 30.20467 H 274.50994 Z\" style=\"fill:#000000;fill-opacity:0;fill-rule:evenodd;stroke:none;stroke-width:0.00262467\" id=\"path64\"/><text y=\"302.70544\" x=\"320.9437\" style=\"font-variant:normal;font-weight:normal;font-size:18.66662788px;font-family:Arial;-inkscape-font-specification:ArialMT;writing-mode:lr-tb;fill:#000000;fill-opacity:1;fill-rule:nonzero;stroke:none;stroke-width:0.99999797\" id=\"text74\"><tspan style=\"font-style:normal;font-variant:normal;font-weight:normal;font-stretch:normal;font-family:sans-serif;-inkscape-font-specification:sans-serif;stroke-width:0.99999797\" x=\"320.9437\" y=\"302.70544\" id=\"tspan72\">value of weight <tspan style=\"-inkscape-font-specification:'Times New Roman, Italic';font-family:'Times New Roman';font-weight:normal;font-style:italic;font-stretch:normal;font-variant:normal;font-size:18.66666667px;text-anchor:start;text-align:start;writing-mode:lr;font-variant-ligatures:normal;font-variant-caps:normal;font-variant-numeric:normal;font-feature-settings:normal\" id=\"tspan896\">w<tspan style=\"font-size:65%;baseline-shift:sub\" id=\"tspan898\">i</tspan></tspan> </tspan></text>\n<path inkscape:connector-curvature=\"0\" d=\"m 145.12176,125.35014 h 60.44082 v 30.20465 h -60.44082 z\" style=\"fill:#000000;fill-opacity:0;fill-rule:evenodd;stroke:none;stroke-width:0.00262467\" id=\"path92\"/><text y=\"152.2701\" x=\"158.7538\" style=\"font-variant:normal;font-weight:normal;font-size:18.66662788px;font-family:Arial;-inkscape-font-specification:ArialMT;writing-mode:lr-tb;fill:#000000;fill-opacity:1;fill-rule:nonzero;stroke:none;stroke-width:0.99999797\" id=\"text102\"><tspan style=\"font-style:normal;font-variant:normal;font-weight:normal;font-stretch:normal;font-family:sans-serif;-inkscape-font-specification:sans-serif;stroke-width:0.99999797\" x=\"158.7538\" y=\"152.2701\" id=\"tspan100\">loss</tspan></text>\n<path inkscape:connector-curvature=\"0\" d=\"m 250.64946,33.007823 c 6.86928,26.300386 13.48748,122.586877 41.21572,157.802367 27.72824,35.21545 89.29985,62.40605 125.15374,53.49044 35.85387,-8.91565 69.78093,-70.54285 89.96948,-106.98426 20.18848,-36.44142 25.968,-93.053494 31.16159,-111.664201\" style=\"fill:#000000;fill-opacity:0;fill-rule:evenodd;stroke:none;stroke-width:0.00262467\" id=\"path112\"/><path inkscape:connector-curvature=\"0\" d=\"m 250.64946,33.007823 c 6.86928,26.300386 13.48748,122.586877 41.21572,157.802367 27.72824,35.21545 89.29985,62.40605 125.15374,53.49044 35.85387,-8.91565 69.78093,-70.54285 89.96948,-106.98426 20.18848,-36.44142 25.968,-93.053494 31.16159,-111.664201\" style=\"fill:none;stroke:#595959;stroke-width:7.99998379;stroke-linecap:butt;stroke-linejoin:round;stroke-miterlimit:14.3355875;stroke-dasharray:none;stroke-opacity:1\" id=\"path114\"/><path inkscape:connector-curvature=\"0\" id=\"path120\" style=\"fill:#fff2cc;fill-opacity:1;fill-rule:evenodd;stroke:none;stroke-width:0.00262467\" d=\"m 262.41547,131.1559 v 0 c 0,-3.60941 2.92602,-6.53543 6.53543,-6.53543 v 0 c 1.73331,0 3.39561,0.68856 4.62125,1.91419 1.22562,1.22563 1.91416,2.88793 1.91416,4.62124 v 0 c 0,3.60941 -2.926,6.53541 -6.53541,6.53541 v 0 c -3.60941,0 -6.53543,-2.926 -6.53543,-6.53541 z\"/><path inkscape:connector-curvature=\"0\" d=\"m 262.41547,131.1559 v 0 c 0,-3.60941 2.92602,-6.53543 6.53543,-6.53543 v 0 c 1.73331,0 3.39561,0.68856 4.62125,1.91419 1.22562,1.22563 1.91416,2.88793 1.91416,4.62124 v 0 c 0,3.60941 -2.926,6.53541 -6.53541,6.53541 v 0 c -3.60941,0 -6.53543,-2.926 -6.53543,-6.53541 z\" style=\"fill:none;stroke:#595959;stroke-width:0.99999797;stroke-linecap:butt;stroke-linejoin:round;stroke-miterlimit:14.3355875;stroke-dasharray:none;stroke-opacity:1\" id=\"path122\"/><path inkscape:connector-curvature=\"0\" id=\"path128\" style=\"fill:#fff2cc;fill-opacity:1;fill-rule:evenodd;stroke:none;stroke-width:0.00262467\" d=\"m 306.17917,13.639076 v 0 c 0,-7.2565195 5.88258,-13.13907931 13.13907,-13.13907931 h 17.83199 v 0 h 46.4566 95.25965 c 3.48469,0 6.82668,1.38429331 9.29075,3.84834661 2.46404,2.4640532 3.84833,5.8060267 3.84833,9.2907327 v 32.847706 0 19.708613 0 c 0,7.25652 -5.88259,13.13908 -13.13908,13.13908 H 383.60683 L 278.73818,145.28426 337.15023,79.334475 h -17.83199 c -7.25649,0 -13.13907,-5.88256 -13.13907,-13.13908 v 0 -19.708613 0 z\"/><path inkscape:connector-curvature=\"0\" d=\"m 306.17917,13.639076 v 0 c 0,-7.2565195 5.88258,-13.13907931 13.13907,-13.13907931 h 17.83199 v 0 h 46.4566 95.25965 c 3.48469,0 6.82668,1.38429331 9.29075,3.84834661 2.46404,2.4640532 3.84833,5.8060267 3.84833,9.2907327 v 32.847706 0 19.708613 0 c 0,7.25652 -5.88259,13.13908 -13.13908,13.13908 H 383.60683 L 278.73818,145.28426 337.15023,79.334475 h -17.83199 c -7.25649,0 -13.13907,-5.88256 -13.13907,-13.13908 v 0 -19.708613 0 z\" style=\"fill:none;stroke:#595959;stroke-width:0.99999797;stroke-linecap:butt;stroke-linejoin:round;stroke-miterlimit:14.3355875;stroke-dasharray:none;stroke-opacity:1\" id=\"path130\"/><text y=\"35.837231\" x=\"321.32022\" style=\"font-variant:normal;font-weight:normal;font-size:18.66662788px;font-family:Arial;-inkscape-font-specification:ArialMT;writing-mode:lr-tb;fill:#000000;fill-opacity:1;fill-rule:nonzero;stroke:none;stroke-width:0.99999797\" id=\"text140\"><tspan style=\"font-style:normal;font-variant:normal;font-weight:normal;font-stretch:normal;font-family:sans-serif;-inkscape-font-specification:sans-serif;stroke-width:0.99999797\" x=\"321.32022\" y=\"35.837231\" id=\"tspan138\">Small learning rate</tspan></text>\n<text y=\"57.837189\" x=\"342.58173\" style=\"font-variant:normal;font-weight:normal;font-size:18.66662788px;font-family:Arial;-inkscape-font-specification:ArialMT;writing-mode:lr-tb;fill:#000000;fill-opacity:1;fill-rule:nonzero;stroke:none;stroke-width:0.99999797\" id=\"text144\"><tspan style=\"font-style:normal;font-variant:normal;font-weight:normal;font-stretch:normal;font-family:sans-serif;-inkscape-font-specification:sans-serif;stroke-width:0.99999797\" x=\"342.58173 347.75238\" y=\"57.837189\" id=\"tspan142\">takes forever!</tspan></text>\n<path inkscape:connector-curvature=\"0\" id=\"path152\" style=\"fill:#fff2cc;fill-opacity:1;fill-rule:evenodd;stroke:none;stroke-width:0.00262467\" d=\"m 262.41547,135.84881 v 0 c 0,-3.60942 2.92602,-6.53543 6.53543,-6.53543 v 0 c 1.73331,0 3.39561,0.68856 4.62125,1.91419 1.22562,1.22562 1.91416,2.88793 1.91416,4.62124 v 0 c 0,3.6094 -2.926,6.53541 -6.53541,6.53541 v 0 c -3.60941,0 -6.53543,-2.92601 -6.53543,-6.53541 z\"/><path inkscape:connector-curvature=\"0\" d=\"m 262.41547,135.84881 v 0 c 0,-3.60942 2.92602,-6.53543 6.53543,-6.53543 v 0 c 1.73331,0 3.39561,0.68856 4.62125,1.91419 1.22562,1.22562 1.91416,2.88793 1.91416,4.62124 v 0 c 0,3.6094 -2.926,6.53541 -6.53541,6.53541 v 0 c -3.60941,0 -6.53543,-2.92601 -6.53543,-6.53541 z\" style=\"fill:none;stroke:#595959;stroke-width:0.99999797;stroke-linecap:butt;stroke-linejoin:round;stroke-miterlimit:14.3355875;stroke-dasharray:none;stroke-opacity:1\" id=\"path154\"/><path inkscape:connector-curvature=\"0\" id=\"path160\" style=\"fill:#fff2cc;fill-opacity:1;fill-rule:evenodd;stroke:none;stroke-width:0.00262467\" d=\"m 263.89842,140.95903 v 0 c 0,-3.60941 2.926,-6.53542 6.53541,-6.53542 v 0 c 1.73331,0 3.39562,0.68856 4.62126,1.91418 1.22561,1.22563 1.91417,2.88794 1.91417,4.62124 v 0 c 0,3.6094 -2.92601,6.53542 -6.53543,6.53542 v 0 c -3.60941,0 -6.53541,-2.92602 -6.53541,-6.53542 z\"/><path inkscape:connector-curvature=\"0\" d=\"m 263.89842,140.95903 v 0 c 0,-3.60941 2.926,-6.53542 6.53541,-6.53542 v 0 c 1.73331,0 3.39562,0.68856 4.62126,1.91418 1.22561,1.22563 1.91417,2.88794 1.91417,4.62124 v 0 c 0,3.6094 -2.92601,6.53542 -6.53543,6.53542 v 0 c -3.60941,0 -6.53541,-2.92602 -6.53541,-6.53542 z\" style=\"fill:none;stroke:#595959;stroke-width:0.99999797;stroke-linecap:butt;stroke-linejoin:round;stroke-miterlimit:14.3355875;stroke-dasharray:none;stroke-opacity:1\" id=\"path162\"/><path inkscape:connector-curvature=\"0\" id=\"path168\" style=\"fill:#fff2cc;fill-opacity:1;fill-rule:evenodd;stroke:none;stroke-width:0.00262467\" d=\"m 263.89842,144.22674 v 0 c 0,-3.60941 2.926,-6.53543 6.53541,-6.53543 v 0 c 1.73331,0 3.39562,0.68856 4.62126,1.91419 1.22561,1.22563 1.91417,2.88793 1.91417,4.62124 v 0 c 0,3.60941 -2.92601,6.53541 -6.53543,6.53541 v 0 c -3.60941,0 -6.53541,-2.926 -6.53541,-6.53541 z\"/><path inkscape:connector-curvature=\"0\" d=\"m 263.89842,144.22674 v 0 c 0,-3.60941 2.926,-6.53543 6.53541,-6.53543 v 0 c 1.73331,0 3.39562,0.68856 4.62126,1.91419 1.22561,1.22563 1.91417,2.88793 1.91417,4.62124 v 0 c 0,3.60941 -2.92601,6.53541 -6.53543,6.53541 v 0 c -3.60941,0 -6.53541,-2.926 -6.53541,-6.53541 z\" style=\"fill:none;stroke:#595959;stroke-width:0.99999797;stroke-linecap:butt;stroke-linejoin:round;stroke-miterlimit:14.3355875;stroke-dasharray:none;stroke-opacity:1\" id=\"path170\"/><path inkscape:connector-curvature=\"0\" id=\"path176\" style=\"fill:#fce5cd;fill-opacity:1;fill-rule:evenodd;stroke:none;stroke-width:0.00262467\" d=\"m 0.49999897,52.736102 v 0 c 0,-7.256506 5.88256683,-13.13908 13.13908203,-13.13908 h 77.585144 v 0 h 38.881815 12.78212 c 3.48469,0 6.82668,1.384294 9.29074,3.848347 2.46404,2.464067 3.84835,5.80604 3.84835,9.290733 V 85.583808 L 256.27077,127.9697 156.02725,105.29243 v 0 c 0,7.25652 -5.88256,13.13908 -13.13909,13.13908 H 130.10604 91.224225 v 0 H 13.639081 c -7.2565152,0 -13.13908203,-5.88256 -13.13908203,-13.13908 v 0 -19.708622 0 z\"/><path inkscape:connector-curvature=\"0\" d=\"m 0.49999897,52.736102 v 0 c 0,-7.256506 5.88256683,-13.13908 13.13908203,-13.13908 h 77.585144 v 0 h 38.881815 12.78212 c 3.48469,0 6.82668,1.384294 9.29074,3.848347 2.46404,2.464067 3.84835,5.80604 3.84835,9.290733 V 85.583808 L 256.27077,127.9697 156.02725,105.29243 v 0 c 0,7.25652 -5.88256,13.13908 -13.13909,13.13908 H 130.10604 91.224225 v 0 H 13.639081 c -7.2565152,0 -13.13908203,-5.88256 -13.13908203,-13.13908 v 0 -19.708622 0 z\" style=\"fill:none;stroke:#595959;stroke-width:0.99999797;stroke-linecap:butt;stroke-linejoin:round;stroke-miterlimit:14.3355875;stroke-dasharray:none;stroke-opacity:1\" id=\"path178\"/><text y=\"85.934235\" x=\"24.854748\" style=\"font-variant:normal;font-weight:normal;font-size:18.66662788px;font-family:Arial;-inkscape-font-specification:ArialMT;writing-mode:lr-tb;fill:#000000;fill-opacity:1;fill-rule:nonzero;stroke:none;stroke-width:0.99999797\" id=\"text188\"><tspan style=\"font-style:normal;font-variant:normal;font-weight:normal;font-stretch:normal;font-family:sans-serif;-inkscape-font-specification:sans-serif;stroke-width:0.99999797\" x=\"24.854748\" y=\"85.934235\" id=\"tspan186\">starting point</tspan></text>\n</svg>",
      "text/plain": [
       "<IPython.core.display.SVG object>"
      ]
     },
     "execution_count": 7,
     "metadata": {},
     "output_type": "execute_result"
    }
   ],
   "source": [
    "SVG(filename=\"LearningRateTooSmall.svg\")"
   ]
  },
  {
   "cell_type": "markdown",
   "metadata": {
    "collapsed": false,
    "pycharm": {
     "name": "#%% md\n"
    }
   },
   "source": [
    "\n",
    "Conversely, if you specify a learning rate that is too large, the next point will perpetually bounce haphazardly across the bottom of the well like a quantum mechanics experiment gone horribly wrong:"
   ]
  },
  {
   "cell_type": "code",
   "execution_count": 8,
   "metadata": {
    "collapsed": false,
    "pycharm": {
     "name": "#%%\n"
    }
   },
   "outputs": [
    {
     "data": {
      "image/svg+xml": "<svg xmlns:dc=\"http://purl.org/dc/elements/1.1/\" xmlns:cc=\"http://creativecommons.org/ns#\" xmlns:rdf=\"http://www.w3.org/1999/02/22-rdf-syntax-ns#\" xmlns:svg=\"http://www.w3.org/2000/svg\" xmlns=\"http://www.w3.org/2000/svg\" xmlns:sodipodi=\"http://sodipodi.sourceforge.net/DTD/sodipodi-0.dtd\" xmlns:inkscape=\"http://www.inkscape.org/namespaces/inkscape\" version=\"1.1\" id=\"svg2\" xml:space=\"preserve\" width=\"718.19342\" height=\"299.26587\" viewBox=\"0 0 718.19342 299.26587\" sodipodi:docname=\"LearningRateTooLarge.svg\" inkscape:version=\"0.92.2pre0 (973e216, 2017-07-25)\"><sodipodi:namedview pagecolor=\"#ffffff\" bordercolor=\"#666666\" borderopacity=\"1\" objecttolerance=\"10\" gridtolerance=\"10\" guidetolerance=\"10\" inkscape:pageopacity=\"0\" inkscape:pageshadow=\"2\" inkscape:window-width=\"1553\" inkscape:window-height=\"957\" id=\"namedview59\" showgrid=\"false\" inkscape:zoom=\"1.4717484\" inkscape:cx=\"359.09671\" inkscape:cy=\"149.63293\" inkscape:window-x=\"0\" inkscape:window-y=\"621\" inkscape:window-maximized=\"0\" inkscape:current-layer=\"svg2\"/><metadata id=\"metadata8\"><rdf:RDF><cc:Work rdf:about=\"\"><dc:format>image/svg+xml</dc:format><dc:type rdf:resource=\"http://purl.org/dc/dcmitype/StillImage\"/><dc:title/></cc:Work></rdf:RDF></metadata><desc id=\"desc3\">Same U-shaped curve. This one contains very few points. The trail of points jumps clean across the bottom of the U and then jumps back over again.</desc><defs id=\"defs6\"><clipPath clipPathUnits=\"userSpaceOnUse\" id=\"clipPath22\"><path d=\"M 0,0 H 365760 V 205740 H 0 Z\" id=\"path20\"/></clipPath></defs><path d=\"M 210.64,242.20423 209.28567,-3.272572e-6\" style=\"fill:#000000;fill-opacity:0;fill-rule:evenodd;stroke:none;stroke-width:0.00262467\" id=\"path36\" inkscape:connector-curvature=\"0\"/><path d=\"M 210.58249,231.92315 209.34317,10.281076\" style=\"fill:none;stroke:#595959;stroke-width:2.9999938;stroke-linecap:butt;stroke-linejoin:round;stroke-miterlimit:14.3355875;stroke-dasharray:none;stroke-opacity:1\" id=\"path38\" inkscape:connector-curvature=\"0\"/><path d=\"m 210.58249,231.92315 -3.39254,-3.35483 3.42553,9.25027 3.32185,-9.28799 z\" style=\"fill:#595959;fill-opacity:1;fill-rule:evenodd;stroke:#595959;stroke-width:2.9999938;stroke-linecap:butt;stroke-linejoin:miter;stroke-miterlimit:11.47371292;stroke-dasharray:none;stroke-opacity:1\" id=\"path40\" inkscape:connector-curvature=\"0\"/><path d=\"m 209.34317,10.281076 3.39254,3.354827 -3.42552,-9.2502797 -3.32187,9.2879997 z\" style=\"fill:#595959;fill-opacity:1;fill-rule:evenodd;stroke:#595959;stroke-width:2.9999938;stroke-linecap:butt;stroke-linejoin:miter;stroke-miterlimit:11.47371292;stroke-dasharray:none;stroke-opacity:1\" id=\"path42\" inkscape:connector-curvature=\"0\"/><path d=\"M 226.76464,260.77375 H 583.55131\" style=\"fill:#000000;fill-opacity:0;fill-rule:evenodd;stroke:none;stroke-width:0.00262467\" id=\"path50\" inkscape:connector-curvature=\"0\"/><path d=\"m 237.04587,260.77375 h 336.2242\" style=\"fill:none;stroke:#595959;stroke-width:2.9999938;stroke-linecap:butt;stroke-linejoin:round;stroke-miterlimit:14.3355875;stroke-dasharray:none;stroke-opacity:1\" id=\"path52\" inkscape:connector-curvature=\"0\"/><path d=\"m 237.04587,260.77375 3.37374,-3.37375 -9.26929,3.37375 9.26929,3.37375 z\" style=\"fill:#595959;fill-opacity:1;fill-rule:evenodd;stroke:#595959;stroke-width:2.9999938;stroke-linecap:butt;stroke-linejoin:miter;stroke-miterlimit:11.47371292;stroke-dasharray:none;stroke-opacity:1\" id=\"path54\" inkscape:connector-curvature=\"0\"/><path d=\"m 573.27007,260.77375 -3.37375,3.37375 9.26931,-3.37375 -9.26931,-3.37375 z\" style=\"fill:#595959;fill-opacity:1;fill-rule:evenodd;stroke:#595959;stroke-width:2.9999938;stroke-linecap:butt;stroke-linejoin:miter;stroke-miterlimit:11.47371292;stroke-dasharray:none;stroke-opacity:1\" id=\"path56\" inkscape:connector-curvature=\"0\"/><path d=\"m 274.50994,265.34591 h 239.77905 v 30.20467 H 274.50994 Z\" style=\"fill:#000000;fill-opacity:0;fill-rule:evenodd;stroke:none;stroke-width:0.00262467\" id=\"path64\" inkscape:connector-curvature=\"0\"/><text style=\"font-variant:normal;font-weight:normal;font-size:18.66662788px;font-family:Arial;-inkscape-font-specification:ArialMT;writing-mode:lr-tb;fill:#000000;fill-opacity:1;fill-rule:nonzero;stroke:none;stroke-width:0.99999797\" id=\"text74\" x=\"320.9437\" y=\"292.26584\"><tspan x=\"320.9437\" y=\"292.26584\" id=\"tspan72\" style=\"font-style:normal;font-variant:normal;font-weight:normal;font-stretch:normal;font-family:sans-serif;-inkscape-font-specification:sans-serif;stroke-width:0.99999797\">value of weight <tspan style=\"-inkscape-font-specification:'Times New Roman, Italic';font-family:'Times New Roman';font-weight:normal;font-style:italic;font-stretch:normal;font-variant:normal;font-size:18.66666667px;text-anchor:start;text-align:start;writing-mode:lr;font-variant-ligatures:normal;font-variant-caps:normal;font-variant-numeric:normal;font-feature-settings:normal\" id=\"tspan963\">w<tspan style=\"font-size:65%;baseline-shift:sub\" id=\"tspan965\">i</tspan></tspan> </tspan></text>\n<path d=\"m 145.12175,114.91053 h 60.44082 v 30.20466 h -60.44082 z\" style=\"fill:#000000;fill-opacity:0;fill-rule:evenodd;stroke:none;stroke-width:0.00262467\" id=\"path92\" inkscape:connector-curvature=\"0\"/><text style=\"font-variant:normal;font-weight:normal;font-size:18.66662788px;font-family:Arial;-inkscape-font-specification:ArialMT;writing-mode:lr-tb;fill:#000000;fill-opacity:1;fill-rule:nonzero;stroke:none;stroke-width:0.99999797\" id=\"text102\" x=\"158.7538\" y=\"141.83047\"><tspan x=\"158.7538\" y=\"141.83047\" id=\"tspan100\" style=\"font-style:normal;font-variant:normal;font-weight:normal;font-stretch:normal;font-family:sans-serif;-inkscape-font-specification:sans-serif;stroke-width:0.99999797\">loss</tspan></text>\n<path d=\"m 250.64946,22.568209 c 6.86928,26.3004 13.48748,122.586881 41.21572,157.802371 27.72824,35.21545 89.29985,62.40605 125.15373,53.49044 35.85387,-8.91566 69.78095,-70.54285 89.96948,-106.98427 20.18849,-36.441396 25.96801,-93.053487 31.1616,-111.66418\" style=\"fill:#000000;fill-opacity:0;fill-rule:evenodd;stroke:none;stroke-width:0.00262467\" id=\"path112\" inkscape:connector-curvature=\"0\"/><path d=\"m 250.64946,22.568209 c 6.86928,26.3004 13.48748,122.586881 41.21572,157.802371 27.72824,35.21545 89.29985,62.40605 125.15373,53.49044 35.85387,-8.91566 69.78095,-70.54285 89.96948,-106.98427 20.18849,-36.441396 25.96801,-93.053487 31.1616,-111.66418\" style=\"fill:none;stroke:#595959;stroke-width:7.99998379;stroke-linecap:butt;stroke-linejoin:round;stroke-miterlimit:14.3355875;stroke-dasharray:none;stroke-opacity:1\" id=\"path114\" inkscape:connector-curvature=\"0\"/><path id=\"path120\" style=\"fill:#fff2cc;fill-opacity:1;fill-rule:evenodd;stroke:none;stroke-width:0.00262467\" d=\"m 263.89841,126.06798 v 0 c 0,-3.60941 2.92601,-6.53541 6.53543,-6.53541 v 0 c 1.7333,0 3.39561,0.68854 4.62125,1.91417 1.22561,1.22563 1.91416,2.88793 1.91416,4.62124 v 0 c 0,3.60941 -2.926,6.53543 -6.53541,6.53543 v 0 c -3.60942,0 -6.53543,-2.92602 -6.53543,-6.53543 z\" inkscape:connector-curvature=\"0\"/><path d=\"m 263.89841,126.06798 v 0 c 0,-3.60941 2.92601,-6.53541 6.53543,-6.53541 v 0 c 1.7333,0 3.39561,0.68854 4.62125,1.91417 1.22561,1.22563 1.91416,2.88793 1.91416,4.62124 v 0 c 0,3.60941 -2.926,6.53543 -6.53541,6.53543 v 0 c -3.60942,0 -6.53543,-2.92602 -6.53543,-6.53543 z\" style=\"fill:none;stroke:#595959;stroke-width:0.99999797;stroke-linecap:butt;stroke-linejoin:round;stroke-miterlimit:14.3355875;stroke-dasharray:none;stroke-opacity:1\" id=\"path122\" inkscape:connector-curvature=\"0\"/><path id=\"path128\" style=\"fill:#fff2cc;fill-opacity:1;fill-rule:evenodd;stroke:none;stroke-width:0.00262467\" d=\"m 354.81162,228.19616 v 0 c 0,-3.6094 2.926,-6.53542 6.53542,-6.53542 v 0 c 1.7333,0 3.39561,0.68854 4.62125,1.91418 1.22561,1.22564 1.91417,2.88792 1.91417,4.62124 v 0 c 0,3.6094 -2.92601,6.53542 -6.53542,6.53542 v 0 c -3.60942,0 -6.53542,-2.92602 -6.53542,-6.53542 z\" inkscape:connector-curvature=\"0\"/><path d=\"m 354.81162,228.19616 v 0 c 0,-3.6094 2.926,-6.53542 6.53542,-6.53542 v 0 c 1.7333,0 3.39561,0.68854 4.62125,1.91418 1.22561,1.22564 1.91417,2.88792 1.91417,4.62124 v 0 c 0,3.6094 -2.92601,6.53542 -6.53542,6.53542 v 0 c -3.60942,0 -6.53542,-2.92602 -6.53542,-6.53542 z\" style=\"fill:none;stroke:#595959;stroke-width:0.99999797;stroke-linecap:butt;stroke-linejoin:round;stroke-miterlimit:14.3355875;stroke-dasharray:none;stroke-opacity:1\" id=\"path130\" inkscape:connector-curvature=\"0\"/><path d=\"m 362.23156,125.81077 v 97.16515\" style=\"fill:#000000;fill-opacity:0;fill-rule:evenodd;stroke:none;stroke-width:0.00262467\" id=\"path138\" inkscape:connector-curvature=\"0\"/><path d=\"m 362.23156,125.81077 v 90.31099\" style=\"fill:none;stroke:#1155cc;stroke-width:1.99999595;stroke-linecap:butt;stroke-linejoin:round;stroke-miterlimit:14.3355875;stroke-dasharray:none;stroke-opacity:1\" id=\"path140\" inkscape:connector-curvature=\"0\"/><path d=\"m 362.23156,216.12176 -2.24919,-2.24917 2.24919,6.17953 2.24917,-6.17953 z\" style=\"fill:#1155cc;fill-opacity:1;fill-rule:evenodd;stroke:#1155cc;stroke-width:1.99999595;stroke-linecap:butt;stroke-linejoin:miter;stroke-miterlimit:11.47371292;stroke-dasharray:none;stroke-opacity:1\" id=\"path142\" inkscape:connector-curvature=\"0\"/><path d=\"M 454.06023,228.96646 V 212.872\" style=\"fill:#000000;fill-opacity:0;fill-rule:evenodd;stroke:none;stroke-width:0.00262467\" id=\"path150\" inkscape:connector-curvature=\"0\"/><path d=\"m 454.06023,228.96646 v -9.24031\" style=\"fill:none;stroke:#1155cc;stroke-width:1.99999595;stroke-linecap:butt;stroke-linejoin:round;stroke-miterlimit:14.3355875;stroke-dasharray:none;stroke-opacity:1\" id=\"path152\" inkscape:connector-curvature=\"0\"/><path d=\"m 454.06023,219.72615 2.24916,2.24917 -2.24916,-6.17952 -2.24917,6.17952 z\" style=\"fill:#1155cc;fill-opacity:1;fill-rule:evenodd;stroke:#1155cc;stroke-width:1.99999595;stroke-linecap:butt;stroke-linejoin:miter;stroke-miterlimit:11.47371292;stroke-dasharray:none;stroke-opacity:1\" id=\"path154\" inkscape:connector-curvature=\"0\"/><path id=\"path160\" style=\"fill:#fff2cc;fill-opacity:1;fill-rule:evenodd;stroke:none;stroke-width:0.00262467\" d=\"m 447.05238,208.98891 v 0 c 0,-3.60941 2.926,-6.53541 6.53541,-6.53541 v 0 c 1.73331,0 3.39562,0.68852 4.6212,1.91417 1.22564,1.22564 1.91423,2.88795 1.91423,4.62124 v 0 c 0,3.60941 -2.92604,6.53543 -6.53543,6.53543 v 0 c -3.60941,0 -6.53541,-2.92602 -6.53541,-6.53543 z\" inkscape:connector-curvature=\"0\"/><path d=\"m 447.05238,208.98891 v 0 c 0,-3.60941 2.926,-6.53541 6.53541,-6.53541 v 0 c 1.73331,0 3.39562,0.68852 4.6212,1.91417 1.22564,1.22564 1.91423,2.88795 1.91423,4.62124 v 0 c 0,3.60941 -2.92604,6.53543 -6.53543,6.53543 v 0 c -3.60941,0 -6.53541,-2.92602 -6.53541,-6.53543 z\" style=\"fill:none;stroke:#595959;stroke-width:0.99999797;stroke-linecap:butt;stroke-linejoin:round;stroke-miterlimit:14.3355875;stroke-dasharray:none;stroke-opacity:1\" id=\"path162\" inkscape:connector-curvature=\"0\"/><path id=\"path168\" style=\"fill:#f4cccc;fill-opacity:1;fill-rule:evenodd;stroke:none;stroke-width:0.00262467\" d=\"m 562.16619,195.68198 v 0 c 0,-4.40959 3.57463,-7.98424 7.98423,-7.98424 h 17.93697 v 0 h 38.88181 82.73999 c 2.11753,0 4.14837,0.84119 5.64566,2.33851 1.49738,1.49733 2.33858,3.52817 2.33858,5.64573 v 0 0 11.97634 19.96059 c 0,4.40956 -3.57472,7.98424 -7.98424,7.98424 H 626.9692 588.08739 v 0 h -17.93697 c -4.4096,0 -7.98423,-3.57468 -7.98423,-7.98424 v -19.96059 l -92.83733,1.2869 z\" inkscape:connector-curvature=\"0\"/><path d=\"m 562.16619,195.68198 v 0 c 0,-4.40959 3.57463,-7.98424 7.98423,-7.98424 h 17.93697 v 0 h 38.88181 82.73999 c 2.11753,0 4.14837,0.84119 5.64566,2.33851 1.49738,1.49733 2.33858,3.52817 2.33858,5.64573 v 0 0 11.97634 19.96059 c 0,4.40956 -3.57472,7.98424 -7.98424,7.98424 H 626.9692 588.08739 v 0 h -17.93697 c -4.4096,0 -7.98423,-3.57468 -7.98423,-7.98424 v -19.96059 l -92.83733,1.2869 z\" style=\"fill:none;stroke:#595959;stroke-width:0.99999797;stroke-linecap:butt;stroke-linejoin:round;stroke-miterlimit:14.3355875;stroke-dasharray:none;stroke-opacity:1\" id=\"path170\" inkscape:connector-curvature=\"0\"/><text style=\"font-variant:normal;font-weight:normal;font-size:18.66662788px;font-family:Arial;-inkscape-font-specification:ArialMT;writing-mode:lr-tb;fill:#000000;fill-opacity:1;fill-rule:nonzero;stroke:none;stroke-width:0.99999797\" id=\"text180\" x=\"576.67352\" y=\"207.57043\"><tspan x=\"576.67352\" y=\"207.57043\" id=\"tspan178\" style=\"font-style:normal;font-variant:normal;font-weight:normal;font-stretch:normal;font-family:sans-serif;-inkscape-font-specification:sans-serif;stroke-width:0.99999797\">Overshoots the</tspan></text>\n<text style=\"font-variant:normal;font-weight:normal;font-size:18.66662788px;font-family:Arial;-inkscape-font-specification:ArialMT;writing-mode:lr-tb;fill:#000000;fill-opacity:1;fill-rule:nonzero;stroke:none;stroke-width:0.99999797\" id=\"text184\" x=\"599.50647\" y=\"229.5704\"><tspan x=\"599.50647\" y=\"229.5704\" id=\"tspan182\" style=\"stroke-width:0.99999797\">minimum!</tspan></text>\n<path id=\"path192\" style=\"fill:#fce5cd;fill-opacity:1;fill-rule:evenodd;stroke:none;stroke-width:0.00262467\" d=\"m 0.49999895,42.296502 v 0 c 0,-7.256519 5.88256735,-13.139079 13.13908105,-13.139079 h 77.585145 v 0 h 38.881815 12.78212 c 3.48469,0 6.82668,1.38428 9.29073,3.848346 2.46406,2.464054 3.84835,5.806027 3.84835,9.290733 V 75.144195 L 256.27077,117.53009 156.02724,94.852821 v 0 c 0,7.256519 -5.88256,13.139079 -13.13908,13.139079 H 130.10604 91.224225 v 0 H 13.63908 c -7.2565137,0 -13.13908105,-5.88256 -13.13908105,-13.139079 v 0 -19.708626 0 z\" inkscape:connector-curvature=\"0\"/><path d=\"m 0.49999895,42.296502 v 0 c 0,-7.256519 5.88256735,-13.139079 13.13908105,-13.139079 h 77.585145 v 0 h 38.881815 12.78212 c 3.48469,0 6.82668,1.38428 9.29073,3.848346 2.46406,2.464054 3.84835,5.806027 3.84835,9.290733 V 75.144195 L 256.27077,117.53009 156.02724,94.852821 v 0 c 0,7.256519 -5.88256,13.139079 -13.13908,13.139079 H 130.10604 91.224225 v 0 H 13.63908 c -7.2565137,0 -13.13908105,-5.88256 -13.13908105,-13.139079 v 0 -19.708626 0 z\" style=\"fill:none;stroke:#595959;stroke-width:0.99999797;stroke-linecap:butt;stroke-linejoin:round;stroke-miterlimit:14.3355875;stroke-dasharray:none;stroke-opacity:1\" id=\"path194\" inkscape:connector-curvature=\"0\"/><text style=\"font-variant:normal;font-weight:normal;font-size:18.66662788px;font-family:Arial;-inkscape-font-specification:ArialMT;writing-mode:lr-tb;fill:#000000;fill-opacity:1;fill-rule:nonzero;stroke:none;stroke-width:0.99999797\" id=\"text204\" x=\"24.85475\" y=\"75.494659\"><tspan x=\"24.85475\" y=\"75.494659\" id=\"tspan202\" style=\"font-style:normal;font-variant:normal;font-weight:normal;font-stretch:normal;font-family:sans-serif;-inkscape-font-specification:sans-serif;stroke-width:0.99999797\">starting point</tspan></text>\n<path d=\"m 276.96925,126.06798 h 85.76361\" style=\"fill:#000000;fill-opacity:0;fill-rule:evenodd;stroke:none;stroke-width:0.00262467\" id=\"path214\" inkscape:connector-curvature=\"0\"/><path d=\"M 276.96925,126.06798 H 355.8787\" style=\"fill:none;stroke:#ff0000;stroke-width:1.99999595;stroke-linecap:butt;stroke-linejoin:round;stroke-miterlimit:14.3355875;stroke-dasharray:none;stroke-opacity:1\" id=\"path216\" inkscape:connector-curvature=\"0\"/><path d=\"m 355.8787,126.06798 -2.24918,2.24917 6.17954,-2.24917 -6.17954,-2.24916 z\" style=\"fill:#ff0000;fill-opacity:1;fill-rule:evenodd;stroke:#ff0000;stroke-width:1.99999595;stroke-linecap:butt;stroke-linejoin:miter;stroke-miterlimit:11.47371292;stroke-dasharray:none;stroke-opacity:1\" id=\"path218\" inkscape:connector-curvature=\"0\"/><path d=\"m 368.30765,229.01528 h 85.76361\" style=\"fill:#000000;fill-opacity:0;fill-rule:evenodd;stroke:none;stroke-width:0.00262467\" id=\"path226\" inkscape:connector-curvature=\"0\"/><path d=\"M 368.30765,229.01528 H 447.2171\" style=\"fill:none;stroke:#ff0000;stroke-width:1.99999595;stroke-linecap:butt;stroke-linejoin:round;stroke-miterlimit:14.3355875;stroke-dasharray:none;stroke-opacity:1\" id=\"path228\" inkscape:connector-curvature=\"0\"/><path d=\"m 447.2171,229.01528 -2.24919,2.24915 6.17955,-2.24915 -6.17955,-2.24916 z\" style=\"fill:#ff0000;fill-opacity:1;fill-rule:evenodd;stroke:#ff0000;stroke-width:1.99999595;stroke-linecap:butt;stroke-linejoin:miter;stroke-miterlimit:11.47371292;stroke-dasharray:none;stroke-opacity:1\" id=\"path230\" inkscape:connector-curvature=\"0\"/></svg>",
      "text/plain": [
       "<IPython.core.display.SVG object>"
      ]
     },
     "execution_count": 8,
     "metadata": {},
     "output_type": "execute_result"
    }
   ],
   "source": [
    "SVG(filename=\"LearningRateTooLarge.svg\")"
   ]
  },
  {
   "cell_type": "markdown",
   "metadata": {
    "collapsed": false,
    "pycharm": {
     "name": "#%% md\n"
    }
   },
   "source": [
    "There's a Goldilocks learning rate for every regression problem. The Goldilocks value is related to how flat the loss function is. If you know the gradient of the loss function is small then you can safely try a larger learning rate, which compensates for the small gradient and results in a larger step size."
   ]
  },
  {
   "cell_type": "code",
   "execution_count": 9,
   "metadata": {
    "collapsed": false,
    "pycharm": {
     "name": "#%%\n"
    }
   },
   "outputs": [
    {
     "data": {
      "image/svg+xml": "<svg xmlns:dc=\"http://purl.org/dc/elements/1.1/\" xmlns:cc=\"http://creativecommons.org/ns#\" xmlns:rdf=\"http://www.w3.org/1999/02/22-rdf-syntax-ns#\" xmlns:svg=\"http://www.w3.org/2000/svg\" xmlns=\"http://www.w3.org/2000/svg\" xmlns:sodipodi=\"http://sodipodi.sourceforge.net/DTD/sodipodi-0.dtd\" xmlns:inkscape=\"http://www.inkscape.org/namespaces/inkscape\" version=\"1.1\" id=\"svg2\" xml:space=\"preserve\" width=\"582.48834\" height=\"299.26587\" viewBox=\"0 0 582.48834 299.26587\" sodipodi:docname=\"LearningRateJustRight.svg\" inkscape:version=\"0.92.2pre0 (973e216, 2017-07-25)\"><sodipodi:namedview pagecolor=\"#ffffff\" bordercolor=\"#666666\" borderopacity=\"1\" objecttolerance=\"10\" gridtolerance=\"10\" guidetolerance=\"10\" inkscape:pageopacity=\"0\" inkscape:pageshadow=\"2\" inkscape:window-width=\"1636\" inkscape:window-height=\"957\" id=\"namedview69\" showgrid=\"false\" inkscape:zoom=\"1.9571207\" inkscape:cx=\"291.24417\" inkscape:cy=\"149.63293\" inkscape:window-x=\"0\" inkscape:window-y=\"621\" inkscape:window-maximized=\"0\" inkscape:current-layer=\"svg2\"/><metadata id=\"metadata8\"><rdf:RDF><cc:Work rdf:about=\"\"><dc:format>image/svg+xml</dc:format><dc:type rdf:resource=\"http://purl.org/dc/dcmitype/StillImage\"/><dc:title/></cc:Work></rdf:RDF></metadata><desc id=\"desc3\">Same U-shaped curve. The trail of points gets to the minimum point in about eight steps.</desc><defs id=\"defs6\"><clipPath clipPathUnits=\"userSpaceOnUse\" id=\"clipPath22\"><path d=\"M 0,0 H 365760 V 205740 H 0 Z\" id=\"path20\"/></clipPath></defs><path inkscape:connector-curvature=\"0\" d=\"M 209.577,242.20423 208.22268,-3.272572e-6\" style=\"fill:#000000;fill-opacity:0;fill-rule:evenodd;stroke:none;stroke-width:0.00262467\" id=\"path36\"/><path inkscape:connector-curvature=\"0\" d=\"M 209.51949,231.92315 208.28019,10.281076\" style=\"fill:none;stroke:#595959;stroke-width:2.9999938;stroke-linecap:butt;stroke-linejoin:round;stroke-miterlimit:14.3355875;stroke-dasharray:none;stroke-opacity:1\" id=\"path38\"/><path inkscape:connector-curvature=\"0\" d=\"m 209.51949,231.92315 -3.39253,-3.35483 3.42553,9.25027 3.32186,-9.28799 z\" style=\"fill:#595959;fill-opacity:1;fill-rule:evenodd;stroke:#595959;stroke-width:2.9999938;stroke-linecap:butt;stroke-linejoin:miter;stroke-miterlimit:11.47371292;stroke-dasharray:none;stroke-opacity:1\" id=\"path40\"/><path inkscape:connector-curvature=\"0\" d=\"m 208.28019,10.281076 3.39253,3.354827 -3.42553,-9.2502797 -3.32186,9.2879997 z\" style=\"fill:#595959;fill-opacity:1;fill-rule:evenodd;stroke:#595959;stroke-width:2.9999938;stroke-linecap:butt;stroke-linejoin:miter;stroke-miterlimit:11.47371292;stroke-dasharray:none;stroke-opacity:1\" id=\"path42\"/><path inkscape:connector-curvature=\"0\" d=\"m 249.58648,22.568209 c 6.86928,26.3004 13.48748,122.586881 41.21572,157.802371 27.72823,35.21545 89.29984,62.40605 125.15373,53.49044 35.85387,-8.91566 69.78093,-70.54285 89.96948,-106.98427 20.18849,-36.441396 25.968,-93.053487 31.16158,-111.66418\" style=\"fill:#000000;fill-opacity:0;fill-rule:evenodd;stroke:none;stroke-width:0.00262467\" id=\"path50\"/><path inkscape:connector-curvature=\"0\" d=\"m 249.58648,22.568209 c 6.86928,26.3004 13.48748,122.586881 41.21572,157.802371 27.72823,35.21545 89.29984,62.40605 125.15373,53.49044 35.85387,-8.91566 69.78093,-70.54285 89.96948,-106.98427 20.18849,-36.441396 25.968,-93.053487 31.16158,-111.66418\" style=\"fill:none;stroke:#595959;stroke-width:7.99998379;stroke-linecap:butt;stroke-linejoin:round;stroke-miterlimit:14.3355875;stroke-dasharray:none;stroke-opacity:1\" id=\"path52\"/><path inkscape:connector-curvature=\"0\" id=\"path58\" style=\"fill:#fff2cc;fill-opacity:1;fill-rule:evenodd;stroke:none;stroke-width:0.00262467\" d=\"m 262.83543,134.06797 v 0 c 0,-3.60942 2.926,-6.53543 6.53541,-6.53543 v 0 c 1.73331,0 3.39561,0.68856 4.62125,1.91419 1.22562,1.22562 1.91418,2.88793 1.91418,4.62124 v 0 c 0,3.60941 -2.926,6.53541 -6.53543,6.53541 v 0 c -3.60941,0 -6.53541,-2.926 -6.53541,-6.53541 z\"/><path inkscape:connector-curvature=\"0\" d=\"m 262.83543,134.06797 v 0 c 0,-3.60942 2.926,-6.53543 6.53541,-6.53543 v 0 c 1.73331,0 3.39561,0.68856 4.62125,1.91419 1.22562,1.22562 1.91418,2.88793 1.91418,4.62124 v 0 c 0,3.60941 -2.926,6.53541 -6.53543,6.53541 v 0 c -3.60941,0 -6.53541,-2.926 -6.53541,-6.53541 z\" style=\"fill:none;stroke:#595959;stroke-width:0.99999797;stroke-linecap:butt;stroke-linejoin:round;stroke-miterlimit:14.3355875;stroke-dasharray:none;stroke-opacity:1\" id=\"path60\"/><path inkscape:connector-curvature=\"0\" id=\"path66\" style=\"fill:#fce5cd;fill-opacity:1;fill-rule:evenodd;stroke:none;stroke-width:0.00262467\" d=\"m 0.49999899,40.385742 v 0 c 0,-7.256519 5.88256681,-13.139079 13.13908201,-13.139079 h 77.585144 v 0 h 38.881805 12.78213 c 3.4847,0 6.82668,1.384293 9.29074,3.848346 2.46405,2.464054 3.84834,5.806027 3.84834,9.290733 V 73.233448 L 259.89767,130.04446 156.02724,92.942061 v 0 c 0,7.256519 -5.88256,13.139079 -13.13908,13.139079 H 130.10603 91.224225 v 0 H 13.639081 c -7.2565152,0 -13.13908201,-5.88256 -13.13908201,-13.139079 v 0 -19.708613 0 z\"/><path inkscape:connector-curvature=\"0\" d=\"m 0.49999899,40.385742 v 0 c 0,-7.256519 5.88256681,-13.139079 13.13908201,-13.139079 h 77.585144 v 0 h 38.881805 12.78213 c 3.4847,0 6.82668,1.384293 9.29074,3.848346 2.46405,2.464054 3.84834,5.806027 3.84834,9.290733 V 73.233448 L 259.89767,130.04446 156.02724,92.942061 v 0 c 0,7.256519 -5.88256,13.139079 -13.13908,13.139079 H 130.10603 91.224225 v 0 H 13.639081 c -7.2565152,0 -13.13908201,-5.88256 -13.13908201,-13.139079 v 0 -19.708613 0 z\" style=\"fill:none;stroke:#595959;stroke-width:0.99999797;stroke-linecap:butt;stroke-linejoin:round;stroke-miterlimit:14.3355875;stroke-dasharray:none;stroke-opacity:1\" id=\"path68\"/><text y=\"73.583893\" x=\"24.854748\" style=\"font-variant:normal;font-weight:normal;font-size:18.66662788px;font-family:Arial;-inkscape-font-specification:ArialMT;writing-mode:lr-tb;fill:#000000;fill-opacity:1;fill-rule:nonzero;stroke:none;stroke-width:0.99999797\" id=\"text78\"><tspan style=\"font-style:normal;font-variant:normal;font-weight:normal;font-stretch:normal;font-family:sans-serif;-inkscape-font-specification:sans-serif;stroke-width:0.99999797\" x=\"24.854748\" y=\"73.583893\" id=\"tspan76\">starting point</tspan></text>\n<path inkscape:connector-curvature=\"0\" d=\"m 275.90627,134.06797 h 14.89761\" style=\"fill:#000000;fill-opacity:0;fill-rule:evenodd;stroke:none;stroke-width:0.00262467\" id=\"path88\"/><path inkscape:connector-curvature=\"0\" d=\"m 275.90627,134.06797 h 8.89761\" style=\"fill:none;stroke:#ff0000;stroke-width:0.99999797;stroke-linecap:butt;stroke-linejoin:round;stroke-miterlimit:14.3355875;stroke-dasharray:none;stroke-opacity:1\" id=\"path90\"/><path inkscape:connector-curvature=\"0\" d=\"m 284.80388,135.7197 4.53811,-1.65173 -4.53811,-1.65174 z\" style=\"fill:#ff0000;fill-opacity:1;fill-rule:evenodd;stroke:#ff0000;stroke-width:0.99999797;stroke-linecap:butt;stroke-linejoin:miter;stroke-miterlimit:11.47371292;stroke-dasharray:none;stroke-opacity:1\" id=\"path92\"/><path inkscape:connector-curvature=\"0\" id=\"path98\" style=\"fill:#fff2cc;fill-opacity:1;fill-rule:evenodd;stroke:none;stroke-width:0.00262467\" d=\"m 284.27633,181.92877 v 0 c 0,-3.60943 2.926,-6.53543 6.53542,-6.53543 v 0 c 1.7333,0 3.39561,0.68855 4.62125,1.91419 1.22561,1.22562 1.91417,2.88793 1.91417,4.62124 v 0 c 0,3.60941 -2.92601,6.53541 -6.53542,6.53541 v 0 c -3.60942,0 -6.53542,-2.926 -6.53542,-6.53541 z\"/><path inkscape:connector-curvature=\"0\" d=\"m 284.27633,181.92877 v 0 c 0,-3.60943 2.926,-6.53543 6.53542,-6.53543 v 0 c 1.7333,0 3.39561,0.68855 4.62125,1.91419 1.22561,1.22562 1.91417,2.88793 1.91417,4.62124 v 0 c 0,3.60941 -2.92601,6.53541 -6.53542,6.53541 v 0 c -3.60942,0 -6.53542,-2.926 -6.53542,-6.53541 z\" style=\"fill:none;stroke:#595959;stroke-width:0.99999797;stroke-linecap:butt;stroke-linejoin:round;stroke-miterlimit:14.3355875;stroke-dasharray:none;stroke-opacity:1\" id=\"path100\"/><path inkscape:connector-curvature=\"0\" d=\"m 297.34717,181.92877 h 14.8976\" style=\"fill:#000000;fill-opacity:0;fill-rule:evenodd;stroke:none;stroke-width:0.00262467\" id=\"path108\"/><path inkscape:connector-curvature=\"0\" d=\"m 297.34717,181.92877 h 8.89762\" style=\"fill:none;stroke:#ff0000;stroke-width:0.99999797;stroke-linecap:butt;stroke-linejoin:round;stroke-miterlimit:14.3355875;stroke-dasharray:none;stroke-opacity:1\" id=\"path110\"/><path inkscape:connector-curvature=\"0\" d=\"m 306.24479,183.58049 4.5381,-1.65172 -4.5381,-1.65174 z\" style=\"fill:#ff0000;fill-opacity:1;fill-rule:evenodd;stroke:#ff0000;stroke-width:0.99999797;stroke-linecap:butt;stroke-linejoin:miter;stroke-miterlimit:11.47371292;stroke-dasharray:none;stroke-opacity:1\" id=\"path112\"/><path inkscape:connector-curvature=\"0\" id=\"path118\" style=\"fill:#fff2cc;fill-opacity:1;fill-rule:evenodd;stroke:none;stroke-width:0.00262467\" d=\"m 305.70936,203.43266 v 0 c 0,-3.60941 2.926,-6.53543 6.53541,-6.53543 v 0 c 1.73331,0 3.39562,0.68855 4.62126,1.91419 1.22561,1.22563 1.91417,2.88793 1.91417,4.62124 v 0 c 0,3.60941 -2.92601,6.53541 -6.53543,6.53541 v 0 c -3.60941,0 -6.53541,-2.926 -6.53541,-6.53541 z\"/><path inkscape:connector-curvature=\"0\" d=\"m 305.70936,203.43266 v 0 c 0,-3.60941 2.926,-6.53543 6.53541,-6.53543 v 0 c 1.73331,0 3.39562,0.68855 4.62126,1.91419 1.22561,1.22563 1.91417,2.88793 1.91417,4.62124 v 0 c 0,3.60941 -2.92601,6.53541 -6.53543,6.53541 v 0 c -3.60941,0 -6.53541,-2.926 -6.53541,-6.53541 z\" style=\"fill:none;stroke:#595959;stroke-width:0.99999797;stroke-linecap:butt;stroke-linejoin:round;stroke-miterlimit:14.3355875;stroke-dasharray:none;stroke-opacity:1\" id=\"path120\"/><path inkscape:connector-curvature=\"0\" d=\"m 318.7802,203.43266 h 14.8976\" style=\"fill:#000000;fill-opacity:0;fill-rule:evenodd;stroke:none;stroke-width:0.00262467\" id=\"path128\"/><path inkscape:connector-curvature=\"0\" d=\"m 318.7802,203.43266 h 8.89761\" style=\"fill:none;stroke:#ff0000;stroke-width:0.99999797;stroke-linecap:butt;stroke-linejoin:round;stroke-miterlimit:14.3355875;stroke-dasharray:none;stroke-opacity:1\" id=\"path130\"/><path inkscape:connector-curvature=\"0\" d=\"m 327.67781,205.08438 4.53811,-1.65172 -4.53811,-1.65173 z\" style=\"fill:#ff0000;fill-opacity:1;fill-rule:evenodd;stroke:#ff0000;stroke-width:0.99999797;stroke-linecap:butt;stroke-linejoin:miter;stroke-miterlimit:11.47371292;stroke-dasharray:none;stroke-opacity:1\" id=\"path132\"/><path inkscape:connector-curvature=\"0\" id=\"path138\" style=\"fill:#fff2cc;fill-opacity:1;fill-rule:evenodd;stroke:none;stroke-width:0.00262467\" d=\"m 326.00065,216.5035 v 0 c 0,-3.60942 2.926,-6.53543 6.53543,-6.53543 v 0 c 1.73329,0 3.3956,0.68855 4.62124,1.91419 1.22561,1.22562 1.91417,2.88793 1.91417,4.62124 v 0 c 0,3.60941 -2.926,6.53541 -6.53541,6.53541 v 0 c -3.60943,0 -6.53543,-2.926 -6.53543,-6.53541 z\"/><path inkscape:connector-curvature=\"0\" d=\"m 326.00065,216.5035 v 0 c 0,-3.60942 2.926,-6.53543 6.53543,-6.53543 v 0 c 1.73329,0 3.3956,0.68855 4.62124,1.91419 1.22561,1.22562 1.91417,2.88793 1.91417,4.62124 v 0 c 0,3.60941 -2.926,6.53541 -6.53541,6.53541 v 0 c -3.60943,0 -6.53543,-2.926 -6.53543,-6.53541 z\" style=\"fill:none;stroke:#595959;stroke-width:0.99999797;stroke-linecap:butt;stroke-linejoin:round;stroke-miterlimit:14.3355875;stroke-dasharray:none;stroke-opacity:1\" id=\"path140\"/><path inkscape:connector-curvature=\"0\" d=\"M 339.07149,216.5035 H 353.9691\" style=\"fill:#000000;fill-opacity:0;fill-rule:evenodd;stroke:none;stroke-width:0.00262467\" id=\"path148\"/><path inkscape:connector-curvature=\"0\" d=\"m 339.07149,216.5035 h 8.89763\" style=\"fill:none;stroke:#ff0000;stroke-width:0.99999797;stroke-linecap:butt;stroke-linejoin:round;stroke-miterlimit:14.3355875;stroke-dasharray:none;stroke-opacity:1\" id=\"path150\"/><path inkscape:connector-curvature=\"0\" d=\"m 347.96912,218.15522 4.53809,-1.65172 -4.53809,-1.65174 z\" style=\"fill:#ff0000;fill-opacity:1;fill-rule:evenodd;stroke:#ff0000;stroke-width:0.99999797;stroke-linecap:butt;stroke-linejoin:miter;stroke-miterlimit:11.47371292;stroke-dasharray:none;stroke-opacity:1\" id=\"path152\"/><path inkscape:connector-curvature=\"0\" d=\"m 290.81175,134.07059 v 41.32275\" style=\"fill:#000000;fill-opacity:0;fill-rule:evenodd;stroke:none;stroke-width:0.00262467\" id=\"path160\"/><path inkscape:connector-curvature=\"0\" d=\"m 290.81175,134.07059 v 37.89567\" style=\"fill:none;stroke:#1155cc;stroke-width:0.99999797;stroke-linecap:butt;stroke-linejoin:round;stroke-miterlimit:14.3355875;stroke-dasharray:none;stroke-opacity:1\" id=\"path162\"/><path inkscape:connector-curvature=\"0\" d=\"m 290.81175,171.96626 -1.12459,-1.12459 1.12459,3.08978 1.12458,-3.08978 z\" style=\"fill:#1155cc;fill-opacity:1;fill-rule:evenodd;stroke:#1155cc;stroke-width:0.99999797;stroke-linecap:butt;stroke-linejoin:miter;stroke-miterlimit:11.47371292;stroke-dasharray:none;stroke-opacity:1\" id=\"path164\"/><path inkscape:connector-curvature=\"0\" d=\"m 313.06367,182.06262 -0.8189,14.83461\" style=\"fill:#000000;fill-opacity:0;fill-rule:evenodd;stroke:none;stroke-width:0.00262467\" id=\"path172\"/><path inkscape:connector-curvature=\"0\" d=\"m 313.06367,182.06262 -0.63,11.41275\" style=\"fill:none;stroke:#1155cc;stroke-width:0.99999797;stroke-linecap:butt;stroke-linejoin:round;stroke-miterlimit:14.3355875;stroke-dasharray:none;stroke-opacity:1\" id=\"path174\"/><path inkscape:connector-curvature=\"0\" d=\"m 312.43367,193.47537 -1.06088,-1.18486 0.95256,3.14704 1.29317,-3.02309 z\" style=\"fill:#1155cc;fill-opacity:1;fill-rule:evenodd;stroke:#1155cc;stroke-width:0.99999797;stroke-linecap:butt;stroke-linejoin:miter;stroke-miterlimit:11.47371292;stroke-dasharray:none;stroke-opacity:1\" id=\"path176\"/><path inkscape:connector-curvature=\"0\" d=\"m 332.94552,203.4484 -0.40944,6.51967\" style=\"fill:#000000;fill-opacity:0;fill-rule:evenodd;stroke:none;stroke-width:0.00262467\" id=\"path184\"/><path inkscape:connector-curvature=\"0\" d=\"m 332.94552,203.4484 -0.19464,3.09931\" style=\"fill:none;stroke:#1155cc;stroke-width:0.99999797;stroke-linecap:butt;stroke-linejoin:round;stroke-miterlimit:14.3355875;stroke-dasharray:none;stroke-opacity:1\" id=\"path186\"/><path inkscape:connector-curvature=\"0\" d=\"m 332.75088,206.54771 -1.0519,-1.19283 0.92872,3.15416 1.31603,-3.01318 z\" style=\"fill:#1155cc;fill-opacity:1;fill-rule:evenodd;stroke:#1155cc;stroke-width:0.99999797;stroke-linecap:butt;stroke-linejoin:miter;stroke-miterlimit:11.47371292;stroke-dasharray:none;stroke-opacity:1\" id=\"path188\"/><path inkscape:connector-curvature=\"0\" d=\"M 225.70164,260.77375 H 582.48833\" style=\"fill:#000000;fill-opacity:0;fill-rule:evenodd;stroke:none;stroke-width:0.00262467\" id=\"path196\"/><path inkscape:connector-curvature=\"0\" d=\"M 235.98288,260.77375 H 572.20709\" style=\"fill:none;stroke:#595959;stroke-width:2.9999938;stroke-linecap:butt;stroke-linejoin:round;stroke-miterlimit:14.3355875;stroke-dasharray:none;stroke-opacity:1\" id=\"path198\"/><path inkscape:connector-curvature=\"0\" d=\"m 235.98288,260.77375 3.37375,-3.37375 -9.2693,3.37375 9.2693,3.37375 z\" style=\"fill:#595959;fill-opacity:1;fill-rule:evenodd;stroke:#595959;stroke-width:2.9999938;stroke-linecap:butt;stroke-linejoin:miter;stroke-miterlimit:11.47371292;stroke-dasharray:none;stroke-opacity:1\" id=\"path200\"/><path inkscape:connector-curvature=\"0\" d=\"m 572.20709,260.77375 -3.37375,3.37375 9.26929,-3.37375 -9.26929,-3.37375 z\" style=\"fill:#595959;fill-opacity:1;fill-rule:evenodd;stroke:#595959;stroke-width:2.9999938;stroke-linecap:butt;stroke-linejoin:miter;stroke-miterlimit:11.47371292;stroke-dasharray:none;stroke-opacity:1\" id=\"path202\"/><path inkscape:connector-curvature=\"0\" d=\"m 273.44696,265.34591 h 239.77903 v 30.20467 H 273.44696 Z\" style=\"fill:#000000;fill-opacity:0;fill-rule:evenodd;stroke:none;stroke-width:0.00262467\" id=\"path210\"/><text y=\"292.26584\" x=\"319.88071\" style=\"font-variant:normal;font-weight:normal;font-size:18.66662788px;font-family:Arial;-inkscape-font-specification:ArialMT;writing-mode:lr-tb;fill:#000000;fill-opacity:1;fill-rule:nonzero;stroke:none;stroke-width:0.99999797\" id=\"text220\"><tspan style=\"font-style:normal;font-variant:normal;font-weight:normal;font-stretch:normal;font-family:sans-serif;-inkscape-font-specification:sans-serif;stroke-width:0.99999797\" x=\"319.88071\" y=\"292.26584\" id=\"tspan218\">value of weight <tspan style=\"-inkscape-font-specification:'Times New Roman, Italic';font-family:'Times New Roman';font-weight:normal;font-style:italic;font-stretch:normal;font-variant:normal;font-size:18.66666667px;text-anchor:start;text-align:start;writing-mode:lr;font-variant-ligatures:normal;font-variant-caps:normal;font-variant-numeric:normal;font-feature-settings:normal\" id=\"tspan935\">w<tspan style=\"font-size:65%;baseline-shift:sub\" id=\"tspan937\">i</tspan></tspan> </tspan></text>\n<path inkscape:connector-curvature=\"0\" d=\"m 144.05876,114.91053 h 60.44083 v 30.20466 h -60.44083 z\" style=\"fill:#000000;fill-opacity:0;fill-rule:evenodd;stroke:none;stroke-width:0.00262467\" id=\"path238\"/><text y=\"141.83047\" x=\"157.69081\" style=\"font-variant:normal;font-weight:normal;font-size:18.66662788px;font-family:Arial;-inkscape-font-specification:ArialMT;writing-mode:lr-tb;fill:#000000;fill-opacity:1;fill-rule:nonzero;stroke:none;stroke-width:0.99999797\" id=\"text248\"><tspan style=\"font-style:normal;font-variant:normal;font-weight:normal;font-stretch:normal;font-family:sans-serif;-inkscape-font-specification:sans-serif;stroke-width:0.99999797\" x=\"157.69081\" y=\"141.83047\" id=\"tspan246\">loss</tspan></text>\n<path inkscape:connector-curvature=\"0\" id=\"path256\" style=\"fill:#d9ead3;fill-opacity:1;fill-rule:evenodd;stroke:none;stroke-width:0.00262467\" d=\"m 312.24477,80.472275 v 0 c 0,-5.563427 4.51004,-10.073467 10.07348,-10.073467 h 19.33329 v 0 h 44.11015 92.8502 c 2.67165,0 5.23388,1.061307 7.12304,2.950454 1.88912,1.889133 2.95044,4.451359 2.95044,7.123013 v 25.183675 0 15.1102 0 c 0,5.56343 -4.51006,10.07347 -10.07348,10.07347 h -92.8502 l 9.01848,101.47773 -53.12863,-101.47773 h -19.33329 c -5.56344,0 -10.07348,-4.51004 -10.07348,-10.07347 v 0 -15.1102 0 z\"/><path inkscape:connector-curvature=\"0\" d=\"m 312.24477,80.472275 v 0 c 0,-5.563427 4.51004,-10.073467 10.07348,-10.073467 h 19.33329 v 0 h 44.11015 92.8502 c 2.67165,0 5.23388,1.061307 7.12304,2.950454 1.88912,1.889133 2.95044,4.451359 2.95044,7.123013 v 25.183675 0 15.1102 0 c 0,5.56343 -4.51006,10.07347 -10.07348,10.07347 h -92.8502 l 9.01848,101.47773 -53.12863,-101.47773 h -19.33329 c -5.56344,0 -10.07348,-4.51004 -10.07348,-10.07347 v 0 -15.1102 0 z\" style=\"fill:none;stroke:#595959;stroke-width:0.99999797;stroke-linecap:butt;stroke-linejoin:round;stroke-miterlimit:14.3355875;stroke-dasharray:none;stroke-opacity:1\" id=\"path258\"/><text y=\"96.539215\" x=\"340.84351\" style=\"font-variant:normal;font-weight:normal;font-size:18.66662788px;font-family:Arial;-inkscape-font-specification:ArialMT;writing-mode:lr-tb;fill:#000000;fill-opacity:1;fill-rule:nonzero;stroke:none;stroke-width:0.99999797\" id=\"text268\"><tspan style=\"font-style:normal;font-variant:normal;font-weight:normal;font-stretch:normal;font-family:sans-serif;-inkscape-font-specification:sans-serif;stroke-width:0.99999797\" x=\"340.84351\" y=\"96.539215\" id=\"tspan266\">We’ll get there</tspan></text>\n<text y=\"118.53917\" x=\"358.98959\" style=\"font-variant:normal;font-weight:normal;font-size:18.66662788px;font-family:Arial;-inkscape-font-specification:ArialMT;writing-mode:lr-tb;fill:#000000;fill-opacity:1;fill-rule:nonzero;stroke:none;stroke-width:0.99999797\" id=\"text272\"><tspan style=\"font-style:normal;font-variant:normal;font-weight:normal;font-stretch:normal;font-family:sans-serif;-inkscape-font-specification:sans-serif;stroke-width:0.99999797\" x=\"358.98959\" y=\"118.53917\" id=\"tspan270\">efficiently.</tspan></text>\n</svg>",
      "text/plain": [
       "<IPython.core.display.SVG object>"
      ]
     },
     "execution_count": 9,
     "metadata": {},
     "output_type": "execute_result"
    }
   ],
   "source": [
    "SVG(filename=\"LearningRateJustRight.svg\")"
   ]
  },
  {
   "cell_type": "markdown",
   "metadata": {
    "collapsed": false,
    "pycharm": {
     "name": "#%% md\n"
    }
   },
   "source": [
    "\n",
    "_SGD & Mini-Batch Gradient Descent_\n",
    "- Could compute gradient over entire data set on each step, but this turns out to be unnecessary\n",
    "- Computing gradient on small data samples works well\n",
    "    - On every step, get a new random sample\n",
    "- **Stochastic Gradient Descent**: one example at a time\n",
    "    - If they compute the gradient of the loss function over a single example that mostly works too. Even though they'd have to take more overall steps,the amount of total computation in order to reach a good solution is often much smaller.\n",
    "- **Mini-Batch Gradient Descent**: batches of 10-1000\n",
    "    - Rather than use one example or the entire data set, we use a small batch, somewhere between ten and a thousand examples to perform our steps.\n",
    "    - Loss & gradients are averaged over the batch\n",
    "    - Mini-batch SGD reduces the amount of noise in SGD but is still more efficient than full-batch."
   ]
  },
  {
   "cell_type": "markdown",
   "metadata": {
    "collapsed": false,
    "pycharm": {
     "name": "#%% md\n"
    }
   },
   "source": [
    "## Introduction to TensorFlow <a class=\"anchor\" id=\"5\"></a>\n",
    "\n",
    "TensorFlow is an end-to-end open source platform for machine learning. TensorFlow is a rich system for managing all aspects of a machine learning system; however, this class focuses on using a particular TensorFlow API to develop and train machine learning models.\n",
    "\n",
    "TensorFlow APIs are arranged hierarchically, with the high-level APIs built on the low-level APIs. Machine learning researchers use the low-level APIs to create and explore new machine learning algorithms. In this class, you will use a high-level API named tf.keras to define and train machine learning models and to make predictions. tf.keras is the TensorFlow variant of the open-source Keras API.\n",
    "\n",
    "-----\n",
    "\n",
    "TensorFlow, makine öğrenimi için uçtan uca bir açık kaynak platformudur. TensorFlow, bir makine öğrenimi sisteminin tüm yönlerini yönetmek için zengin bir sistemdir; ancak bu sınıf, makine öğrenimi modellerini geliştirmek ve eğitmek için belirli bir TensorFlow API'sini kullanmaya odaklanır.\n",
    "\n",
    "TensorFlow API'leri, düşük seviyeli API'ler üzerine inşa edilmiş yüksek seviyeli API'ler ile hiyerarşik olarak düzenlenir. Makine öğrenimi araştırmacıları, yeni makine öğrenimi algoritmaları oluşturmak ve keşfetmek için düşük seviyeli API'leri kullanır. Bu derste, makine öğrenmesi modellerini tanımlamak, eğitmek ve tahminler yapmak için tf.keras adlı üst düzey bir API kullanacaksınız. tf.keras, açık kaynaklı Keras API'sinin TensorFlow varyantıdır."
   ]
  }
 ],
 "metadata": {
  "kernelspec": {
   "display_name": "Python 3.9.12 ('python39')",
   "language": "python",
   "name": "python3"
  },
  "language_info": {
   "codemirror_mode": {
    "name": "ipython",
    "version": 3
   },
   "file_extension": ".py",
   "mimetype": "text/x-python",
   "name": "python",
   "nbconvert_exporter": "python",
   "pygments_lexer": "ipython3",
   "version": "3.9.12"
  },
  "toc-autonumbering": true,
  "toc-showcode": false,
  "toc-showmarkdowntxt": false,
  "vscode": {
   "interpreter": {
    "hash": "2495b32cb5ee53b4d154158c75172eb0cee9954f9785268b3902b95c6ffc55b5"
   }
  }
 },
 "nbformat": 4,
 "nbformat_minor": 4
}
