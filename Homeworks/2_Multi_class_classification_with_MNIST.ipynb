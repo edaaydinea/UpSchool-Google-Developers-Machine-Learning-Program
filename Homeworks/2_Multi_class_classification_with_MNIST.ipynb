{
  "nbformat": 4,
  "nbformat_minor": 0,
  "metadata": {
    "colab": {
      "provenance": [],
      "collapsed_sections": []
    },
    "kernelspec": {
      "name": "python3",
      "display_name": "Python 3"
    }
  },
  "cells": [
    {
      "cell_type": "code",
      "metadata": {
        "id": "wDlWLbfkJtvu",
        "cellView": "form"
      },
      "source": [
        "#@title Copyright 2020 Google LLC. Double-click here for license information.\n",
        "# Licensed under the Apache License, Version 2.0 (the \"License\");\n",
        "# you may not use this file except in compliance with the License.\n",
        "# You may obtain a copy of the License at\n",
        "#\n",
        "# https://www.apache.org/licenses/LICENSE-2.0\n",
        "#\n",
        "# Unless required by applicable law or agreed to in writing, software\n",
        "# distributed under the License is distributed on an \"AS IS\" BASIS,\n",
        "# WITHOUT WARRANTIES OR CONDITIONS OF ANY KIND, either express or implied.\n",
        "# See the License for the specific language governing permissions and\n",
        "# limitations under the License.\n",
        "\n",
        "# Yann LeCun and Corinna Cortes hold the copyright of MNIST dataset,\n",
        "# which is a derivative work from original NIST datasets. \n",
        "# MNIST dataset is made available under the terms of the \n",
        "# Creative Commons Attribution-Share Alike 3.0 license."
      ],
      "execution_count": 1,
      "outputs": []
    },
    {
      "cell_type": "markdown",
      "metadata": {
        "id": "T4r2z30vJSbA"
      },
      "source": [
        "# Colabs\n",
        "\n",
        "Machine Learning Crash Course uses Colaboratories (Colabs) for all programming exercises. Colab is Google's implementation of [Jupyter Notebook](https://jupyter.org/). For more information about Colabs and how to use them, go to [Welcome to Colaboratory](https://research.google.com/colaboratory)."
      ]
    },
    {
      "cell_type": "markdown",
      "metadata": {
        "id": "TL5y5fY9Jy_x"
      },
      "source": [
        "# Multi-Class Classification\n",
        "\n",
        "This Colab explores multi-class classification problems through the classic MNIST dataset."
      ]
    },
    {
      "cell_type": "markdown",
      "metadata": {
        "id": "XuKlphuImFSN"
      },
      "source": [
        "## Learning Objectives:\n",
        "\n",
        "After doing this Colab, you'll know how to do the following:\n",
        "\n",
        "  * Understand the classic MNIST problem.\n",
        "  * Create a deep neural network that performs multi-class classification.\n",
        "  * Tune the deep neural network.\n",
        "\n",
        "This exercise introduces image classification with machine learning."
      ]
    },
    {
      "cell_type": "markdown",
      "metadata": {
        "id": "cxj8yVh4mFl5"
      },
      "source": [
        "## The Dataset\n",
        "  \n",
        "This MNIST dataset contains a lot of examples:\n",
        "\n",
        "* The MNIST training set contains 60,000 examples.\n",
        "* The MNIST test set contains 10,000 examples.\n",
        "\n",
        "Each example contains a pixel map showing how a person wrote a digit. For example, the following images shows how a person wrote the digit `1` and how that digit might be represented in a 14x14 pixel map (after the input data is normalized). \n",
        "\n",
        "![Two images. The first image shows a somewhat fuzzy digit one. The second image shows a 14x14 floating-point array in which most of the cells contain 0 but a few cells contain values between 0.0 and 1.0. The pattern of nonzero values corresponds to the image of the fuzzy digit in the first image.](https://www.tensorflow.org/images/MNIST-Matrix.png)\n",
        "\n",
        "Each example in the MNIST dataset consists of:\n",
        "\n",
        "* A label specified by a [rater](https://developers.google.com/machine-learning/glossary/#rater).  Each label must be an integer from 0 to 9.  For example, in the preceding image, the rater would almost certainly assign the label `1` to the example.\n",
        "* A 28x28 pixel map, where each pixel is an integer between 0 and 255. The pixel values are on a gray scale in which 0 represents white, 255 represents black, and values between 0 and 255 represent various shades of gray.  \n",
        "\n",
        "This is a multi-class classification problem with 10 output classes, one for each digit."
      ]
    },
    {
      "cell_type": "markdown",
      "metadata": {
        "id": "xchnxAsaKKqO"
      },
      "source": [
        "## Import relevant modules\n",
        "\n",
        "The following hidden code cell imports the necessary code to run the code in the rest of this Colaboratory."
      ]
    },
    {
      "cell_type": "code",
      "metadata": {
        "id": "9n9_cTveKmse"
      },
      "source": [
        "#@title Import relevant modules\n",
        "import numpy as np\n",
        "import pandas as pd\n",
        "import tensorflow as tf\n",
        "from tensorflow.keras import layers\n",
        "from matplotlib import pyplot as plt\n",
        "\n",
        "# The following lines adjust the granularity of reporting. \n",
        "pd.options.display.max_rows = 10\n",
        "pd.options.display.float_format = \"{:.1f}\".format\n",
        "\n",
        "# The following line improves formatting when ouputting NumPy arrays.\n",
        "np.set_printoptions(linewidth = 200)"
      ],
      "execution_count": 2,
      "outputs": []
    },
    {
      "cell_type": "markdown",
      "metadata": {
        "id": "X_TaJhU4KcuY"
      },
      "source": [
        "## Load the dataset\n",
        "\n",
        "`tf.keras` provides a set of convenience functions for loading well-known datasets. Each of these convenience functions does the following:\n",
        "\n",
        "* Loads both the training set and the test set.\n",
        "* Separates each set into features and labels.\n",
        "\n",
        "The relevant convenience function for MNIST is called `mnist.load_data()`:"
      ]
    },
    {
      "cell_type": "code",
      "metadata": {
        "id": "JZlvdpyYKx7V",
        "colab": {
          "base_uri": "https://localhost:8080/"
        },
        "outputId": "79cb3754-fdbf-4c76-83d6-5ca974cf0999"
      },
      "source": [
        "(x_train, y_train),(x_test, y_test) = tf.keras.datasets.mnist.load_data()\n"
      ],
      "execution_count": 3,
      "outputs": [
        {
          "output_type": "stream",
          "name": "stdout",
          "text": [
            "Downloading data from https://storage.googleapis.com/tensorflow/tf-keras-datasets/mnist.npz\n",
            "11490434/11490434 [==============================] - 0s 0us/step\n"
          ]
        }
      ]
    },
    {
      "cell_type": "markdown",
      "metadata": {
        "id": "SfQkr3hxJGXU"
      },
      "source": [
        "Notice that `mnist.load_data()` returned four separate values:\n",
        "\n",
        "* `x_train` contains the training set's features.\n",
        "* `y_train` contains the training set's labels.\n",
        "* `x_test` contains the test set's features.\n",
        "* `y_test` contains the test set's labels.\n",
        "\n",
        "**Note:** The MNIST .csv training set is already shuffled."
      ]
    },
    {
      "cell_type": "markdown",
      "metadata": {
        "id": "71vsSUM7pdmu"
      },
      "source": [
        "## View the dataset\n",
        "\n",
        "The .csv file for the California Housing Dataset contains column names (for example, `latitude`, `longitude`, `population`). By contrast, the .csv file for MNIST does not contain column names. Instead of column names, you use ordinal numbers to access different subsets of the MNIST dataset. In fact, it is probably best to think of `x_train` and `x_test` as three-dimensional NumPy arrays:  \n",
        "\n"
      ]
    },
    {
      "cell_type": "code",
      "metadata": {
        "id": "IoOhpjkeCL8Q",
        "colab": {
          "base_uri": "https://localhost:8080/"
        },
        "outputId": "8f44f464-c38a-41e7-eb13-ee748cfea41f"
      },
      "source": [
        "# Output example #2917 of the training set.\n",
        "x_train[2917]"
      ],
      "execution_count": 4,
      "outputs": [
        {
          "output_type": "execute_result",
          "data": {
            "text/plain": [
              "array([[  0,   0,   0,   0,   0,   0,   0,   0,   0,   0,   0,   0,   0,   0,   0,   0,   0,   0,   0,   0,   0,   0,   0,   0,   0,   0,   0,   0],\n",
              "       [  0,   0,   0,   0,   0,   0,   0,   0,   0,   0,   0,   0,   0,   0,   0,   0,   0,   0,   0,   0,   0,   0,   0,   0,   0,   0,   0,   0],\n",
              "       [  0,   0,   0,   0,   0,   0,   0,   0,   0,   0,   0,   0,   0,   0,   0,   0,   0,   0,   0,   0,   0,   0,   0,   0,   0,   0,   0,   0],\n",
              "       [  0,   0,   0,   0,   0,   0,   0,   0,   0,   0,   0,   0,   0,   0,   0,   0,   0,   0,   0,   0,   0,   0,   0,   0,   0,   0,   0,   0],\n",
              "       [  0,   0,   0,   0,   0,   0,   0,   0,   0,   0,   0,   0,   0,   0,   0,   0,   0,   0,   0,   0,   0,   0,   0,   0,   0,   0,   0,   0],\n",
              "       [  0,   0,   0,   0,   0,   0,   0,   0,   0,   0,   0,   0,   0,   0,   0,   0,   0,   0,   0,   0,   0,   0,   0,   0,   0,   0,   0,   0],\n",
              "       [  0,   0,   0,   0,   0,   0,   0,   0, 127, 100, 156, 239, 224, 177, 213, 159,  70,  13,   0,   0,   0,   0,   0,   0,   0,   0,   0,   0],\n",
              "       [  0,   0,   0,   0,   0,   0,   0, 110, 250, 254, 254, 254, 254, 254, 254, 254, 254, 184,  10,   0,   0,   0,   0,   0,   0,   0,   0,   0],\n",
              "       [  0,   0,   0,   0,   0,   0,   0, 216, 254, 254, 254, 254, 254, 254, 254, 254, 254, 251,  54,   0,   0,   0,   0,   0,   0,   0,   0,   0],\n",
              "       [  0,   0,   0,   0,   0,   0,   0,   3, 131, 197,  68, 137, 101,  83,  41,  70, 221, 254, 108,   0,   0,   0,   0,   0,   0,   0,   0,   0],\n",
              "       [  0,   0,   0,   0,   0,   0,   0,   0,   0,   0,   0,   0,   0,   0,   0,   0,  58, 254, 216,  11,   0,   0,   0,   0,   0,   0,   0,   0],\n",
              "       [  0,   0,   0,   0,   0,   0,   0,   0,   0,   0,   0,   0,   0,   0,   0,   0, 110, 254, 254,  24,   0,   0,   0,   0,   0,   0,   0,   0],\n",
              "       [  0,   0,   0,   0,   0,   0,   0,   0,   0,   0,   0,   0,   0,   0,   4,  83, 247, 254, 192,  10,   0,   0,   0,   0,   0,   0,   0,   0],\n",
              "       [  0,   0,   0,   0,   0,   0,   0,   0,   0,   0,   0,   0,   0,  37, 124, 254, 254, 250,  47,   0,   0,   0,   0,   0,   0,   0,   0,   0],\n",
              "       [  0,   0,   0,   0,   0,   0,   0,   0,   0,   0,   0, 113, 178, 250, 254, 254, 254, 252, 178, 128,  50,   0,   0,   0,   0,   0,   0,   0],\n",
              "       [  0,   0,   0,   0,   0,   0,   0,   0,   0,   0,  69, 252, 254, 254, 254, 254, 254, 254, 254, 254, 153,   0,   0,   0,   0,   0,   0,   0],\n",
              "       [  0,   0,   0,   0,   0,   0,   0,   0,   0,   0, 141, 252, 254, 241, 241, 254, 247, 252, 254, 254, 153,   0,   0,   0,   0,   0,   0,   0],\n",
              "       [  0,   0,   0,   0,   0,   0,   0,   0,   0,   0,   0,  68,  82,   5,   5,  82,  37,  65, 167, 254, 190,   0,   0,   0,   0,   0,   0,   0],\n",
              "       [  0,   0,   0,   0,   0,   0,   0,   0,   0,   0,   0,   0,   0,   0,   0,   0,   0,   0, 162, 254, 153,   0,   0,   0,   0,   0,   0,   0],\n",
              "       [  0,   0,   0,   0,   0,   0,   0,   0,   0,   0,   0,   0,   0,   0,   0,   0,   0,   1, 172, 253,  75,   0,   0,   0,   0,   0,   0,   0],\n",
              "       [  0,   0,   0,   0,   0,   0,   0,   0,   0,   0,   0,   0,   0,   0,   0,   0,   0, 102, 254, 152,   0,   0,   0,   0,   0,   0,   0,   0],\n",
              "       [  0,   0,   0,   0,   0,   0,   0,   0,   0,   0,   0,   0,   0,   0,   0,   0,  38, 230, 216,  20,   0,   0,   0,   0,   0,   0,   0,   0],\n",
              "       [  0,   0,   0,   0,   0,   0,   0,   0,   0,   0,   0,   0,   0,   0,   1,  71, 222, 254, 142,   0,   0,   0,   0,   0,   0,   0,   0,   0],\n",
              "       [  0,   0,   0,   0,   0,   0,   0,   0,   0,   0,   0,   0,   0,   0,  66, 254, 254, 157,   0,   0,   0,   0,   0,   0,   0,   0,   0,   0],\n",
              "       [  0,   0,   0,   0,   0,   0,   0,   0,   4,  34,  34,  78, 161, 226, 249, 254, 154,   6,   0,   0,   0,   0,   0,   0,   0,   0,   0,   0],\n",
              "       [  0,   0,   0,   0,   0,   0,   0,  96, 184, 254, 254, 254, 254, 254, 249,  93,   5,   0,   0,   0,   0,   0,   0,   0,   0,   0,   0,   0],\n",
              "       [  0,   0,   0,   0,   0,   0,   0,   0,   0,   0,   0,   0,   0,   0,   0,   0,   0,   0,   0,   0,   0,   0,   0,   0,   0,   0,   0,   0],\n",
              "       [  0,   0,   0,   0,   0,   0,   0,   0,   0,   0,   0,   0,   0,   0,   0,   0,   0,   0,   0,   0,   0,   0,   0,   0,   0,   0,   0,   0]], dtype=uint8)"
            ]
          },
          "metadata": {},
          "execution_count": 4
        }
      ]
    },
    {
      "cell_type": "markdown",
      "metadata": {
        "id": "LNJrJKUwvZMR"
      },
      "source": [
        "Alternatively, you can call `matplotlib.pyplot.imshow` to interpret the preceding numeric array as an image. "
      ]
    },
    {
      "cell_type": "code",
      "metadata": {
        "id": "siRC8a1hJvmq",
        "colab": {
          "base_uri": "https://localhost:8080/",
          "height": 282
        },
        "outputId": "6f9866f5-adfb-4823-e758-ade12d18e332"
      },
      "source": [
        "# Use false colors to visualize the array.\n",
        "plt.imshow(x_train[2917])"
      ],
      "execution_count": 5,
      "outputs": [
        {
          "output_type": "execute_result",
          "data": {
            "text/plain": [
              "<matplotlib.image.AxesImage at 0x7fde7c7b36d0>"
            ]
          },
          "metadata": {},
          "execution_count": 5
        },
        {
          "output_type": "display_data",
          "data": {
            "text/plain": [
              "<Figure size 432x288 with 1 Axes>"
            ],
            "image/png": "[encoded data removed]"
          },
          "metadata": {
            "needs_background": "light"
          }
        }
      ]
    },
    {
      "cell_type": "code",
      "metadata": {
        "id": "V-he9IcihDxb",
        "colab": {
          "base_uri": "https://localhost:8080/"
        },
        "outputId": "569ab070-a19d-4c12-b579-ec5ff69baa5d"
      },
      "source": [
        "# Output row #10 of example #2917.\n",
        "x_train[2917][10]"
      ],
      "execution_count": 6,
      "outputs": [
        {
          "output_type": "execute_result",
          "data": {
            "text/plain": [
              "array([  0,   0,   0,   0,   0,   0,   0,   0,   0,   0,   0,   0,   0,   0,   0,   0,  58, 254, 216,  11,   0,   0,   0,   0,   0,   0,   0,   0], dtype=uint8)"
            ]
          },
          "metadata": {},
          "execution_count": 6
        }
      ]
    },
    {
      "cell_type": "code",
      "metadata": {
        "id": "DUEWipalhQ8J",
        "colab": {
          "base_uri": "https://localhost:8080/"
        },
        "outputId": "e99d98e7-89a6-43ca-ac8f-d04df25a7cc8"
      },
      "source": [
        "# Output pixel #16 of row #10 of example #2900.\n",
        "x_train[2900][10][16]"
      ],
      "execution_count": 7,
      "outputs": [
        {
          "output_type": "execute_result",
          "data": {
            "text/plain": [
              "0"
            ]
          },
          "metadata": {},
          "execution_count": 7
        }
      ]
    },
    {
      "cell_type": "markdown",
      "metadata": {
        "id": "8ldP-5z1B2vL"
      },
      "source": [
        "## Task 1: Normalize feature values\n",
        "\n",
        "Complete the following code cell to map each feature value from its current representation (an integer between 0 and 255) to a floating-point value between 0 and 1.0. Store the floating-point values in `x_train_normalized` and `x_test_normalized`."
      ]
    },
    {
      "cell_type": "code",
      "metadata": {
        "id": "4YQljE-wizDw",
        "colab": {
          "base_uri": "https://localhost:8080/"
        },
        "outputId": "ebd731f9-a9c1-4cfd-c7a0-620958d12bfc"
      },
      "source": [
        "x_train_normalized = x_train / 255.0\n",
        "x_test_normalized = x_test / 255.0\n",
        "print(x_train_normalized[2900][10]) # Output a normalized row"
      ],
      "execution_count": 8,
      "outputs": [
        {
          "output_type": "stream",
          "name": "stdout",
          "text": [
            "[0.         0.         0.         0.         0.         0.         0.         0.55294118 1.         0.66666667 0.11372549 0.         0.         0.         0.         0.         0.         0.\n",
            " 0.         0.         0.         0.         0.         0.         0.         0.         0.         0.        ]\n"
          ]
        }
      ]
    },
    {
      "cell_type": "markdown",
      "metadata": {
        "id": "ZBWRF6CStuNA"
      },
      "source": [
        "## Define a plotting function\n",
        "\n",
        "The following function plots an accuracy curve:"
      ]
    },
    {
      "cell_type": "code",
      "metadata": {
        "id": "QF0BFRXTOeR3",
        "colab": {
          "base_uri": "https://localhost:8080/"
        },
        "outputId": "74f2f103-9620-4e9b-b535-fcfd8719b96e"
      },
      "source": [
        "#@title Define the plotting function\n",
        "def plot_curve(epochs, hist, list_of_metrics):\n",
        "  \"\"\"Plot a curve of one or more classification metrics vs. epoch.\"\"\"  \n",
        "  # list_of_metrics should be one of the names shown in:\n",
        "  # https://www.tensorflow.org/tutorials/structured_data/imbalanced_data#define_the_model_and_metrics  \n",
        "\n",
        "  plt.figure()\n",
        "  plt.xlabel(\"Epoch\")\n",
        "  plt.ylabel(\"Value\")\n",
        "\n",
        "  for m in list_of_metrics:\n",
        "    x = hist[m]\n",
        "    plt.plot(epochs[1:], x[1:], label=m)\n",
        "\n",
        "  plt.legend()\n",
        "\n",
        "print(\"Loaded the plot_curve function.\")"
      ],
      "execution_count": 9,
      "outputs": [
        {
          "output_type": "stream",
          "name": "stdout",
          "text": [
            "Loaded the plot_curve function.\n"
          ]
        }
      ]
    },
    {
      "cell_type": "markdown",
      "metadata": {
        "id": "3014ezH3C7jT"
      },
      "source": [
        "## Create a deep neural net model\n",
        "\n",
        "The `create_model` function defines the topography of the deep neural net, specifying the following:\n",
        "\n",
        "* The number of [layers](https://developers.google.com/machine-learning/glossary/#layer) in the deep neural net.\n",
        "* The number of [nodes](https://developers.google.com/machine-learning/glossary/#node) in each layer.\n",
        "* Any [regularization](https://developers.google.com/machine-learning/glossary/#regularization) layers.\n",
        "\n",
        "The `create_model` function also defines the [activation function](https://developers.google.com/machine-learning/glossary/#activation_function) of each layer.  The activation function of the output layer is [softmax](https://developers.google.com/machine-learning/glossary/#softmax), which will yield 10 different outputs for each example. Each of the 10 outputs provides the probability that the input example is a certain digit.\n",
        "\n",
        "**Note:** Unlike several of the recent Colabs, this exercise does not define feature columns or a feature layer.  Instead, the model will train on the NumPy array."
      ]
    },
    {
      "cell_type": "code",
      "metadata": {
        "id": "pedD5GhlDC-y",
        "cellView": "both"
      },
      "source": [
        "def create_model(my_learning_rate):\n",
        "  \"\"\"Create and compile a deep neural net.\"\"\"\n",
        "  \n",
        "  # All models in this course are sequential.\n",
        "  model = tf.keras.models.Sequential()\n",
        "\n",
        "  # The features are stored in a two-dimensional 28X28 array. \n",
        "  # Flatten that two-dimensional array into a one-dimensional \n",
        "  # 784-element array.\n",
        "  model.add(tf.keras.layers.Flatten(input_shape=(28, 28)))\n",
        "\n",
        "  # Define the first hidden layer.   \n",
        "  model.add(tf.keras.layers.Dense(units=32, activation='relu'))\n",
        "  \n",
        "  # Define a dropout regularization layer. \n",
        "  model.add(tf.keras.layers.Dropout(rate=0.2))\n",
        "\n",
        "  # Define the output layer. The units parameter is set to 10 because\n",
        "  # the model must choose among 10 possible output values (representing\n",
        "  # the digits from 0 to 9, inclusive).\n",
        "  #\n",
        "  # Don't change this layer.\n",
        "  model.add(tf.keras.layers.Dense(units=10, activation='softmax'))     \n",
        "                           \n",
        "  # Construct the layers into a model that TensorFlow can execute.  \n",
        "  # Notice that the loss function for multi-class classification\n",
        "  # is different than the loss function for binary classification.  \n",
        "  model.compile(optimizer=tf.keras.optimizers.Adam(lr=my_learning_rate),\n",
        "                loss=\"sparse_categorical_crossentropy\",\n",
        "                metrics=['accuracy'])\n",
        "  \n",
        "  return model    \n",
        "\n",
        "\n",
        "def train_model(model, train_features, train_label, epochs,\n",
        "                batch_size=None, validation_split=0.1):\n",
        "  \"\"\"Train the model by feeding it data.\"\"\"\n",
        "\n",
        "  history = model.fit(x=train_features, y=train_label, batch_size=batch_size,\n",
        "                      epochs=epochs, shuffle=True, \n",
        "                      validation_split=validation_split)\n",
        " \n",
        "  # To track the progression of training, gather a snapshot\n",
        "  # of the model's metrics at each epoch. \n",
        "  epochs = history.epoch\n",
        "  hist = pd.DataFrame(history.history)\n",
        "\n",
        "  return epochs, history, hist    "
      ],
      "execution_count": 10,
      "outputs": []
    },
    {
      "cell_type": "markdown",
      "metadata": {
        "id": "D-IXYVfvM4gD"
      },
      "source": [
        "## Invoke the previous functions\n",
        "\n",
        "Run the following code cell to invoke the preceding functions and actually train the model on the training set. \n",
        "\n",
        "**Note:** Due to several factors (for example, more examples and a more complex neural network) training MNIST might take longer than training the California Housing Dataset."
      ]
    },
    {
      "cell_type": "code",
      "metadata": {
        "id": "nj3v5EKQFY8s",
        "cellView": "both",
        "colab": {
          "base_uri": "https://localhost:8080/",
          "height": 1000
        },
        "outputId": "89b42ee9-7d48-4357-e029-6f67d1260cf3"
      },
      "source": [
        "# The following variables are the hyperparameters.\n",
        "learning_rate = 0.003\n",
        "epochs = 50\n",
        "batch_size = 4000\n",
        "validation_split = 0.2\n",
        "\n",
        "# Establish the model's topography.\n",
        "my_model = create_model(learning_rate)\n",
        "\n",
        "# Train the model on the normalized training set.\n",
        "epochs, history, hist = train_model(my_model, x_train_normalized, y_train, \n",
        "                           epochs, batch_size, validation_split)\n",
        "\n",
        "# Plot a graph of the metric vs. epochs.\n",
        "list_of_metrics_to_plot = ['accuracy']\n",
        "plot_curve(epochs, hist, list_of_metrics_to_plot)\n",
        "\n",
        "# Evaluate against the test set.\n",
        "print(\"\\n Evaluate the new model against the test set:\")\n",
        "my_model.evaluate(x=x_test_normalized, y=y_test, batch_size=batch_size)"
      ],
      "execution_count": 11,
      "outputs": [
        {
          "output_type": "stream",
          "name": "stderr",
          "text": [
            "/usr/local/lib/python3.7/dist-packages/keras/optimizers/optimizer_v2/adam.py:110: UserWarning: The `lr` argument is deprecated, use `learning_rate` instead.\n",
            "  super(Adam, self).__init__(name, **kwargs)\n"
          ]
        },
        {
          "output_type": "stream",
          "name": "stdout",
          "text": [
            "Epoch 1/50\n",
            "12/12 [==============================] - 3s 109ms/step - loss: 1.6381 - accuracy: 0.4863 - val_loss: 0.8837 - val_accuracy: 0.8193\n",
            "Epoch 2/50\n",
            "12/12 [==============================] - 1s 65ms/step - loss: 0.8348 - accuracy: 0.7553 - val_loss: 0.5024 - val_accuracy: 0.8712\n",
            "Epoch 3/50\n",
            "12/12 [==============================] - 1s 64ms/step - loss: 0.6018 - accuracy: 0.8186 - val_loss: 0.3969 - val_accuracy: 0.8897\n",
            "Epoch 4/50\n",
            "12/12 [==============================] - 1s 63ms/step - loss: 0.5056 - accuracy: 0.8497 - val_loss: 0.3455 - val_accuracy: 0.9045\n",
            "Epoch 5/50\n",
            "12/12 [==============================] - 1s 67ms/step - loss: 0.4498 - accuracy: 0.8684 - val_loss: 0.3167 - val_accuracy: 0.9109\n",
            "Epoch 6/50\n",
            "12/12 [==============================] - 1s 64ms/step - loss: 0.4160 - accuracy: 0.8772 - val_loss: 0.2939 - val_accuracy: 0.9167\n",
            "Epoch 7/50\n",
            "12/12 [==============================] - 1s 57ms/step - loss: 0.3885 - accuracy: 0.8871 - val_loss: 0.2752 - val_accuracy: 0.9232\n",
            "Epoch 8/50\n",
            "12/12 [==============================] - 1s 64ms/step - loss: 0.3634 - accuracy: 0.8935 - val_loss: 0.2585 - val_accuracy: 0.9277\n",
            "Epoch 9/50\n",
            "12/12 [==============================] - 1s 52ms/step - loss: 0.3452 - accuracy: 0.8996 - val_loss: 0.2467 - val_accuracy: 0.9306\n",
            "Epoch 10/50\n",
            "12/12 [==============================] - 1s 66ms/step - loss: 0.3320 - accuracy: 0.9030 - val_loss: 0.2370 - val_accuracy: 0.9339\n",
            "Epoch 11/50\n",
            "12/12 [==============================] - 1s 60ms/step - loss: 0.3171 - accuracy: 0.9058 - val_loss: 0.2280 - val_accuracy: 0.9371\n",
            "Epoch 12/50\n",
            "12/12 [==============================] - 1s 60ms/step - loss: 0.3035 - accuracy: 0.9126 - val_loss: 0.2203 - val_accuracy: 0.9389\n",
            "Epoch 13/50\n",
            "12/12 [==============================] - 1s 71ms/step - loss: 0.2943 - accuracy: 0.9135 - val_loss: 0.2129 - val_accuracy: 0.9411\n",
            "Epoch 14/50\n",
            "12/12 [==============================] - 1s 57ms/step - loss: 0.2871 - accuracy: 0.9159 - val_loss: 0.2068 - val_accuracy: 0.9429\n",
            "Epoch 15/50\n",
            "12/12 [==============================] - 1s 60ms/step - loss: 0.2784 - accuracy: 0.9177 - val_loss: 0.2003 - val_accuracy: 0.9439\n",
            "Epoch 16/50\n",
            "12/12 [==============================] - 1s 75ms/step - loss: 0.2706 - accuracy: 0.9202 - val_loss: 0.1959 - val_accuracy: 0.9462\n",
            "Epoch 17/50\n",
            "12/12 [==============================] - 1s 62ms/step - loss: 0.2640 - accuracy: 0.9227 - val_loss: 0.1909 - val_accuracy: 0.9475\n",
            "Epoch 18/50\n",
            "12/12 [==============================] - 1s 60ms/step - loss: 0.2556 - accuracy: 0.9244 - val_loss: 0.1866 - val_accuracy: 0.9483\n",
            "Epoch 19/50\n",
            "12/12 [==============================] - 1s 59ms/step - loss: 0.2527 - accuracy: 0.9241 - val_loss: 0.1833 - val_accuracy: 0.9492\n",
            "Epoch 20/50\n",
            "12/12 [==============================] - 1s 60ms/step - loss: 0.2459 - accuracy: 0.9261 - val_loss: 0.1790 - val_accuracy: 0.9503\n",
            "Epoch 21/50\n",
            "12/12 [==============================] - 0s 35ms/step - loss: 0.2422 - accuracy: 0.9284 - val_loss: 0.1749 - val_accuracy: 0.9520\n",
            "Epoch 22/50\n",
            "12/12 [==============================] - 0s 34ms/step - loss: 0.2401 - accuracy: 0.9275 - val_loss: 0.1722 - val_accuracy: 0.9518\n",
            "Epoch 23/50\n",
            "12/12 [==============================] - 0s 33ms/step - loss: 0.2334 - accuracy: 0.9300 - val_loss: 0.1694 - val_accuracy: 0.9522\n",
            "Epoch 24/50\n",
            "12/12 [==============================] - 0s 34ms/step - loss: 0.2249 - accuracy: 0.9331 - val_loss: 0.1670 - val_accuracy: 0.9533\n",
            "Epoch 25/50\n",
            "12/12 [==============================] - 0s 34ms/step - loss: 0.2253 - accuracy: 0.9317 - val_loss: 0.1644 - val_accuracy: 0.9539\n",
            "Epoch 26/50\n",
            "12/12 [==============================] - 0s 34ms/step - loss: 0.2210 - accuracy: 0.9341 - val_loss: 0.1615 - val_accuracy: 0.9553\n",
            "Epoch 27/50\n",
            "12/12 [==============================] - 0s 34ms/step - loss: 0.2166 - accuracy: 0.9352 - val_loss: 0.1594 - val_accuracy: 0.9553\n",
            "Epoch 28/50\n",
            "12/12 [==============================] - 0s 33ms/step - loss: 0.2145 - accuracy: 0.9354 - val_loss: 0.1581 - val_accuracy: 0.9556\n",
            "Epoch 29/50\n",
            "12/12 [==============================] - 0s 35ms/step - loss: 0.2110 - accuracy: 0.9367 - val_loss: 0.1561 - val_accuracy: 0.9556\n",
            "Epoch 30/50\n",
            "12/12 [==============================] - 0s 36ms/step - loss: 0.2076 - accuracy: 0.9378 - val_loss: 0.1537 - val_accuracy: 0.9569\n",
            "Epoch 31/50\n",
            "12/12 [==============================] - 0s 35ms/step - loss: 0.2035 - accuracy: 0.9386 - val_loss: 0.1511 - val_accuracy: 0.9563\n",
            "Epoch 32/50\n",
            "12/12 [==============================] - 0s 34ms/step - loss: 0.2024 - accuracy: 0.9387 - val_loss: 0.1506 - val_accuracy: 0.9568\n",
            "Epoch 33/50\n",
            "12/12 [==============================] - 0s 34ms/step - loss: 0.1983 - accuracy: 0.9400 - val_loss: 0.1489 - val_accuracy: 0.9567\n",
            "Epoch 34/50\n",
            "12/12 [==============================] - 0s 35ms/step - loss: 0.1994 - accuracy: 0.9395 - val_loss: 0.1485 - val_accuracy: 0.9572\n",
            "Epoch 35/50\n",
            "12/12 [==============================] - 0s 34ms/step - loss: 0.1952 - accuracy: 0.9409 - val_loss: 0.1463 - val_accuracy: 0.9572\n",
            "Epoch 36/50\n",
            "12/12 [==============================] - 0s 34ms/step - loss: 0.1905 - accuracy: 0.9413 - val_loss: 0.1447 - val_accuracy: 0.9577\n",
            "Epoch 37/50\n",
            "12/12 [==============================] - 0s 35ms/step - loss: 0.1897 - accuracy: 0.9414 - val_loss: 0.1438 - val_accuracy: 0.9579\n",
            "Epoch 38/50\n",
            "12/12 [==============================] - 0s 33ms/step - loss: 0.1850 - accuracy: 0.9437 - val_loss: 0.1427 - val_accuracy: 0.9580\n",
            "Epoch 39/50\n",
            "12/12 [==============================] - 0s 35ms/step - loss: 0.1864 - accuracy: 0.9433 - val_loss: 0.1428 - val_accuracy: 0.9588\n",
            "Epoch 40/50\n",
            "12/12 [==============================] - 0s 33ms/step - loss: 0.1848 - accuracy: 0.9438 - val_loss: 0.1406 - val_accuracy: 0.9582\n",
            "Epoch 41/50\n",
            "12/12 [==============================] - 0s 34ms/step - loss: 0.1827 - accuracy: 0.9451 - val_loss: 0.1402 - val_accuracy: 0.9592\n",
            "Epoch 42/50\n",
            "12/12 [==============================] - 0s 34ms/step - loss: 0.1789 - accuracy: 0.9459 - val_loss: 0.1390 - val_accuracy: 0.9588\n",
            "Epoch 43/50\n",
            "12/12 [==============================] - 0s 34ms/step - loss: 0.1779 - accuracy: 0.9457 - val_loss: 0.1385 - val_accuracy: 0.9600\n",
            "Epoch 44/50\n",
            "12/12 [==============================] - 0s 35ms/step - loss: 0.1779 - accuracy: 0.9448 - val_loss: 0.1376 - val_accuracy: 0.9593\n",
            "Epoch 45/50\n",
            "12/12 [==============================] - 0s 32ms/step - loss: 0.1734 - accuracy: 0.9469 - val_loss: 0.1382 - val_accuracy: 0.9597\n",
            "Epoch 46/50\n",
            "12/12 [==============================] - 0s 34ms/step - loss: 0.1751 - accuracy: 0.9468 - val_loss: 0.1366 - val_accuracy: 0.9588\n",
            "Epoch 47/50\n",
            "12/12 [==============================] - 0s 33ms/step - loss: 0.1719 - accuracy: 0.9476 - val_loss: 0.1344 - val_accuracy: 0.9601\n",
            "Epoch 48/50\n",
            "12/12 [==============================] - 0s 34ms/step - loss: 0.1712 - accuracy: 0.9471 - val_loss: 0.1343 - val_accuracy: 0.9604\n",
            "Epoch 49/50\n",
            "12/12 [==============================] - 0s 35ms/step - loss: 0.1698 - accuracy: 0.9478 - val_loss: 0.1342 - val_accuracy: 0.9593\n",
            "Epoch 50/50\n",
            "12/12 [==============================] - 0s 32ms/step - loss: 0.1686 - accuracy: 0.9478 - val_loss: 0.1340 - val_accuracy: 0.9603\n",
            "\n",
            " Evaluate the new model against the test set:\n",
            "3/3 [==============================] - 0s 10ms/step - loss: 0.1348 - accuracy: 0.9602\n"
          ]
        },
        {
          "output_type": "execute_result",
          "data": {
            "text/plain": [
              "[0.13479799032211304, 0.9602000117301941]"
            ]
          },
          "metadata": {},
          "execution_count": 11
        },
        {
          "output_type": "display_data",
          "data": {
            "text/plain": [
              "<Figure size 432x288 with 1 Axes>"
            ],
            "image/png": "[encoded data removed]"
          },
          "metadata": {
            "needs_background": "light"
          }
        }
      ]
    },
    {
      "cell_type": "code",
      "source": [
        "#-----------------------------------------------------------\n",
        "# Retrieve a list of list results on training and test data\n",
        "# sets for each training epoch\n",
        "#-----------------------------------------------------------\n",
        "acc= history.history['accuracy']\n",
        "val_acc=history.history['val_accuracy']\n",
        "loss=history.history['loss']\n",
        "val_loss=history.history['val_loss']\n",
        "\n",
        "epochs=range(len(acc)) # Get number of epochs\n",
        "\n",
        "#------------------------------------------------\n",
        "# Plot training and validation accuracy per epoch\n",
        "#------------------------------------------------\n",
        "plt.plot(epochs, acc, 'r', \"Training Accuracy\")\n",
        "plt.plot(epochs, val_acc, 'b', \"Validation Accuracy\")\n",
        "plt.title('Training and validation accuracy')\n",
        "plt.show()\n",
        "print(\"\")\n",
        "\n",
        "#------------------------------------------------\n",
        "# Plot training and validation loss per epoch\n",
        "#------------------------------------------------\n",
        "plt.plot(epochs, loss, 'r', \"Training Loss\")\n",
        "plt.plot(epochs, val_loss, 'b', \"Validation Loss\")\n",
        "plt.show()"
      ],
      "metadata": {
        "id": "LLGuKNLluJ6F",
        "colab": {
          "base_uri": "https://localhost:8080/",
          "height": 546
        },
        "outputId": "a4376d3c-f8f1-4558-eb5a-8088c1c61b95"
      },
      "execution_count": 12,
      "outputs": [
        {
          "output_type": "display_data",
          "data": {
            "text/plain": [
              "<Figure size 432x288 with 1 Axes>"
            ],
            "image/png": "[encoded data removed]"
          },
          "metadata": {
            "needs_background": "light"
          }
        },
        {
          "output_type": "stream",
          "name": "stdout",
          "text": [
            "\n"
          ]
        },
        {
          "output_type": "display_data",
          "data": {
            "text/plain": [
              "<Figure size 432x288 with 1 Axes>"
            ],
            "image/png": "[encoded data removed]"
          },
          "metadata": {
            "needs_background": "light"
          }
        }
      ]
    },
    {
      "cell_type": "markdown",
      "metadata": {
        "id": "Y5IKmk7D49_n"
      },
      "source": [
        "## Task 2: Optimize the model\n",
        "\n",
        "Experiment with the following:\n",
        "\n",
        "* number of hidden layers \n",
        "* number of nodes in each layer\n",
        "* dropout regularization rate\n",
        "\n",
        "What trends did you discover?  Can you reach at least 98% accuracy against the test set? \n",
        "\n",
        "\n"
      ]
    },
    {
      "cell_type": "code",
      "source": [
        "def create_model2(my_learning_rate):\n",
        "  \"\"\"Create and compile a deep neural net.\"\"\"\n",
        "  \n",
        "  # All models in this course are sequential.\n",
        "  model = tf.keras.models.Sequential([\n",
        "      tf.keras.layers.Flatten(input_shape = (28,28)),\n",
        "      tf.keras.layers.Dense(256, activation = \"relu\"),\n",
        "      tf.keras.layers.Dropout(rate = 0.2),\n",
        "      tf.keras.layers.Dense(128, activation = \"relu\"),\n",
        "      tf.keras.layers.Dense(units=10, activation='softmax')\n",
        "  ]) \n",
        "                           \n",
        "  model.compile(optimizer=tf.keras.optimizers.Adam(lr=my_learning_rate),\n",
        "                loss=\"sparse_categorical_crossentropy\",\n",
        "                metrics=['accuracy'])\n",
        "  \n",
        "  return model    \n",
        "\n",
        "\n",
        "def train_model2(model, train_features, train_label, epochs,\n",
        "                batch_size=None, validation_split=0.1):\n",
        "  \"\"\"Train the model by feeding it data.\"\"\"\n",
        "\n",
        "  history = model.fit(x=train_features, y=train_label, batch_size=batch_size,\n",
        "                      epochs=epochs, shuffle=True, \n",
        "                      validation_split=validation_split)\n",
        " \n",
        "  epochs = history.epoch\n",
        "  hist = pd.DataFrame(history.history)\n",
        "\n",
        "  return epochs, history, hist    "
      ],
      "metadata": {
        "id": "uNJOhtbMuwVs"
      },
      "execution_count": 23,
      "outputs": []
    },
    {
      "cell_type": "code",
      "source": [
        "# The following variables are the hyperparameters.\n",
        "learning_rate = 0.003\n",
        "epochs = 50\n",
        "batch_size = 4000\n",
        "validation_split = 0.2\n",
        "\n",
        "# Establish the model's topography.\n",
        "my_model = create_model2(learning_rate)\n",
        "\n",
        "# Train the model on the normalized training set.\n",
        "epochs2, history2, hist2 = train_model2(my_model, x_train_normalized, y_train, \n",
        "                           epochs, batch_size, validation_split)\n",
        "\n",
        "# Plot a graph of the metric vs. epochs.\n",
        "list_of_metrics_to_plot = ['accuracy']\n",
        "plot_curve(epochs2, hist2, list_of_metrics_to_plot)\n",
        "\n",
        "# Evaluate against the test set.\n",
        "print(\"\\n Evaluate the new model against the test set:\")\n",
        "my_model.evaluate(x=x_test_normalized, y=y_test, batch_size=batch_size)"
      ],
      "metadata": {
        "id": "EwhzIPwnu0a0",
        "colab": {
          "base_uri": "https://localhost:8080/",
          "height": 1000
        },
        "outputId": "9a7d0911-30b0-4dca-fce6-ab91e11565e9"
      },
      "execution_count": 24,
      "outputs": [
        {
          "output_type": "stream",
          "name": "stdout",
          "text": [
            "Epoch 1/50\n"
          ]
        },
        {
          "output_type": "stream",
          "name": "stderr",
          "text": [
            "/usr/local/lib/python3.7/dist-packages/keras/optimizers/optimizer_v2/adam.py:110: UserWarning: The `lr` argument is deprecated, use `learning_rate` instead.\n",
            "  super(Adam, self).__init__(name, **kwargs)\n"
          ]
        },
        {
          "output_type": "stream",
          "name": "stdout",
          "text": [
            "12/12 [==============================] - 2s 131ms/step - loss: 0.9945 - accuracy: 0.7100 - val_loss: 0.3525 - val_accuracy: 0.8946\n",
            "Epoch 2/50\n",
            "12/12 [==============================] - 1s 115ms/step - loss: 0.3698 - accuracy: 0.8934 - val_loss: 0.2480 - val_accuracy: 0.9290\n",
            "Epoch 3/50\n",
            "12/12 [==============================] - 1s 116ms/step - loss: 0.2559 - accuracy: 0.9247 - val_loss: 0.1916 - val_accuracy: 0.9448\n",
            "Epoch 4/50\n",
            "12/12 [==============================] - 1s 115ms/step - loss: 0.2009 - accuracy: 0.9416 - val_loss: 0.1599 - val_accuracy: 0.9551\n",
            "Epoch 5/50\n",
            "12/12 [==============================] - 1s 117ms/step - loss: 0.1665 - accuracy: 0.9503 - val_loss: 0.1402 - val_accuracy: 0.9597\n",
            "Epoch 6/50\n",
            "12/12 [==============================] - 1s 114ms/step - loss: 0.1409 - accuracy: 0.9584 - val_loss: 0.1276 - val_accuracy: 0.9617\n",
            "Epoch 7/50\n",
            "12/12 [==============================] - 1s 114ms/step - loss: 0.1230 - accuracy: 0.9637 - val_loss: 0.1178 - val_accuracy: 0.9652\n",
            "Epoch 8/50\n",
            "12/12 [==============================] - 1s 114ms/step - loss: 0.1060 - accuracy: 0.9689 - val_loss: 0.1077 - val_accuracy: 0.9678\n",
            "Epoch 9/50\n",
            "12/12 [==============================] - 1s 115ms/step - loss: 0.0933 - accuracy: 0.9719 - val_loss: 0.1012 - val_accuracy: 0.9701\n",
            "Epoch 10/50\n",
            "12/12 [==============================] - 1s 114ms/step - loss: 0.0831 - accuracy: 0.9752 - val_loss: 0.0971 - val_accuracy: 0.9706\n",
            "Epoch 11/50\n",
            "12/12 [==============================] - 1s 116ms/step - loss: 0.0756 - accuracy: 0.9774 - val_loss: 0.0923 - val_accuracy: 0.9722\n",
            "Epoch 12/50\n",
            "12/12 [==============================] - 1s 115ms/step - loss: 0.0687 - accuracy: 0.9794 - val_loss: 0.0902 - val_accuracy: 0.9725\n",
            "Epoch 13/50\n",
            "12/12 [==============================] - 1s 116ms/step - loss: 0.0627 - accuracy: 0.9810 - val_loss: 0.0883 - val_accuracy: 0.9727\n",
            "Epoch 14/50\n",
            "12/12 [==============================] - 1s 115ms/step - loss: 0.0571 - accuracy: 0.9828 - val_loss: 0.0863 - val_accuracy: 0.9746\n",
            "Epoch 15/50\n",
            "12/12 [==============================] - 1s 115ms/step - loss: 0.0524 - accuracy: 0.9847 - val_loss: 0.0834 - val_accuracy: 0.9747\n",
            "Epoch 16/50\n",
            "12/12 [==============================] - 1s 115ms/step - loss: 0.0470 - accuracy: 0.9863 - val_loss: 0.0826 - val_accuracy: 0.9762\n",
            "Epoch 17/50\n",
            "12/12 [==============================] - 1s 115ms/step - loss: 0.0423 - accuracy: 0.9876 - val_loss: 0.0817 - val_accuracy: 0.9763\n",
            "Epoch 18/50\n",
            "12/12 [==============================] - 2s 168ms/step - loss: 0.0396 - accuracy: 0.9884 - val_loss: 0.0790 - val_accuracy: 0.9772\n",
            "Epoch 19/50\n",
            "12/12 [==============================] - 2s 164ms/step - loss: 0.0388 - accuracy: 0.9877 - val_loss: 0.0787 - val_accuracy: 0.9761\n",
            "Epoch 20/50\n",
            "12/12 [==============================] - 1s 118ms/step - loss: 0.0360 - accuracy: 0.9891 - val_loss: 0.0798 - val_accuracy: 0.9778\n",
            "Epoch 21/50\n",
            "12/12 [==============================] - 1s 116ms/step - loss: 0.0330 - accuracy: 0.9900 - val_loss: 0.0774 - val_accuracy: 0.9774\n",
            "Epoch 22/50\n",
            "12/12 [==============================] - 1s 114ms/step - loss: 0.0307 - accuracy: 0.9912 - val_loss: 0.0788 - val_accuracy: 0.9786\n",
            "Epoch 23/50\n",
            "12/12 [==============================] - 1s 114ms/step - loss: 0.0274 - accuracy: 0.9917 - val_loss: 0.0768 - val_accuracy: 0.9787\n",
            "Epoch 24/50\n",
            "12/12 [==============================] - 1s 114ms/step - loss: 0.0256 - accuracy: 0.9925 - val_loss: 0.0764 - val_accuracy: 0.9797\n",
            "Epoch 25/50\n",
            "12/12 [==============================] - 1s 114ms/step - loss: 0.0239 - accuracy: 0.9929 - val_loss: 0.0775 - val_accuracy: 0.9787\n",
            "Epoch 26/50\n",
            "12/12 [==============================] - 1s 115ms/step - loss: 0.0227 - accuracy: 0.9933 - val_loss: 0.0760 - val_accuracy: 0.9787\n",
            "Epoch 27/50\n",
            "12/12 [==============================] - 1s 115ms/step - loss: 0.0219 - accuracy: 0.9933 - val_loss: 0.0791 - val_accuracy: 0.9788\n",
            "Epoch 28/50\n",
            "12/12 [==============================] - 1s 116ms/step - loss: 0.0208 - accuracy: 0.9942 - val_loss: 0.0782 - val_accuracy: 0.9788\n",
            "Epoch 29/50\n",
            "12/12 [==============================] - 1s 115ms/step - loss: 0.0195 - accuracy: 0.9942 - val_loss: 0.0775 - val_accuracy: 0.9791\n",
            "Epoch 30/50\n",
            "12/12 [==============================] - 1s 114ms/step - loss: 0.0175 - accuracy: 0.9948 - val_loss: 0.0783 - val_accuracy: 0.9787\n",
            "Epoch 31/50\n",
            "12/12 [==============================] - 1s 115ms/step - loss: 0.0170 - accuracy: 0.9952 - val_loss: 0.0757 - val_accuracy: 0.9797\n",
            "Epoch 32/50\n",
            "12/12 [==============================] - 1s 115ms/step - loss: 0.0149 - accuracy: 0.9959 - val_loss: 0.0776 - val_accuracy: 0.9794\n",
            "Epoch 33/50\n",
            "12/12 [==============================] - 1s 116ms/step - loss: 0.0142 - accuracy: 0.9959 - val_loss: 0.0811 - val_accuracy: 0.9787\n",
            "Epoch 34/50\n",
            "12/12 [==============================] - 1s 115ms/step - loss: 0.0150 - accuracy: 0.9954 - val_loss: 0.0770 - val_accuracy: 0.9803\n",
            "Epoch 35/50\n",
            "12/12 [==============================] - 1s 114ms/step - loss: 0.0144 - accuracy: 0.9957 - val_loss: 0.0778 - val_accuracy: 0.9795\n",
            "Epoch 36/50\n",
            "12/12 [==============================] - 1s 115ms/step - loss: 0.0136 - accuracy: 0.9961 - val_loss: 0.0815 - val_accuracy: 0.9788\n",
            "Epoch 37/50\n",
            "12/12 [==============================] - 1s 116ms/step - loss: 0.0122 - accuracy: 0.9964 - val_loss: 0.0780 - val_accuracy: 0.9800\n",
            "Epoch 38/50\n",
            "12/12 [==============================] - 1s 116ms/step - loss: 0.0125 - accuracy: 0.9965 - val_loss: 0.0829 - val_accuracy: 0.9792\n",
            "Epoch 39/50\n",
            "12/12 [==============================] - 1s 115ms/step - loss: 0.0113 - accuracy: 0.9968 - val_loss: 0.0808 - val_accuracy: 0.9801\n",
            "Epoch 40/50\n",
            "12/12 [==============================] - 1s 114ms/step - loss: 0.0102 - accuracy: 0.9970 - val_loss: 0.0805 - val_accuracy: 0.9804\n",
            "Epoch 41/50\n",
            "12/12 [==============================] - 1s 115ms/step - loss: 0.0115 - accuracy: 0.9966 - val_loss: 0.0830 - val_accuracy: 0.9814\n",
            "Epoch 42/50\n",
            "12/12 [==============================] - 1s 115ms/step - loss: 0.0098 - accuracy: 0.9972 - val_loss: 0.0816 - val_accuracy: 0.9799\n",
            "Epoch 43/50\n",
            "12/12 [==============================] - 1s 115ms/step - loss: 0.0099 - accuracy: 0.9970 - val_loss: 0.0818 - val_accuracy: 0.9803\n",
            "Epoch 44/50\n",
            "12/12 [==============================] - 1s 116ms/step - loss: 0.0089 - accuracy: 0.9973 - val_loss: 0.0829 - val_accuracy: 0.9803\n",
            "Epoch 45/50\n",
            "12/12 [==============================] - 1s 116ms/step - loss: 0.0096 - accuracy: 0.9969 - val_loss: 0.0837 - val_accuracy: 0.9803\n",
            "Epoch 46/50\n",
            "12/12 [==============================] - 1s 115ms/step - loss: 0.0079 - accuracy: 0.9978 - val_loss: 0.0819 - val_accuracy: 0.9804\n",
            "Epoch 47/50\n",
            "12/12 [==============================] - 1s 115ms/step - loss: 0.0079 - accuracy: 0.9980 - val_loss: 0.0850 - val_accuracy: 0.9795\n",
            "Epoch 48/50\n",
            "12/12 [==============================] - 1s 114ms/step - loss: 0.0073 - accuracy: 0.9980 - val_loss: 0.0850 - val_accuracy: 0.9799\n",
            "Epoch 49/50\n",
            "12/12 [==============================] - 2s 157ms/step - loss: 0.0076 - accuracy: 0.9977 - val_loss: 0.0867 - val_accuracy: 0.9799\n",
            "Epoch 50/50\n",
            "12/12 [==============================] - 1s 113ms/step - loss: 0.0077 - accuracy: 0.9979 - val_loss: 0.0851 - val_accuracy: 0.9797\n",
            "\n",
            " Evaluate the new model against the test set:\n",
            "3/3 [==============================] - 0s 32ms/step - loss: 0.0733 - accuracy: 0.9814\n"
          ]
        },
        {
          "output_type": "execute_result",
          "data": {
            "text/plain": [
              "[0.0733022391796112, 0.9814000129699707]"
            ]
          },
          "metadata": {},
          "execution_count": 24
        },
        {
          "output_type": "display_data",
          "data": {
            "text/plain": [
              "<Figure size 432x288 with 1 Axes>"
            ],
            "image/png": "[encoded data removed]"
          },
          "metadata": {
            "needs_background": "light"
          }
        }
      ]
    }
  ]
}